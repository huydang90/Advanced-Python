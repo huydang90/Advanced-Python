{
 "cells": [
  {
   "cell_type": "markdown",
   "metadata": {},
   "source": [
    "## List of topics\n",
    "\n",
    "- Class\n",
    "- Decorator\n",
    "- Generator\n",
    "- Context Manager\n",
    "- Web Scraping\n",
    "- Data Structure\n",
    "- Lambda\n",
    "- Map, Filter, Reduce\n",
    "- Unpacking: * and **\n",
    "- args and kwargs"
   ]
  },
  {
   "cell_type": "markdown",
   "metadata": {},
   "source": [
    "\n",
    "3 interesting features in Python: decorator, generator and context-manager\n",
    "\n",
    "#### Fundamental pattern 1: Protocol view of Python\n",
    "- Protocol view of Python: Python Data Model(dunder/magic methods) is a mean by which we can implement protocols. Those protocols have abstract meanings, depending on the object itself. Top level function/syntax -> corresponding __method__\n",
    "- Built-in inheritance protocol and how it works, where you go on a Python object to learn/look for things \n",
    "- Caveats about how OOP in Python works\n",
    "\n",
    "#### Fundamental pattern 2: Decorator\n",
    "- Other languages are often upfront. If you make a mistakes in the beginning, very hard to fix\n",
    "- Python: usually you can write the simplest, stupidest solution. And then later can come back and optimize. A number of features are orientated around how to write the simplest things today and then when the problem gets a little harder, we have an add-in to make the code a bit longer => decorators: example: tracking time with time can be written in a decorator function and add onto other functions that needed to extent that functionality\n",
    "- take one function and wrap it with additional behavior, taking one aspect, core functionality and wrap a bunch of other functionality in a simple fashion => take the original function, wrap it with a little behavior before and after, like timing, authentication, logging\n",
    "- you can wrap many functions within functions (higher order decorators)\n",
    "\n",
    "#### Fundamental pattern 3: Generator\n",
    "- Eager execution: waits for the entire thing to be computed then give all the results all at once with return => wasteful and time lag can cause trouble in large computation and we might only be interested in the first few results anyway\n",
    "- Yield/generator doesn't return eagerly but work and return values as it computes (one is storage and eager computation and return => the other is no storage and simply returning value as you use them) => instead of eagerly computing values, you give value to the user as they ask for them (no wait time, no storage) => computation runtime still the same though\n",
    "- Generators are built upon the idea of code routine: we can interweave code from different code base, a little bit runs in one, a little bit runs in the other. Subroutine: any piece of executable code that runs from beginning to end, one single entry point, one single exit point and that's it. If you look at how code normally interact in user code and library code, if the subroutine is in library code, it has to run to completely until the other runs. For generator, you enter the generator, as you ask for value, it gives it to you => user code run, ask for values in library and generators give it, user code does whatever it wants with value, then come back and ask for another value => interleaving of two pieces of the code\n",
    "- Generators: a mechanism by which you can interleave codes with other code and also enforce sequences\n",
    "- Mental model: \n",
    "*def api():\n",
    "*    first_function()\n",
    "*    yield\n",
    "*    second_function()\n",
    "*    yield\n",
    "*    third_function()\n",
    "*    yield\n",
    "\n",
    "#### Fundamental pattern 4: Context Manager\n",
    "- Resource allocation. There's a corresponding setup and teardown. Some initial action and final action. \n",
    "- connect in sql is also a context manager\n",
    "- The exit is always after the enter => there's sequencing => generator\n",
    "- Context Manager: some piece of code that setup and tear down actions. Teardown actions always occurs if setup occurs. Allows us to enforce sequencing (exit has to follow setup) and interleaving. We also need sth to adapt generator to the data model we see at the beginning (__method__) => take the generator and wrap it in a method in some fashion => decorator (it's easy to construct dynamic function and have it wrap around other functions) \n",
    "\n",
    "#### Expert-level code in Python: \n",
    "A clarity of when and where a certain feature might be used. Doesn't waste time and the coder knows that there's a pattern in Python that fit with my purpose. The language provides the core pieces and you need to understand them to assemble the code.\n",
    "=> need to have a core conceptual understanding of what these features mean\n",
    "- Python is a language orientated around protocols : some behavior, syntax, top level code, function . And there's a way to tell Python how to implement that on arbitrary objects via __method__. Google python data model => will find all the methods and uses. Code runs from top to bottom. Everything is executable code => you can hook into them, define functions within functions, define class within functions based off of some runtime information that you have. \n",
    "- How these impact specific features: metaclass = some hook in the class construction process. Classes are constructed at runtime, you can hook code in there => because you can hook into the creation of classes, you can ask questions like do you have these methods implemented. Simply, you have library and user code, when you're on library side, how do you enforce constraints on user code => some hook into how the classes in the user code are created => where you add metaclass, find the place to add that hook, assert and make sure that the method is implemented\n",
    "- Generator: take a single computation that would otherwise run eagerly from injection of its parameters to its final computation, and interleave with other codes by adding yield points where the code can yield intermediate values, and also yield control back to the call => can think of it as breaking up one long computation into small parts where each parts is known before the next is computed/run small subunit of that long computation, return partial values or the first values in the sequences of values => offer greater control on how much of that computation to run, whether to run it to completion or just partial way + greater control of memory use as the result is yielded instead of stored in memory \n",
    "- Context manager: some structure that allows you to tie 2 actions together (setup action and teardown action) => if setup occurs, make sure teardown also do, even if error occurs in between\n",
    "- These features are orthogonal but you can combine them in different ways. \n",
    "\n",
    "Metaclasses:\n",
    "- Case of a feature where, if you understand what the feature really is about, it's clear why and when to use it"
   ]
  },
  {
   "cell_type": "code",
   "execution_count": null,
   "metadata": {},
   "outputs": [],
   "source": [
    "#Generator class => already implemented in Python yield\n",
    "\n",
    "class Gen: \n",
    "    def __init__(self, n):\n",
    "        self.n = n\n",
    "        self.last = 0 \n",
    "        \n",
    "    def __next__(self):\n",
    "        return self.next()\n",
    "    \n",
    "    def next(self):\n",
    "        if self.last == self.n:\n",
    "            raise StopIteration()\n",
    "        rv = self.last ** 2\n",
    "        self.last += 1\n",
    "        return rv\n"
   ]
  },
  {
   "cell_type": "code",
   "execution_count": null,
   "metadata": {},
   "outputs": [],
   "source": [
    "#context manager\n",
    "\n",
    "from sqlite3 import connect\n",
    "\n",
    "with connect('test.db') as conn: \n",
    "    cur = conn.cursor()\n",
    "    cur.execute('create table points(x: int, y: int)')\n",
    "    cur.execute('insert into points (x , y) values(1,1)')\n",
    "    cur.execute('insert into points (x , y) values(1,2)')\n",
    "    cur.execute('insert into points (x , y) values(2,1)')\n",
    "    for row in cur.execute('select x, y from points'):\n",
    "        print(row)\n",
    "    for row in cur.execute('select sum(x * y) from points'):\n",
    "        print(row)\n",
    "    cur.execute('drop table points')"
   ]
  },
  {
   "cell_type": "code",
   "execution_count": null,
   "metadata": {},
   "outputs": [],
   "source": [
    "#write our own context manager\n",
    "\n",
    "class temptable:\n",
    "    \n",
    "    def __init__(self, cur):\n",
    "        self.cur = cur\n",
    "    def __enter__(self):\n",
    "        print('__enter__')\n",
    "        self.cur.execute('create table points(x: int, y: int)') #create table\n",
    "    def __exit__(self, *args):\n",
    "        print('__exit__')\n",
    "        self.cur.execute('drop table points') #drop table\n",
    "\n",
    "with temptable(cur):\n",
    "    with connect('test.db') as conn: \n",
    "        cur = conn.cursor()\n",
    "        cur.execute('insert into points (x , y) values(1,1)')\n",
    "        cur.execute('insert into points (x , y) values(1,2)')\n",
    "        cur.execute('insert into points (x , y) values(2,1)')\n",
    "        for row in cur.execute('select x, y from points'):\n",
    "            print(row)\n",
    "        for row in cur.execute('select sum(x * y) from points'):\n",
    "            print(row)\n"
   ]
  },
  {
   "cell_type": "code",
   "execution_count": null,
   "metadata": {},
   "outputs": [],
   "source": [
    "from contextlib import contextmanager #turns decorator into context manager\n",
    "\n",
    "@contextmanager\n",
    "def temptable(cur):\n",
    "    print('__enter__')\n",
    "    cur.execute('create table points(x: int, y: int)') #create table\n",
    "    try: \n",
    "        yield\n",
    "    finally: \n",
    "        cur.execute('drop table points')\n",
    "        print('__exit__')\n",
    "\n",
    "with connect('test.db') as conn: \n",
    "    cur = conn.cursor()\n",
    "    with temptable(cur): \n",
    "        cur = conn.cursor()\n",
    "        cur.execute('insert into points (x , y) values(1,1)')\n",
    "        cur.execute('insert into points (x , y) values(1,2)')\n",
    "        cur.execute('insert into points (x , y) values(2,1)')\n",
    "        for row in cur.execute('select x, y from points'):\n",
    "            print(row)\n",
    "        for row in cur.execute('select sum(x * y) from points'):\n",
    "            print(row)\n"
   ]
  },
  {
   "cell_type": "markdown",
   "metadata": {},
   "source": [
    "REAL PYTHON - INTERMEDIATE PYTHON: https://www.youtube.com/watch?v=iba-I4CrmyA&list=PLP8GkvaIxJP0VAXF3USi9U4JnpxUvQXHx&index=8\n",
    "\n",
    "EXPERT PYTHON: https://www.youtube.com/watch?v=7lmCu8wz8ro\n",
    "\n",
    "OOP TUTORIAL: https://www.youtube.com/watch?v=RSl87lqOXDE&list=PL-osiE80TeTsqhIuOqKhwlXsIBIdSeYtc&index=4&t=41s"
   ]
  },
  {
   "cell_type": "markdown",
   "metadata": {},
   "source": [
    "### CLASS AND ITS CONCEPTS"
   ]
  },
  {
   "cell_type": "code",
   "execution_count": 19,
   "metadata": {},
   "outputs": [
    {
     "name": "stdout",
     "output_type": "stream",
     "text": [
      "a red car\n"
     ]
    },
    {
     "data": {
      "text/plain": [
       "'a red car'"
      ]
     },
     "execution_count": 19,
     "metadata": {},
     "output_type": "execute_result"
    }
   ],
   "source": [
    "#when to use __str__ and __repr__\n",
    "#difference: __str__ - representation for end user, giving an easy to read rep of the class\n",
    "#__repr__ representation for coder, easy to use internally and debug; unambiguous, explicit as possible \n",
    "#if __str__ is not written explicitly, when called, it returns __repr__\n",
    "\n",
    "class Car: \n",
    "    \n",
    "    def __init__(self, color, mileage):\n",
    "        self.color = color\n",
    "        self.mileage = mileage\n",
    "        \n",
    "    def __repr__(self): \n",
    "        return '{self.__class__.__name__}({self.color}, {self.mileage})'.format(self = self)\n",
    "        \n",
    "    def __str__(self):\n",
    "        return 'a {self.color} car'.format(self = self)\n",
    "    \n",
    "my_car= Car(\"red\", 233000)\n",
    "my_car\n",
    "#to see representation of my_car\n",
    "print(my_car)\n",
    "str(my_car)"
   ]
  },
  {
   "cell_type": "code",
   "execution_count": 130,
   "metadata": {},
   "outputs": [
    {
     "name": "stdout",
     "output_type": "stream",
     "text": [
      "False\n",
      "Developer:Corey Schafer, Pay: 50000, Programming Language: Python\n"
     ]
    }
   ],
   "source": [
    "#Regular methods automatically takes the instance as the first argument => self\n",
    "# To change this, we use classmethod decorator so the method takes the class as the argument\n",
    "# Can use classmethod as alternative constructor => use these methods to create multiple ways of creating our objects\n",
    "\n",
    "#When working with regular methods => it automatically pass the instance as the first argument\n",
    "\n",
    "#CLASS METHOD automatically pass in the class argument (cls) \n",
    "#=> use when you want to provide a simple interface for user when class has complicated constructors that takes a lot of arguments\n",
    "#=> helps to make the API a little bit easier to work with \n",
    "#=> make pizza class: constructors has to pass in lots of ingredients for different pizzas \n",
    "#=> create classmethod for different types of pizzas so just need to pass the name of the pizzas in the instance\n",
    "\n",
    "#STATIC METHOD don't pass anything automatically => behave like regular function, except we include in the class since\n",
    "#they have some logical connection with the class\n",
    "#good to create self-contained method that doesn't have much to do with class or the object/instance \n",
    "#=> pizza example: static method to calculate the area of the circle of the pizza shape \n",
    "#=> easier to maintain the code; people read it in the future knows that this method will not modify the state/behavior of the class\n",
    "\n",
    "#inheritance allows us to inherit all the attributes and methods of parents class\n",
    "#we can create subclasses and get all the functionalities of our parents class and then we can\n",
    "#override or write new functionalities without affecting the parents class in anyway\n",
    "\n",
    "#property decorator: https://www.youtube.com/watch?v=jCzT9XFZ5bw\n",
    "#- allow us to define a method where we can access attributes\n",
    "#- define a method in a class, but it can also act as an attribute\n",
    "\n",
    "#setter decorator: \n",
    "#- ex: @fullname.setter\n",
    "\n",
    "#deleter decorator: \n",
    "#- ex: @fullname.deleter\n",
    "\n",
    "class Employee:\n",
    "\n",
    "    num_of_emps = 0\n",
    "    raise_amt = 1.04\n",
    "\n",
    "    def __init__(self, first, last, pay):\n",
    "        self.first = first\n",
    "        self.last = last\n",
    "        self.email = first + '.' + last + '@email.com'\n",
    "        self.pay = pay\n",
    "\n",
    "        Employee.num_of_emps +=1\n",
    "\n",
    "    def fullname(self):\n",
    "        return '{} {}'.format(self.first, self.last)\n",
    "\n",
    "    def apply_raise(self):\n",
    "        self.pay = int(self.pay + self.raise_amt)\n",
    "\n",
    "    @classmethod\n",
    "    def set_raise_amt(cls, amount):\n",
    "        cls.raise_amt = amount\n",
    "\n",
    "    #a function to determine whether it's a workday => has a connection to employee class but doesn't depend on any specfic instance/class variable\n",
    "    @staticmethod\n",
    "    def is_workday(day):\n",
    "        if day.weekday() == 5 or day.weekday() == 6:\n",
    "            return False\n",
    "        return True\n",
    "\n",
    "Employee.set_raise_amt(1.05)\n",
    "\n",
    "emp_1 = Employee(\"Corey\", \"Schafer\", 50000)\n",
    "emp_2 = Employee(\"Test\", \"Employee\", 60000)\n",
    "\n",
    "class Developer(Employee):\n",
    "    \n",
    "    raise_amt = 1.10\n",
    "    def __init__(self, first, last, pay, prog_lang):\n",
    "        super().__init__(first, last, pay)\n",
    "        self.prog_lang = prog_lang\n",
    "        \n",
    "    def __repr__(self):\n",
    "        return (f'Developer:{self.first} {self.last}, Pay: {self.pay}, Programming Language: {self.prog_lang}')\n",
    "\n",
    "import datetime\n",
    "\n",
    "my_date = datetime.date(2016, 7, 10)\n",
    "print(Employee.is_workday(my_date))\n",
    "\n",
    "dev_1 = Developer(\"Corey\", \"Schafer\", 50000, 'Python')\n",
    "print(dev_1)"
   ]
  },
  {
   "cell_type": "code",
   "execution_count": 34,
   "metadata": {},
   "outputs": [
    {
     "name": "stdout",
     "output_type": "stream",
     "text": [
      "Pizza(2.5, ['cheese', 'ham'])\n",
      "Pizza(2.4, ['cheese', 'tomato', 'basil'])\n"
     ]
    }
   ],
   "source": [
    "from math import pi\n",
    "\n",
    "class Pizza: \n",
    "    \n",
    "    def __init__(self, radius, ingredients):\n",
    "        self.radius = radius\n",
    "        self.ingredients = ingredients\n",
    "        \n",
    "    def __repr__(self):\n",
    "        return '{self.__class__.__name__}({self.radius}, {self.ingredients})'.format(self=self)\n",
    "        \n",
    "    def area(self):\n",
    "        return self._circle_area(self.radius)\n",
    "    \n",
    "    @classmethod\n",
    "    def margharita(cls, radius):\n",
    "        return cls(radius,['cheese','tomato', 'basil'])\n",
    "    \n",
    "    @staticmethod\n",
    "    def _circle_area(r):\n",
    "        return pi*r**2\n",
    "    \n",
    "pizza = Pizza(2.5, ['cheese', 'ham'])\n",
    "print(pizza)\n",
    "pizza.area()\n",
    "\n",
    "pizza2 = Pizza.margharita(2.4)\n",
    "print(pizza2)"
   ]
  },
  {
   "cell_type": "code",
   "execution_count": 3,
   "metadata": {},
   "outputs": [
    {
     "name": "stdout",
     "output_type": "stream",
     "text": [
      "Clark Ken is actually Superman\n",
      "Peter Parker is actually Spiderman\n"
     ]
    }
   ],
   "source": [
    "#if you have two list, use zip to get elements from both \n",
    "\n",
    "names = [\"Clark Ken\", \"Peter Parker\"]\n",
    "heroes = [\"Superman\", \"Spiderman\"]\n",
    "\n",
    "for name, hero in zip(names, heroes):\n",
    "    print(f'{name} is actually {hero}')"
   ]
  },
  {
   "cell_type": "code",
   "execution_count": 4,
   "metadata": {},
   "outputs": [],
   "source": [
    "#class implementation\n",
    "#use setattr and getattr to easily dynamically add attributes to objects in class"
   ]
  },
  {
   "cell_type": "code",
   "execution_count": 5,
   "metadata": {},
   "outputs": [],
   "source": [
    "#password for security\n",
    "#import getpass from getpass"
   ]
  },
  {
   "cell_type": "code",
   "execution_count": 6,
   "metadata": {},
   "outputs": [],
   "source": [
    "#iteritems and xrange: \n",
    "\n",
    "#xrange gives us one item at a time instead of loading everything into memory in range()\n",
    "#iteritems gives us one item at a time instead of loading everything into memory in items()"
   ]
  },
  {
   "cell_type": "markdown",
   "metadata": {},
   "source": [
    "### Generator\n",
    "\n",
    "Yield one result at a time => not hold all values in memory => save memory and speed of execution \n"
   ]
  },
  {
   "cell_type": "code",
   "execution_count": 13,
   "metadata": {},
   "outputs": [
    {
     "data": {
      "text/plain": [
       "1"
      ]
     },
     "execution_count": 13,
     "metadata": {},
     "output_type": "execute_result"
    }
   ],
   "source": [
    "def square(nums):\n",
    "    for i in nums: \n",
    "        yield (i*i)\n",
    "\n",
    "my_num = square([1,2,3,4,5])\n",
    "next(my_num)"
   ]
  },
  {
   "cell_type": "code",
   "execution_count": 14,
   "metadata": {},
   "outputs": [
    {
     "name": "stdout",
     "output_type": "stream",
     "text": [
      "4\n",
      "9\n",
      "16\n",
      "25\n"
     ]
    }
   ],
   "source": [
    "for num in my_num: \n",
    "    print(num)"
   ]
  },
  {
   "cell_type": "markdown",
   "metadata": {},
   "source": [
    "### Walrus Operator\n",
    "\n",
    "Assignment expression: “allows you to store and test a value in the same line.”"
   ]
  },
  {
   "cell_type": "code",
   "execution_count": null,
   "metadata": {},
   "outputs": [],
   "source": [
    "#before\n",
    "nums = [87, 71, 58]\n",
    "max_range = max(nums) - min(nums)\n",
    "if max_range > 30: \n",
    "    print(\"Cool\")\n",
    "\n",
    "#with walrus:\n",
    "nums = [87, 71, 58]\n",
    "if (max_range := max(nums) - min(nums)) > 30: \n",
    "    print(\"Cool\")\n",
    "    \n",
    "#before\n",
    "[determinant(m) for m in matrices if determinant(m) > 0]\n",
    "\n",
    "#with walrus: if we have a lot of matrices, calculating the determinant twice per matrix could be costly, walrus can help\n",
    "[d for m in matrices if (d := determinant(m)) > 0]\n"
   ]
  },
  {
   "cell_type": "markdown",
   "metadata": {},
   "source": [
    "### String Formating\n",
    "\n",
    "Techniques: https://therenegadecoder.com/code/how-to-format-a-string-in-python/\n",
    "\n",
    "Best way is to use f-string\n",
    "\n",
    "Ex: \n",
    "\n",
    "print(f\"My name is {name}, and I am {age} years old\")"
   ]
  },
  {
   "cell_type": "markdown",
   "metadata": {},
   "source": [
    "### Switch/Case\n",
    "\n",
    "Helps to map condition to function in an easy, quick way\n",
    "\n",
    "func_dict = {\n",
    "    'condition_a' = handle_a,\n",
    "    'condition_b' = handle_b,\n",
    "}\n",
    "\n",
    "func_dict.get(condition, handle_default)()"
   ]
  },
  {
   "cell_type": "code",
   "execution_count": null,
   "metadata": {},
   "outputs": [],
   "source": [
    "def dispatch_if(operator, x, y):\n",
    "    if operator == \"add\":\n",
    "        return x+y\n",
    "    elif operator == 'sub':\n",
    "        return x-y\n",
    "    elif operator == 'mul':\n",
    "        return x*y\n",
    "    elif operator == 'div':\n",
    "        return x/y\n",
    "    return None\n",
    "\n",
    "def dispatch_if_2(operator, x, y):\n",
    "    return{\n",
    "        'add': lambda: x + y,\n",
    "        'sub': lambda: x - y,\n",
    "        'mul': lambda: x * y,\n",
    "        'div': lambda: x + y,\n",
    "    }.get(operator, lambda: None)()"
   ]
  },
  {
   "cell_type": "markdown",
   "metadata": {},
   "source": [
    "### Function Argument Unpacking (* and ** operators)\n",
    "\n",
    "- * is for tuple and list\n",
    "- ** is for dictionary unpacking"
   ]
  },
  {
   "cell_type": "code",
   "execution_count": 38,
   "metadata": {},
   "outputs": [
    {
     "name": "stdout",
     "output_type": "stream",
     "text": [
      "0 1 4\n"
     ]
    }
   ],
   "source": [
    "gen_exp = (x*x for x in range(3))\n",
    "#fully exhaust the generator\n",
    "print(*gen_exp)"
   ]
  },
  {
   "cell_type": "code",
   "execution_count": 45,
   "metadata": {},
   "outputs": [
    {
     "name": "stdout",
     "output_type": "stream",
     "text": [
      "{0: 3, 1: 3, 2: 3, 3: 3, 4: 3}\n"
     ]
    }
   ],
   "source": [
    "dict_gen = {x:y for x in range(5) for y in range(4)}\n",
    "print(dict_gen)"
   ]
  },
  {
   "cell_type": "code",
   "execution_count": 63,
   "metadata": {},
   "outputs": [
    {
     "data": {
      "text/plain": [
       "{'a': 1, 'b': 2, 'c': 3, 'd': 4}"
      ]
     },
     "execution_count": 63,
     "metadata": {},
     "output_type": "execute_result"
    }
   ],
   "source": [
    "#merge dictionary\n",
    "\n",
    "x = {\"a\": 1, 'b': 2}\n",
    "y = {'c': 3, 'd': 4}\n",
    "z = {**x, **y}\n",
    "z"
   ]
  },
  {
   "cell_type": "markdown",
   "metadata": {},
   "source": [
    "### Optional Arguments with *args & **kwargs\n",
    "\n",
    "- args: positional/optional arguments\n",
    "- kwargs: keyword arguments\n",
    "\n",
    "\n",
    "1. Can be used for subclassing: take everything that is there previously in the arguments of the parents class and forward it to the arguments in the child class\n",
    "2. Can be used in decorator function: args and kwargs can be wrapper for these functions and forward arguments to it"
   ]
  },
  {
   "cell_type": "code",
   "execution_count": 48,
   "metadata": {},
   "outputs": [
    {
     "name": "stdout",
     "output_type": "stream",
     "text": [
      "hello\n",
      "(1, 2, 3, 4)\n",
      "{'key1': 'fun', 'key2': 'done'}\n"
     ]
    }
   ],
   "source": [
    "def foo(required, *args, **kwargs):\n",
    "    print(required)\n",
    "    if args:\n",
    "        print(args)\n",
    "    if kwargs:\n",
    "        print(kwargs)\n",
    "        \n",
    "foo(\"hello\", 1,2,3,4, key1 = \"fun\", key2= \"done\")"
   ]
  },
  {
   "cell_type": "code",
   "execution_count": 50,
   "metadata": {},
   "outputs": [],
   "source": [
    "class Car:\n",
    "    def __init__(self, color, mileage):\n",
    "        self.color = color\n",
    "        self.mileage = mileage\n",
    "        \n",
    "class alwaysBlueCar(Car):\n",
    "    def __init__(self, *args, **kwargs):\n",
    "        super().__init__(*args, **kwargs)\n",
    "        self.color = 'blue'\n",
    "                    \n",
    "#problem is now alwaysBlueCar class has this behavior that the class itself do not control and maintenance might be difficult \n",
    "#should put a doc string in alwaysBlueCar to let people know"
   ]
  },
  {
   "cell_type": "markdown",
   "metadata": {},
   "source": [
    "### Context Manager and the 'with' statement\n",
    "\n",
    "with statement is good for simplifying some of the common resource management pattern (system resources: files, locks, network connections). 'with' statement can abstract some of the way the function common require like dealing with the acquisition and releasing of these resources back to the system. Usage: \n",
    "- open and close database automatically \n",
    "- apply and release locks\n",
    "\n",
    "Context manager: a simple protocol/interface/contract that your object follows so that they can be used with the 'with' statement"
   ]
  },
  {
   "cell_type": "code",
   "execution_count": 51,
   "metadata": {},
   "outputs": [],
   "source": [
    "#files => with statement makes sure the file will be closed after we're done with it\n",
    "\n",
    "with open('helloworld.txt', 'w') as f:\n",
    "    f.write(\"Hello World\")\n",
    "    \n",
    "#bad way\n",
    "f = open('helloworld.txt', 'w')\n",
    "try: \n",
    "    f.write(\"Hello World\")\n",
    "finally:\n",
    "    f.close()"
   ]
  },
  {
   "cell_type": "code",
   "execution_count": 52,
   "metadata": {},
   "outputs": [],
   "source": [
    "#2 methods needed in an object to be supported with the 'with': __enter__ and __exit__\n",
    "\n",
    "class ManagedFile:\n",
    "    def __init__(self, name):\n",
    "        self.name = name\n",
    "    \n",
    "    def __enter__(self):\n",
    "        self.file = open(self.name, 'w')\n",
    "        return self.file\n",
    "    \n",
    "    def __exit__(self, exc_type, exc_val, exc_tb):\n",
    "        if self.file:\n",
    "            self.file.close()\n",
    "            \n",
    "with ManagedFile('helloworld.txt') as f: \n",
    "    f.write(\"Hello World\")"
   ]
  },
  {
   "cell_type": "code",
   "execution_count": 53,
   "metadata": {},
   "outputs": [],
   "source": [
    "from contextlib import contextmanager\n",
    "\n",
    "@contextmanager\n",
    "def OpenFile(file, mode):\n",
    "    try: \n",
    "        f = open(file, mode)\n",
    "        yield f\n",
    "    finally:\n",
    "        f.close()\n",
    "        \n",
    "with OpenFile('sample.txt', 'w') as f: \n",
    "    f.write(\"Today's awesome\")\n",
    "\n",
    "print(f.closed) "
   ]
  },
  {
   "cell_type": "markdown",
   "metadata": {},
   "source": [
    "### Virtual Environment\n",
    "\n",
    "Packaging system to manage the dependencies of programs so other modules that the program uses that are not part of the standard library and we don't write ourselves. Pip install things in the global environment which might create conflicts in different projects that require different versions of the modules => Virtualenv allows use to keep all the dependencies of the projects, including different versions of the dependencies\n",
    "=> create an isolated python env with all the packages and dependencies\n",
    "\n",
    "https://www.youtube.com/watch?v=UqkT2Ml9beg"
   ]
  },
  {
   "cell_type": "markdown",
   "metadata": {},
   "source": [
    "- Create new project\n",
    "- Change to the directory of that project with: cd\n",
    "- Create virtual environment: python3 -m venv ./venv #create VE inside the python project\n",
    "- Check the VE with: ls\n",
    "- Check the tree structure of VE: tree ./venv\n",
    "- Activate the VE for the project: source ./venv/bin/activate\n",
    "- Check if everything's run in the virtual environment: which pip3\n",
    "- Now when you install things, you will go in the virtual env instead of global\n",
    "- See what is installed in a package: pip3 list\n",
    "- Install new module for the virtual env: pip3 install schedule\n",
    "- Check if the new module is installed inside virtualenv: pip3 list\n",
    "- Go back to global environment: deactivate"
   ]
  },
  {
   "cell_type": "markdown",
   "metadata": {},
   "source": [
    "### Pipenv - Manage Package and Virtual Environments\n",
    "\n",
    "Combine pip and venv"
   ]
  },
  {
   "cell_type": "code",
   "execution_count": null,
   "metadata": {},
   "outputs": [],
   "source": []
  },
  {
   "cell_type": "markdown",
   "metadata": {},
   "source": [
    "### Importlib - New Version of Modules\n",
    "\n",
    "In case when the modules import changes, we can bring the changes in with importlib"
   ]
  },
  {
   "cell_type": "code",
   "execution_count": null,
   "metadata": {},
   "outputs": [],
   "source": [
    "import importlib\n",
    "importlib.reload(awesome.py)"
   ]
  },
  {
   "cell_type": "markdown",
   "metadata": {},
   "source": [
    "### Unittest and Doctest - Testing code\n",
    "\n",
    "Allows for developers to create a class of tests that are run and analyzed flexibly: \n",
    "- Create a test class as a subclass of the unittest.TestCase type,\n",
    "- Add tests as methods of this class, make sure that name of each test functions begins with 'test'\n",
    "- Add unittest.main() to main loop to run"
   ]
  },
  {
   "cell_type": "code",
   "execution_count": null,
   "metadata": {},
   "outputs": [],
   "source": [
    "import unittest\n",
    "\n",
    "class FactorialTest(unittest.TestCase):\n",
    "    def testSingleValue(self):\n",
    "        self.assertEqual(factorial(5), 120)\n",
    "        \n",
    "    def testMultipleValues(self):\n",
    "        self.assertRaise(TypeError, factorial, [1,2,3,4])\n",
    "        \n",
    "    def testBoolean(self):\n",
    "        self.assertTrue(factorial(5) == 120)\n",
    "        \n",
    "def main():\n",
    "    unittest.main()\n",
    "\n",
    "if __name__ == \"__main__\":\n",
    "    main()"
   ]
  },
  {
   "cell_type": "markdown",
   "metadata": {},
   "source": [
    "### Profiling\n",
    "\n",
    "cProfiler - easiest is to call the module with the python file in the terminal:\n",
    "- python -m cProfiler myscript.py"
   ]
  },
  {
   "cell_type": "code",
   "execution_count": null,
   "metadata": {},
   "outputs": [],
   "source": [
    "import cProfiler \n",
    "\n",
    "# some functions\n",
    "\n",
    "cProfiler.run(#function)"
   ]
  },
  {
   "cell_type": "code",
   "execution_count": 104,
   "metadata": {},
   "outputs": [
    {
     "data": {
      "text/plain": [
       "[4,\n",
       " 6,\n",
       " 8,\n",
       " 9,\n",
       " 10,\n",
       " 12,\n",
       " 12,\n",
       " 14,\n",
       " 15,\n",
       " 16,\n",
       " 16,\n",
       " 18,\n",
       " 18,\n",
       " 20,\n",
       " 20,\n",
       " 21,\n",
       " 22,\n",
       " 24,\n",
       " 24,\n",
       " 24,\n",
       " 25,\n",
       " 26,\n",
       " 27,\n",
       " 28,\n",
       " 28,\n",
       " 30,\n",
       " 30,\n",
       " 30,\n",
       " 32,\n",
       " 32,\n",
       " 33,\n",
       " 34,\n",
       " 35,\n",
       " 36,\n",
       " 36,\n",
       " 36,\n",
       " 36,\n",
       " 38,\n",
       " 39,\n",
       " 40,\n",
       " 40,\n",
       " 40,\n",
       " 42,\n",
       " 42,\n",
       " 42,\n",
       " 44,\n",
       " 44,\n",
       " 45,\n",
       " 45,\n",
       " 46,\n",
       " 48,\n",
       " 48,\n",
       " 48,\n",
       " 48,\n",
       " 49,\n",
       " 50,\n",
       " 50,\n",
       " 51,\n",
       " 52,\n",
       " 52,\n",
       " 54,\n",
       " 54,\n",
       " 54,\n",
       " 55,\n",
       " 56,\n",
       " 56,\n",
       " 56,\n",
       " 57,\n",
       " 58,\n",
       " 60,\n",
       " 60,\n",
       " 60,\n",
       " 60,\n",
       " 60,\n",
       " 62,\n",
       " 63,\n",
       " 63,\n",
       " 64,\n",
       " 64,\n",
       " 64,\n",
       " 65,\n",
       " 66,\n",
       " 66,\n",
       " 66,\n",
       " 68,\n",
       " 68,\n",
       " 69,\n",
       " 70,\n",
       " 70,\n",
       " 70,\n",
       " 72,\n",
       " 72,\n",
       " 72,\n",
       " 72,\n",
       " 72,\n",
       " 74,\n",
       " 75,\n",
       " 75,\n",
       " 76,\n",
       " 76,\n",
       " 77,\n",
       " 78,\n",
       " 78,\n",
       " 78,\n",
       " 80,\n",
       " 80,\n",
       " 80,\n",
       " 80,\n",
       " 81,\n",
       " 81,\n",
       " 82,\n",
       " 84,\n",
       " 84,\n",
       " 84,\n",
       " 84,\n",
       " 84,\n",
       " 85,\n",
       " 86,\n",
       " 87,\n",
       " 88,\n",
       " 88,\n",
       " 88,\n",
       " 90,\n",
       " 90,\n",
       " 90,\n",
       " 90,\n",
       " 90,\n",
       " 91,\n",
       " 92,\n",
       " 92,\n",
       " 93,\n",
       " 94,\n",
       " 95,\n",
       " 96,\n",
       " 96,\n",
       " 96,\n",
       " 96,\n",
       " 96,\n",
       " 98,\n",
       " 98,\n",
       " 99,\n",
       " 99,\n",
       " 100,\n",
       " 100,\n",
       " 100,\n",
       " 100,\n",
       " 102,\n",
       " 102,\n",
       " 102,\n",
       " 104,\n",
       " 104,\n",
       " 104,\n",
       " 105,\n",
       " 105,\n",
       " 105,\n",
       " 106,\n",
       " 108,\n",
       " 108,\n",
       " 108,\n",
       " 108,\n",
       " 108,\n",
       " 110,\n",
       " 110,\n",
       " 110,\n",
       " 111,\n",
       " 112,\n",
       " 112,\n",
       " 112,\n",
       " 112,\n",
       " 114,\n",
       " 114,\n",
       " 114,\n",
       " 115,\n",
       " 116,\n",
       " 116,\n",
       " 117,\n",
       " 117,\n",
       " 118,\n",
       " 119,\n",
       " 120,\n",
       " 120,\n",
       " 120,\n",
       " 120,\n",
       " 120,\n",
       " 120,\n",
       " 120,\n",
       " 121,\n",
       " 122,\n",
       " 123,\n",
       " 124,\n",
       " 124,\n",
       " 125,\n",
       " 126,\n",
       " 126,\n",
       " 126,\n",
       " 126,\n",
       " 126,\n",
       " 128,\n",
       " 128,\n",
       " 128,\n",
       " 129,\n",
       " 130,\n",
       " 130,\n",
       " 130,\n",
       " 132,\n",
       " 132,\n",
       " 132,\n",
       " 132,\n",
       " 132,\n",
       " 133,\n",
       " 134,\n",
       " 135,\n",
       " 135,\n",
       " 135,\n",
       " 136,\n",
       " 136,\n",
       " 136,\n",
       " 138,\n",
       " 138,\n",
       " 138,\n",
       " 140,\n",
       " 140,\n",
       " 140,\n",
       " 140,\n",
       " 140,\n",
       " 141,\n",
       " 142,\n",
       " 143,\n",
       " 144,\n",
       " 144,\n",
       " 144,\n",
       " 144,\n",
       " 144,\n",
       " 144,\n",
       " 144,\n",
       " 145,\n",
       " 146,\n",
       " 147,\n",
       " 147,\n",
       " 148,\n",
       " 148,\n",
       " 150,\n",
       " 150,\n",
       " 150,\n",
       " 150,\n",
       " 150,\n",
       " 152,\n",
       " 152,\n",
       " 152,\n",
       " 153,\n",
       " 153,\n",
       " 154,\n",
       " 154,\n",
       " 154,\n",
       " 155,\n",
       " 156,\n",
       " 156,\n",
       " 156,\n",
       " 156,\n",
       " 156,\n",
       " 158,\n",
       " 159,\n",
       " 160,\n",
       " 160,\n",
       " 160,\n",
       " 160,\n",
       " 160,\n",
       " 161,\n",
       " 162,\n",
       " 162,\n",
       " 162,\n",
       " 162,\n",
       " 164,\n",
       " 164,\n",
       " 165,\n",
       " 165,\n",
       " 165,\n",
       " 166,\n",
       " 168,\n",
       " 168,\n",
       " 168,\n",
       " 168,\n",
       " 168,\n",
       " 168,\n",
       " 168,\n",
       " 169,\n",
       " 170,\n",
       " 170,\n",
       " 170,\n",
       " 171,\n",
       " 171,\n",
       " 172,\n",
       " 172,\n",
       " 174,\n",
       " 174,\n",
       " 174,\n",
       " 175,\n",
       " 175,\n",
       " 176,\n",
       " 176,\n",
       " 176,\n",
       " 176,\n",
       " 177,\n",
       " 178,\n",
       " 180,\n",
       " 180,\n",
       " 180,\n",
       " 180,\n",
       " 180,\n",
       " 180,\n",
       " 180,\n",
       " 180,\n",
       " 182,\n",
       " 182,\n",
       " 182,\n",
       " 183,\n",
       " 184,\n",
       " 184,\n",
       " 184,\n",
       " 185,\n",
       " 186,\n",
       " 186,\n",
       " 186,\n",
       " 187,\n",
       " 188,\n",
       " 188,\n",
       " 189,\n",
       " 189,\n",
       " 189,\n",
       " 190,\n",
       " 190,\n",
       " 190,\n",
       " 192,\n",
       " 192,\n",
       " 192,\n",
       " 192,\n",
       " 192,\n",
       " 192,\n",
       " 194,\n",
       " 195,\n",
       " 195,\n",
       " 195,\n",
       " 196,\n",
       " 196,\n",
       " 196,\n",
       " 196,\n",
       " 198,\n",
       " 198,\n",
       " 198,\n",
       " 198,\n",
       " 198,\n",
       " 200,\n",
       " 200,\n",
       " 200,\n",
       " 200,\n",
       " 200,\n",
       " 201,\n",
       " 202,\n",
       " 203,\n",
       " 204,\n",
       " 204,\n",
       " 204,\n",
       " 204,\n",
       " 204,\n",
       " 205,\n",
       " 206,\n",
       " 207,\n",
       " 207,\n",
       " 208,\n",
       " 208,\n",
       " 208,\n",
       " 208,\n",
       " 209,\n",
       " 210,\n",
       " 210,\n",
       " 210,\n",
       " 210,\n",
       " 210,\n",
       " 210,\n",
       " 210,\n",
       " 212,\n",
       " 212,\n",
       " 213,\n",
       " 214,\n",
       " 215,\n",
       " 216,\n",
       " 216,\n",
       " 216,\n",
       " 216,\n",
       " 216,\n",
       " 216,\n",
       " 216,\n",
       " 217,\n",
       " 218,\n",
       " 219,\n",
       " 220,\n",
       " 220,\n",
       " 220,\n",
       " 220,\n",
       " 220,\n",
       " 221,\n",
       " 222,\n",
       " 222,\n",
       " 222,\n",
       " 224,\n",
       " 224,\n",
       " 224,\n",
       " 224,\n",
       " 224,\n",
       " 225,\n",
       " 225,\n",
       " 225,\n",
       " 225,\n",
       " 226,\n",
       " 228,\n",
       " 228,\n",
       " 228,\n",
       " 228,\n",
       " 228,\n",
       " 230,\n",
       " 230,\n",
       " 230,\n",
       " 231,\n",
       " 231,\n",
       " 231,\n",
       " 232,\n",
       " 232,\n",
       " 232,\n",
       " 234,\n",
       " 234,\n",
       " 234,\n",
       " 234,\n",
       " 234,\n",
       " 235,\n",
       " 236,\n",
       " 236,\n",
       " 237,\n",
       " 238,\n",
       " 238,\n",
       " 238,\n",
       " 240,\n",
       " 240,\n",
       " 240,\n",
       " 240,\n",
       " 240,\n",
       " 240,\n",
       " 240,\n",
       " 240,\n",
       " 240,\n",
       " 242,\n",
       " 242,\n",
       " 243,\n",
       " 243,\n",
       " 244,\n",
       " 244,\n",
       " 245,\n",
       " 245,\n",
       " 246,\n",
       " 246,\n",
       " 246,\n",
       " 247,\n",
       " 248,\n",
       " 248,\n",
       " 248,\n",
       " 249,\n",
       " 250,\n",
       " 250,\n",
       " 250,\n",
       " 252,\n",
       " 252,\n",
       " 252,\n",
       " 252,\n",
       " 252,\n",
       " 252,\n",
       " 252,\n",
       " 252,\n",
       " 253,\n",
       " 254,\n",
       " 255,\n",
       " 255,\n",
       " 255,\n",
       " 256,\n",
       " 256,\n",
       " 256,\n",
       " 256,\n",
       " 258,\n",
       " 258,\n",
       " 258,\n",
       " 259,\n",
       " 260,\n",
       " 260,\n",
       " 260,\n",
       " 260,\n",
       " 260,\n",
       " 261,\n",
       " 261,\n",
       " 262,\n",
       " 264,\n",
       " 264,\n",
       " 264,\n",
       " 264,\n",
       " 264,\n",
       " 264,\n",
       " 264,\n",
       " 265,\n",
       " 266,\n",
       " 266,\n",
       " 266,\n",
       " 267,\n",
       " 268,\n",
       " 268,\n",
       " 270,\n",
       " 270,\n",
       " 270,\n",
       " 270,\n",
       " 270,\n",
       " 270,\n",
       " 270,\n",
       " 272,\n",
       " 272,\n",
       " 272,\n",
       " 272,\n",
       " 273,\n",
       " 273,\n",
       " 273,\n",
       " 274,\n",
       " 275,\n",
       " 275,\n",
       " 276,\n",
       " 276,\n",
       " 276,\n",
       " 276,\n",
       " 276,\n",
       " 278,\n",
       " 279,\n",
       " 279,\n",
       " 280,\n",
       " 280,\n",
       " 280,\n",
       " 280,\n",
       " 280,\n",
       " 280,\n",
       " 280,\n",
       " 282,\n",
       " 282,\n",
       " 282,\n",
       " 284,\n",
       " 284,\n",
       " 285,\n",
       " 285,\n",
       " 285,\n",
       " 286,\n",
       " 286,\n",
       " 286,\n",
       " 287,\n",
       " 288,\n",
       " 288,\n",
       " 288,\n",
       " 288,\n",
       " 288,\n",
       " 288,\n",
       " 288,\n",
       " 288,\n",
       " 289,\n",
       " 290,\n",
       " 290,\n",
       " 290,\n",
       " 291,\n",
       " 292,\n",
       " 292,\n",
       " 294,\n",
       " 294,\n",
       " 294,\n",
       " 294,\n",
       " 294,\n",
       " 295,\n",
       " 296,\n",
       " 296,\n",
       " 296,\n",
       " 297,\n",
       " 297,\n",
       " 297,\n",
       " 298,\n",
       " 299,\n",
       " 300,\n",
       " 300,\n",
       " 300,\n",
       " 300,\n",
       " 300,\n",
       " 300,\n",
       " 300,\n",
       " 300,\n",
       " 301,\n",
       " 302,\n",
       " 303,\n",
       " 304,\n",
       " 304,\n",
       " 304,\n",
       " 304,\n",
       " 305,\n",
       " 306,\n",
       " 306,\n",
       " 306,\n",
       " 306,\n",
       " 306,\n",
       " 308,\n",
       " 308,\n",
       " 308,\n",
       " 308,\n",
       " 308,\n",
       " 309,\n",
       " 310,\n",
       " 310,\n",
       " 310,\n",
       " 312,\n",
       " 312,\n",
       " 312,\n",
       " 312,\n",
       " 312,\n",
       " 312,\n",
       " 312,\n",
       " 314,\n",
       " 315,\n",
       " 315,\n",
       " 315,\n",
       " 315,\n",
       " 315,\n",
       " 316,\n",
       " 316,\n",
       " 318,\n",
       " 318,\n",
       " 318,\n",
       " 319,\n",
       " 320,\n",
       " 320,\n",
       " 320,\n",
       " 320,\n",
       " 320,\n",
       " 320,\n",
       " 321,\n",
       " 322,\n",
       " 322,\n",
       " 322,\n",
       " 323,\n",
       " 324,\n",
       " 324,\n",
       " 324,\n",
       " 324,\n",
       " 324,\n",
       " 324,\n",
       " 324,\n",
       " 325,\n",
       " 325,\n",
       " 326,\n",
       " 327,\n",
       " 328,\n",
       " 328,\n",
       " 328,\n",
       " 329,\n",
       " 330,\n",
       " 330,\n",
       " 330,\n",
       " 330,\n",
       " 330,\n",
       " 330,\n",
       " 330,\n",
       " 332,\n",
       " 332,\n",
       " 333,\n",
       " 333,\n",
       " 334,\n",
       " 335,\n",
       " 336,\n",
       " 336,\n",
       " 336,\n",
       " 336,\n",
       " 336,\n",
       " 336,\n",
       " 336,\n",
       " 336,\n",
       " 336,\n",
       " 338,\n",
       " 338,\n",
       " 339,\n",
       " 340,\n",
       " 340,\n",
       " 340,\n",
       " 340,\n",
       " 340,\n",
       " 341,\n",
       " 342,\n",
       " 342,\n",
       " 342,\n",
       " 342,\n",
       " 342,\n",
       " 343,\n",
       " 344,\n",
       " 344,\n",
       " 344,\n",
       " 345,\n",
       " 345,\n",
       " 345,\n",
       " 346,\n",
       " 348,\n",
       " 348,\n",
       " 348,\n",
       " 348,\n",
       " 348,\n",
       " 350,\n",
       " 350,\n",
       " 350,\n",
       " 350,\n",
       " 350,\n",
       " 351,\n",
       " 351,\n",
       " 351,\n",
       " 352,\n",
       " 352,\n",
       " 352,\n",
       " 352,\n",
       " 352,\n",
       " 354,\n",
       " 354,\n",
       " 354,\n",
       " 355,\n",
       " 356,\n",
       " 356,\n",
       " 357,\n",
       " 357,\n",
       " 357,\n",
       " 358,\n",
       " 360,\n",
       " 360,\n",
       " 360,\n",
       " 360,\n",
       " 360,\n",
       " 360,\n",
       " 360,\n",
       " 360,\n",
       " 360,\n",
       " 360,\n",
       " 360,\n",
       " 362,\n",
       " 363,\n",
       " 363,\n",
       " 364,\n",
       " 364,\n",
       " 364,\n",
       " 364,\n",
       " 364,\n",
       " 365,\n",
       " 366,\n",
       " 366,\n",
       " 366,\n",
       " 368,\n",
       " 368,\n",
       " 368,\n",
       " 368,\n",
       " 369,\n",
       " 369,\n",
       " 370,\n",
       " 370,\n",
       " 370,\n",
       " 371,\n",
       " 372,\n",
       " 372,\n",
       " 372,\n",
       " 372,\n",
       " 372,\n",
       " 374,\n",
       " 374,\n",
       " 374,\n",
       " 375,\n",
       " 375,\n",
       " 375,\n",
       " 376,\n",
       " 376,\n",
       " 376,\n",
       " 377,\n",
       " 378,\n",
       " 378,\n",
       " 378,\n",
       " 378,\n",
       " 378,\n",
       " 378,\n",
       " 378,\n",
       " 380,\n",
       " 380,\n",
       " 380,\n",
       " 380,\n",
       " 381,\n",
       " 382,\n",
       " 384,\n",
       " 384,\n",
       " 384,\n",
       " 384,\n",
       " 384,\n",
       " 384,\n",
       " 384,\n",
       " 385,\n",
       " 385,\n",
       " 385,\n",
       " 386,\n",
       " 387,\n",
       " 387,\n",
       " 388,\n",
       " 388,\n",
       " 390,\n",
       " 390,\n",
       " 390,\n",
       " 390,\n",
       " 390,\n",
       " 390,\n",
       " 390,\n",
       " 391,\n",
       " 392,\n",
       " 392,\n",
       " 392,\n",
       " 392,\n",
       " 392,\n",
       " 393,\n",
       " 394,\n",
       " 395,\n",
       " 396,\n",
       " 396,\n",
       " 396,\n",
       " 396,\n",
       " 396,\n",
       " 396,\n",
       " 396,\n",
       " 396,\n",
       " 398,\n",
       " 399,\n",
       " 399,\n",
       " 400,\n",
       " 400,\n",
       " 400,\n",
       " 400,\n",
       " 400,\n",
       " 400,\n",
       " 402,\n",
       " 402,\n",
       " 402,\n",
       " 403,\n",
       " 404,\n",
       " 404,\n",
       " 405,\n",
       " 405,\n",
       " 405,\n",
       " 405,\n",
       " 406,\n",
       " 406,\n",
       " 406,\n",
       " 407,\n",
       " 408,\n",
       " 408,\n",
       " 408,\n",
       " 408,\n",
       " 408,\n",
       " 408,\n",
       " 408,\n",
       " 410,\n",
       " 410,\n",
       " 410,\n",
       " 411,\n",
       " 412,\n",
       " 412,\n",
       " 413,\n",
       " 414,\n",
       " 414,\n",
       " 414,\n",
       " 414,\n",
       " 414,\n",
       " 415,\n",
       " 416,\n",
       " 416,\n",
       " 416,\n",
       " 416,\n",
       " 416,\n",
       " 417,\n",
       " 418,\n",
       " 418,\n",
       " 420,\n",
       " 420,\n",
       " 420,\n",
       " 420,\n",
       " 420,\n",
       " 420,\n",
       " 420,\n",
       " 420,\n",
       " 420,\n",
       " 420,\n",
       " 422,\n",
       " 423,\n",
       " 423,\n",
       " 424,\n",
       " 424,\n",
       " 424,\n",
       " 425,\n",
       " 425,\n",
       " 426,\n",
       " 426,\n",
       " 426,\n",
       " 427,\n",
       " 428,\n",
       " 428,\n",
       " 429,\n",
       " 429,\n",
       " 429,\n",
       " 430,\n",
       " 430,\n",
       " 430,\n",
       " 432,\n",
       " 432,\n",
       " 432,\n",
       " 432,\n",
       " 432,\n",
       " 432,\n",
       " 432,\n",
       " 432,\n",
       " 432,\n",
       " 434,\n",
       " 434,\n",
       " 434,\n",
       " 435,\n",
       " 435,\n",
       " 435,\n",
       " 436,\n",
       " 436,\n",
       " 438,\n",
       " 438,\n",
       " 438,\n",
       " 440,\n",
       " 440,\n",
       " 440,\n",
       " 440,\n",
       " 440,\n",
       " 440,\n",
       " 441,\n",
       " 441,\n",
       " 441,\n",
       " 442,\n",
       " 442,\n",
       " 442,\n",
       " 444,\n",
       " 444,\n",
       " 444,\n",
       " 444,\n",
       " 444,\n",
       " 445,\n",
       " 446,\n",
       " 447,\n",
       " 448,\n",
       " 448,\n",
       " 448,\n",
       " 448,\n",
       " 448,\n",
       " 448,\n",
       " 450,\n",
       " 450,\n",
       " 450,\n",
       " 450,\n",
       " 450,\n",
       " 450,\n",
       " 450,\n",
       " 450,\n",
       " 451,\n",
       " 452,\n",
       " 452,\n",
       " 453,\n",
       " 454,\n",
       " 455,\n",
       " 455,\n",
       " 455,\n",
       " 456,\n",
       " 456,\n",
       " 456,\n",
       " 456,\n",
       " 456,\n",
       " 456,\n",
       " 458,\n",
       " 459,\n",
       " 459,\n",
       " 459,\n",
       " 460,\n",
       " 460,\n",
       " 460,\n",
       " 460,\n",
       " 462,\n",
       " 462,\n",
       " 462,\n",
       " 462,\n",
       " 462,\n",
       " 462,\n",
       " 464,\n",
       " 464,\n",
       " 464,\n",
       " 464,\n",
       " 465,\n",
       " 465,\n",
       " ...]"
      ]
     },
     "execution_count": 104,
     "metadata": {},
     "output_type": "execute_result"
    }
   ],
   "source": [
    "nonprimes = [j for i in range(2,19) for j in range(i**2, 500, i)]\n",
    "nonprimes = sorted(nonprimes)\n",
    "nonprimes"
   ]
  },
  {
   "cell_type": "markdown",
   "metadata": {},
   "source": [
    "### Share packages on PyP"
   ]
  },
  {
   "cell_type": "code",
   "execution_count": null,
   "metadata": {},
   "outputs": [],
   "source": [
    "from setuptools import setup\n",
    "\n",
    "setup(name = \"pyTest\",\n",
    "      version = \"0.0.1\",\n",
    "      description = \"Awesome Python Package\",\n",
    "      author = \"Dang Ngoc Huy\",\n",
    "      author_email = \"huydang90@gmail.com\",\n",
    "      packages = ['feeling']\n",
    "     )"
   ]
  },
  {
   "cell_type": "markdown",
   "metadata": {},
   "source": [
    "### Underscores (_ & __) in Python variable names\n",
    "\n",
    "_ : by convention, a hint to another programmer that the variable is meant to be treated as a private variable by the programmer\n",
    "\n",
    "__: name mangling, change the name of that variable in a way that's gonna make it harder to create collision when someone else extends the class => ex: if you create a subclass and extend the inheritance, the name mangling prevents collision of naming in that subclass in the case when you use similar/same name \n"
   ]
  },
  {
   "cell_type": "markdown",
   "metadata": {},
   "source": [
    "### Type Hint\n",
    "\n",
    "Syntax extension added in Python 3.5, helps to specify the expected types of the argument and expected return type"
   ]
  },
  {
   "cell_type": "code",
   "execution_count": 54,
   "metadata": {},
   "outputs": [],
   "source": [
    "def add(a: int, b: int) -> int:\n",
    "    return a + b"
   ]
  },
  {
   "cell_type": "markdown",
   "metadata": {},
   "source": [
    "### Customs Exception\n",
    "\n",
    "Hints for why something goes wrong"
   ]
  },
  {
   "cell_type": "code",
   "execution_count": 55,
   "metadata": {},
   "outputs": [],
   "source": [
    "class NameTooShort(ValueError):\n",
    "    pass\n",
    "\n",
    "def validate(name):\n",
    "    if len(name) < 10:\n",
    "        raise NameTooShort(name)"
   ]
  },
  {
   "cell_type": "markdown",
   "metadata": {},
   "source": [
    "### Data Structure\n",
    "\n",
    "Sets: \n",
    "- take up more space but \n",
    "- provide much faster membership checkup (since it's backed by dictionary - hash table)\n",
    "- doesn't allow duplicates\n",
    "- no order\n",
    "- is dynamic, so can add new element to set with method .add() as long as it is hashable\n",
    "\n",
    "Set comprehension, similar to list comprehension"
   ]
  },
  {
   "cell_type": "code",
   "execution_count": 59,
   "metadata": {},
   "outputs": [
    {
     "data": {
      "text/plain": [
       "{0, 1, 4, 9, 16, 25, 36, 49, 64, 81}"
      ]
     },
     "execution_count": 59,
     "metadata": {},
     "output_type": "execute_result"
    }
   ],
   "source": [
    "squares = {x*x for x in range(10)}\n",
    "squares"
   ]
  },
  {
   "cell_type": "code",
   "execution_count": 60,
   "metadata": {},
   "outputs": [
    {
     "data": {
      "text/plain": [
       "{5}"
      ]
     },
     "execution_count": 60,
     "metadata": {},
     "output_type": "execute_result"
    }
   ],
   "source": [
    "#use set constructor to create empty set. Use {} will just create dictionary\n",
    "new_set = set()\n",
    "new_set.add(5)\n",
    "new_set"
   ]
  },
  {
   "cell_type": "code",
   "execution_count": 61,
   "metadata": {},
   "outputs": [
    {
     "ename": "AttributeError",
     "evalue": "'frozenset' object has no attribute 'add'",
     "output_type": "error",
     "traceback": [
      "\u001b[0;31m---------------------------------------------------------------------------\u001b[0m",
      "\u001b[0;31mAttributeError\u001b[0m                            Traceback (most recent call last)",
      "\u001b[0;32m<ipython-input-61-5a70db5dbf74>\u001b[0m in \u001b[0;36m<module>\u001b[0;34m\u001b[0m\n\u001b[1;32m      1\u001b[0m \u001b[0;31m#frozenset => cannot modify\u001b[0m\u001b[0;34m\u001b[0m\u001b[0;34m\u001b[0m\u001b[0m\n\u001b[1;32m      2\u001b[0m \u001b[0mfroze\u001b[0m \u001b[0;34m=\u001b[0m \u001b[0mfrozenset\u001b[0m\u001b[0;34m(\u001b[0m\u001b[0;34m)\u001b[0m\u001b[0;34m\u001b[0m\u001b[0m\n\u001b[0;32m----> 3\u001b[0;31m \u001b[0mfroze\u001b[0m\u001b[0;34m.\u001b[0m\u001b[0madd\u001b[0m\u001b[0;34m(\u001b[0m\u001b[0;36m5\u001b[0m\u001b[0;34m)\u001b[0m\u001b[0;34m\u001b[0m\u001b[0m\n\u001b[0m",
      "\u001b[0;31mAttributeError\u001b[0m: 'frozenset' object has no attribute 'add'"
     ]
    }
   ],
   "source": [
    "#frozenset => cannot modify, immutable, compeletely static => useful when you need a constant set\n",
    "vowels = frozenset({a, e, i, o, u})\n",
    "\n",
    "froze = frozenset()\n",
    "froze.add(5)"
   ]
  },
  {
   "cell_type": "code",
   "execution_count": 62,
   "metadata": {},
   "outputs": [
    {
     "data": {
      "text/plain": [
       "Counter({'bread': 5, 'sword': 2, 'shoes': 1})"
      ]
     },
     "execution_count": 62,
     "metadata": {},
     "output_type": "execute_result"
    }
   ],
   "source": [
    "#multisets (bags) => allows to have duplicates and knows how many times it is included in the set\n",
    "import collections \n",
    "inventory = collections.Counter()\n",
    "loot = {'bread': 2, 'sword': 1}\n",
    "inventory.update(loot)\n",
    "more_loot = {'bread': 3, 'sword': 1, 'shoes': 1}\n",
    "inventory.update(more_loot)\n",
    "inventory"
   ]
  },
  {
   "cell_type": "markdown",
   "metadata": {},
   "source": [
    "### Functional Programming\n",
    "\n",
    "A programming technique that avoid side effects of the program by performing mathematical computations by mainly through the evaluation of functions. Heavily use immutable data structures => reduce potential for bugs\n"
   ]
  },
  {
   "cell_type": "code",
   "execution_count": 64,
   "metadata": {},
   "outputs": [
    {
     "data": {
      "text/plain": [
       "'Ada Lovelace'"
      ]
     },
     "execution_count": 64,
     "metadata": {},
     "output_type": "execute_result"
    }
   ],
   "source": [
    "import collections\n",
    "Scientist = collections.namedtuple('Scientist', ['name', 'field', 'born', 'nobel'])\n",
    "ada = Scientist(name = \"Ada Lovelace\", field = 'math', born = 1895, nobel = False)\n",
    "ada.name"
   ]
  },
  {
   "cell_type": "code",
   "execution_count": 65,
   "metadata": {},
   "outputs": [
    {
     "name": "stdout",
     "output_type": "stream",
     "text": [
      "[Scientist(name='Ada Lovelace', field='math', born=1895, nobel=False),\n",
      " Scientist(name='Emme Noeathe', field='math', born=1895, nobel=True)]\n"
     ]
    }
   ],
   "source": [
    "scientist = [\n",
    "    Scientist(name = \"Ada Lovelace\", field = 'math', born = 1895, nobel = False), \n",
    "    Scientist(name = \"Emme Noeathe\", field = 'math', born = 1895, nobel = True)\n",
    "]\n",
    "\n",
    "from pprint import pprint #pretty print\n",
    "pprint(scientist)"
   ]
  },
  {
   "cell_type": "markdown",
   "metadata": {},
   "source": [
    "### OS modules\n",
    "\n",
    "The OS module allows us to interact wiht the underlying operating system in several different ways.\n",
    "\n",
    "- Navigate the file system\n",
    "- Get file information\n",
    "- Look up and change the environment variables\n",
    "- Move files around\n",
    "- Many more\n",
    "\n",
    "To begin, import the os module. This is a built in module, no third party modules need to be installed.\n",
    "\n",
    "https://www.youtube.com/watch?v=tJxcKyFMTGo"
   ]
  },
  {
   "cell_type": "code",
   "execution_count": 121,
   "metadata": {},
   "outputs": [
    {
     "name": "stdout",
     "output_type": "stream",
     "text": [
      "/Users/dangngochuy/Desktop\n",
      "/Users/dangngochuy/Desktop\n",
      "['vmls.pdf', 'sams-teach-yourself-sql-in-24-hours-4th-edition.pdf', 'Thoả thuận hợp tác TDC 2020 VN.docx', 'Screen Shot 2020-02-03 at 05.29.36.png', 'Home', 'photo.html', '~$ng-Thanh-Tung-Resume-VIETNAMESE.docx', 'Screen Shot 2019-12-12 at 23.59.45.png', 'Data Structure in Python', '~$a hồng.docx', 'Fluent Python.pdf', '~$thon Datacamp.docx', '~$EADING III & IV.docx', 'Screen Shot 2020-01-24 at 01.01.21.png', 'CommandLine.pdf', '.DS_Store', 'Berlin Days', 'Learning_Python.pdf', '~$̀i liệu 1 (1).docx', 'certificate.pdf', '~$i phat bieu_Huy dich (Autosaved).docx', '~$tro to TensorFlow for AI.docx', '~$3889 Public Management Policy Brief .docx', '400627f26be965c5473c5b5b8c1fc29e.png', 'Hertie', '.localized', '80971951_2527050100901485_3094656015602286592_o.png', '~$thon development.docx', 'chapter3.pdf', '21016172_10154686844466746_8623838640201089402_o.jpg', '[PROGRAMMING][Clean Code by Robert C Martin].pdf', '~$prove Deep Neural Network - Andrew NG.docx', '84564751_10218603539392543_1612856482750005248_n.jpg', 'Matriculation.png', 'DONGTAM-09022020.pdf', 'Book1.pdf', '~$ssay 2.docx', 'Screen Shot 2020-01-01 at 15.04.05.png', 'cfejji2hnsa41.jpg', '79769724_10219407338268399_2815598594378170368_n.jpg', 'f5pm4fo4qld41.png', 'Blackletter_Worksheet.pdf', 'Matriculation.pdf', 'Số liệu về tình hình tai nạn giao thông.docx', '83932416_2688084057979947_6658939028252917760_n.jpg', 'Screen Shot 2020-01-27 at 21.26.09.png', '3wz2ibuct2041.png', '83923524_10218561109371819_5734209106017779712_o.jpg', 'Screen Shot 2020-02-03 at 09.04.02.png', '~$ot bio and topic description_Ms. DoanThuNgan.docx', '83907834_158668202217622_575491648767655936_o.jpg', '80043512_2527050047568157_635687715660103680_o.png', 'An Introduction to Database Systems, 8th Edition, C J Date.pdf', '~$inh TC dieu chinh thoi gian trinh CP ke hoach trien khai (1).docx', 'Dang Ngoc Huy Passport.JPG', 'Unconfirmed 865907.crdownload', 'Designing Data-Intensive Applications.pdf', 'Thoả-thuận-hợp-tác-TDC-2020-VN-Tung Final.docx', 'Python for Data Analysis - Wes McKinney.pdf', '78669291_2547719265317456_2272462793972121600_n.jpg', 'Stanford Probability', 'Andalucia', '~$Travel Itinerary - Huy.xlsx', '~$ot Court Pleading - Applicant Group D1 - Final Draft.docx', 'Github', '84453201_2671868402894639_8721649633966686208_o.jpg', '~$imate Analytics - Cover Letter .docx', 'Econ_of_Crime_01 - Online1.pdf', '82117136_2629261287163253_3499093646844624896_o.jpg', '80608506_2527050094234819_865383150765735936_o.jpg', 'rkhkoq8ter541.jpg', 'Deep-Learning-with-PyTorch.pdf', 'Recommendation for Mr. Malija.pdf', '82494877_3400009220028704_1839283954549522432_o.jpg', '~$Doc1.docx', 'download.html', '~$ot Court Pleading Draft 1 - Clara.docx', 'Recommendation for Mr. Malija.docx', '.ipynb_checkpoints', 'pythonpractice', '84347695_124255592451072_985229544531165184_o.png', 'Deep Learning', '~$S Development.docx', 'Jobs', '78822489_2451763211616609_5334796307338887168_n.jpg', 'ProblemSolvingwithAlgorithmsandDataStructures.pdf', '~$ural network Andrew NG.docx', '~$eading 3 and 4 .docx', 'Screen Shot 2020-01-31 at 18.35.45.png', '79963124_2527050057568156_1421135378949079040_o.png', 'Screen Shot 2020-01-25 at 20.56.58.png', '~$geria Healthcare Solution_ Thies_Brady_Fetic_Dang.docx', '84206444_158069432277499_2151593850097893376_o.jpg', 'WhatsApp Image 2019-12-31 at 12.57.02 AM.pdf', 'introduction-to-probability-model-s.ross-math-cs.blog_.ir_.pdf', '~$tro to Computer Science and Programming in Python.docx', 'blackletter_guide.pdf', 'WhatsApp Image 2019-12-31 at 12.57.02 AM.jpeg', 'Ubuntu.Made_.Easy_.Jul_.2012.pdf']\n"
     ]
    }
   ],
   "source": [
    "import os\n",
    "\n",
    "print(os.getcwd())\n",
    "\n",
    "os.chdir('/Users/dangngochuy/Desktop/')\n",
    "\n",
    "os.makedirs('OS-Module/sub-modules')\n",
    "os.removedirs('OS-Module/sub-modules')\n",
    "\n",
    "print(os.getcwd())\n",
    "print(os.listdir())\n",
    "\n",
    "\n",
    "\n",
    "# Get current working directory\n",
    "os.getcwd()\n",
    "\n",
    "\n",
    "# Change directory, this requires a path to change to\n",
    "os.chdir(path)\n",
    "\n",
    "\n",
    "# List directory, you can pass a path, but by default it is in the current directory\n",
    "os.listdir()\n",
    "\n",
    "\n",
    "# Multiple options for creating directories\n",
    "mkdir()  # Use for making one directory\n",
    "makedirs(). # Use if you want to create multiple directories at once\n",
    "\n",
    "\n",
    "# Remove directories\n",
    "rmdir(file). # Recommended use case\n",
    "removedirs(file)  # Removes intermediate directories if specified\n",
    "\n",
    "\n",
    "# Rename a file or folder\n",
    "os.rename(‘test.txt’, ‘demo.txt’). # This renames text.txt to demo.txt\n",
    "\n",
    "\n",
    "# Look at info about files\n",
    "os.stat(test.txt)\n",
    "# Useful stat results: st_size (bytes), st_mtime (time stamp)\n",
    "\n",
    "\n",
    "# To see entire directory tree and files within\n",
    "# os.walk is a generator that yields a tuple of 3 values as it walks the directory tree\n",
    "\n",
    "for dirpath, dirnames, filenames in os.walk(routepath): \n",
    "    print(‘Current Path:’, dirpath)\n",
    "    print(‘Directories:’, dirnames)\n",
    "    print(‘Files:’, filenames)\n",
    "    print()\n",
    "\n",
    "# This is useful for locating a file that you can’t remember where it was\n",
    "# If you had a web app, and you wanted to keep track of the file info within a certain directory structure, then you could to thru the os.walk method and go thru all files and folders and collect file information.\n",
    "\n",
    "\n",
    "# Access home directory location by grabbing home environment variable\n",
    "os.environ.get(‘HOME’). # Returns a path\n",
    "# To properly join two files together use os.path.join()\n",
    "file_path = os.path.join(os.environ.get(‘HOME’), ‘test.txt’)\n",
    "# the benefit of os.path.join, is it takes the guess work out of inserting a slash\n",
    "\n",
    "\n",
    "# os.path has other useful methods\n",
    "\n",
    "os.path.basename\n",
    "# This will grab filename of any path we are working on\n",
    "\n",
    "os.path.dirname(‘/tmp/test.txt’)\n",
    "# returns the directory /tmp\n",
    "\n",
    "os.path.split(‘/tmp/test.txt’)\n",
    "# returns both the directory and the file as a tuple\n",
    "\n",
    "os.path.exists(‘/tmp/test.txt’)\n",
    "# returns a boolean\n",
    "\n",
    "os.path.isdir(‘/tmp/test.txt’)\n",
    "# returns False\n",
    "\n",
    "os.path.isfile(‘/tmp/test.txt’)\n",
    "# returns True\n",
    "\n",
    "os.path.splitext(‘/tmp/test.txt’)\n",
    "# Splits file route of the path and the extension\n",
    "# returns (‘/tmp/test’, ‘.txt’)\n",
    "# This is alot easier than parsing out the extension. Splitting off and taking the first value is much better.\n",
    "# Very useful for file manipulation\n",
    "\n"
   ]
  },
  {
   "cell_type": "markdown",
   "metadata": {},
   "source": [
    "### Request Module\n",
    "\n",
    "https://www.youtube.com/watch?v=tb8gHvYlCFs"
   ]
  },
  {
   "cell_type": "markdown",
   "metadata": {},
   "source": [
    "### Json Module\n",
    "\n",
    "https://www.youtube.com/watch?v=9N6a-VLBa2I"
   ]
  },
  {
   "cell_type": "markdown",
   "metadata": {},
   "source": [
    "### Web Scraping \n",
    "\n",
    "https://www.youtube.com/watch?v=ng2o98k983k&t=11s"
   ]
  },
  {
   "cell_type": "markdown",
   "metadata": {},
   "source": [
    "### LEGB - Local Enclosing Global Built-Ins\n",
    "\n",
    "Scoping of variables in the LEGB order"
   ]
  },
  {
   "cell_type": "code",
   "execution_count": 133,
   "metadata": {},
   "outputs": [
    {
     "name": "stdout",
     "output_type": "stream",
     "text": [
      "inner x\n",
      "inner x\n"
     ]
    }
   ],
   "source": [
    "def outer():\n",
    "    x = 'outer x'\n",
    "    \n",
    "    def inner():\n",
    "        nonlocal x # x now becomes local x of the enclosing function outer()\n",
    "        x = 'inner x' #override x value\n",
    "        print(x)\n",
    "    \n",
    "    inner()\n",
    "    print(x) #'inner x' will be printed twice when outer() is called\n",
    "\n",
    "outer()"
   ]
  },
  {
   "cell_type": "markdown",
   "metadata": {},
   "source": [
    "### EAFP - Easier to ask for forgiveness, not permission \n",
    "\n",
    "Try and do something. If it works, great. If not, throw an error. \n",
    "=> it's faster (you access the object immediately, without having to check again and again)\n",
    "=> avoid raiseerror situation when we can\n",
    "\n",
    "LBYL - Look before you leap (hasattr method)"
   ]
  },
  {
   "cell_type": "code",
   "execution_count": 138,
   "metadata": {},
   "outputs": [
    {
     "name": "stdout",
     "output_type": "stream",
     "text": [
      "Quack Quack\n",
      "Flap Flap\n",
      "'Duck' object has no attribute 'bark'\n",
      "\n",
      "I'm Quack\n",
      "I'm Flap\n",
      "'Person' object has no attribute 'bark'\n",
      "\n"
     ]
    }
   ],
   "source": [
    "class Duck: \n",
    "    \"\"\"Create a duck\"\"\"\n",
    "    \n",
    "    def quack(self):\n",
    "        print(\"Quack Quack\")\n",
    "        \n",
    "    def fly(self):\n",
    "        print(\"Flap Flap\")\n",
    "        \n",
    "        \n",
    "class Person: \n",
    "    \"\"\"Create a person\"\"\"\n",
    "    \n",
    "    def quack(self):\n",
    "        print(\"I'm Quack\")\n",
    "        \n",
    "    def fly(self):\n",
    "        print(\"I'm Flap\")\n",
    "\n",
    "        \n",
    "def quack_and_fly(thing):\n",
    "    # LBYL (Non-Pythonic)\n",
    "    #if hasattr(thing, 'quack'):\n",
    "        #if callable(thing.quack):\n",
    "            #thing.quack\n",
    "\n",
    "    if hasattr(thing, 'fly'):\n",
    "        if callable(thing.fly):\n",
    "            thing.fly\n",
    "            \n",
    "    #EAFP (Pythonic)\n",
    "    try: \n",
    "        thing.quack()\n",
    "        thing.fly()\n",
    "        thing.bark()\n",
    "    except AttributeError as e: \n",
    "        print(e)\n",
    "        \n",
    "    print()\n",
    "\n",
    "d = Duck()\n",
    "quack_and_fly(d)\n",
    "\n",
    "p = Person()\n",
    "quack_and_fly(p)"
   ]
  },
  {
   "cell_type": "markdown",
   "metadata": {},
   "source": [
    "### Threading and Multi-threading\n",
    "\n",
    "Run Code Concurrently Using the Threading Module:\n",
    "- CPU-bound (things that are crunching a lot of numbers and using CPU) and IO-bound (things that are just waiting for input and output operations to be completed and not using CPU all that much: reading, writing from the file systems, network operation - downloading stuff online) tasks\n",
    "- Threading is beneficial when it comes to IO-bound tasks - a lot of waiting for input and output operations \n",
    "- Not a lot of benefit for CPU-bound due to the overhead of creating and destroying threads => use multiprocessing and run in parallel instead\n",
    "- When using concurrency with threads: not gonna run code at the same time, just the illusion of doing so as when it comes to a point of just waiting around, it's just gonna move forward with the script and run other codes while the IO operation finishes => so the task can be done a bit sooner and the wait time can be much shorter \n",
    "\n",
    "Video: https://www.youtube.com/watch?v=IEEhzQoKtQU"
   ]
  },
  {
   "cell_type": "code",
   "execution_count": 145,
   "metadata": {},
   "outputs": [
    {
     "name": "stdout",
     "output_type": "stream",
     "text": [
      "Sleep for 1 second\n",
      "\n",
      "Sleep for 1 second\n",
      "\n",
      "Done sleeping\n",
      "Done sleeping\n",
      "\n",
      "\n",
      "Finished in 1.01 second(s)\n"
     ]
    }
   ],
   "source": [
    "import threading\n",
    "import time\n",
    "\n",
    "start = time.perf_counter()\n",
    "\n",
    "def do_sth():\n",
    "    print(\"Sleep for 1 second\\n\")\n",
    "    time.sleep(1)\n",
    "    print(\"Done sleeping\\n\")\n",
    "    \n",
    "t1 = threading.Thread(target = do_sth)\n",
    "t2 = threading.Thread(target = do_sth)\n",
    "\n",
    "t1.start()\n",
    "t2.start()\n",
    "\n",
    "t1.join()\n",
    "t2.join() #so the two threads runs almost at the same time\n",
    "\n",
    "end = time.perf_counter()\n",
    "\n",
    "print(f'Finished in {round(end-start,2)} second(s)')"
   ]
  },
  {
   "cell_type": "code",
   "execution_count": 146,
   "metadata": {},
   "outputs": [
    {
     "name": "stdout",
     "output_type": "stream",
     "text": [
      "Sleep for 1 second\n",
      "\n",
      "Sleep for 1 second\n",
      "Sleep for 1 second\n",
      "\n",
      "\n",
      "Sleep for 1 second\n",
      "\n",
      "Sleep for 1 second\n",
      "\n",
      "Sleep for 1 second\n",
      "\n",
      "Sleep for 1 second\n",
      "Sleep for 1 second\n",
      "\n",
      "Sleep for 1 second\n",
      "\n",
      "Sleep for 1 second\n",
      "\n",
      "\n",
      "Done sleeping\n",
      "Done sleeping\n",
      "Done sleeping\n",
      "\n",
      "\n",
      "\n",
      "Done sleeping\n",
      "\n",
      "Done sleeping\n",
      "\n",
      "Done sleeping\n",
      "Done sleeping\n",
      "\n",
      "\n",
      "Done sleeping\n",
      "Done sleeping\n",
      "Done sleeping\n",
      "\n",
      "\n",
      "\n",
      "Finished in 1.01 second(s)\n"
     ]
    }
   ],
   "source": [
    "#looping threads for multiple tasks\n",
    "\n",
    "start = time.perf_counter()\n",
    "\n",
    "\n",
    "threads = []\n",
    "\n",
    "for _ in range(10):\n",
    "    t = threading.Thread(target = do_sth)\n",
    "    t.start()\n",
    "    threads.append(t) # so they're all in a list and run concurrently\n",
    "    \n",
    "for thread in threads: \n",
    "    thread.join()\n",
    "    \n",
    "end = time.perf_counter()\n",
    "\n",
    "print(f'Finished in {round(end-start,2)} second(s)')"
   ]
  },
  {
   "cell_type": "code",
   "execution_count": 148,
   "metadata": {},
   "outputs": [
    {
     "name": "stdout",
     "output_type": "stream",
     "text": [
      "Sleep for 1.5 second\n",
      "Sleep for 1.5 second\n",
      "\n",
      "\n",
      "Sleep for 1.5 second\n",
      "\n",
      "Sleep for 1.5 second\n",
      "Sleep for 1.5 second\n",
      "\n",
      "\n",
      "Sleep for 1.5 second\n",
      "\n",
      "Sleep for 1.5 second\n",
      "\n",
      "Sleep for 1.5 second\n",
      "\n",
      "Sleep for 1.5 second\n",
      "\n",
      "Sleep for 1.5 second\n",
      "\n",
      "Done sleeping\n",
      "Done sleeping\n",
      "Done sleeping\n",
      "\n",
      "\n",
      "\n",
      "Done sleeping\n",
      "Done sleeping\n",
      "\n",
      "\n",
      "Done sleeping\n",
      "Done sleeping\n",
      "Done sleeping\n",
      "Done sleeping\n",
      "\n",
      "Done sleeping\n",
      "\n",
      "\n",
      "\n",
      "\n",
      "Finished in 1.52 second(s)\n"
     ]
    }
   ],
   "source": [
    "#use arguments\n",
    "\n",
    "start = time.perf_counter()\n",
    "\n",
    "def do_sth(seconds):\n",
    "    print(f\"Sleep for {seconds} second\\n\")\n",
    "    time.sleep(seconds)\n",
    "    print(\"Done sleeping\\n\")\n",
    "\n",
    "for _ in range(10):\n",
    "    t = threading.Thread(target = do_sth, args = [1.5])\n",
    "    t.start()\n",
    "    threads.append(t)\n",
    "    \n",
    "for thread in threads: \n",
    "    thread.join()\n",
    "    \n",
    "end = time.perf_counter()\n",
    "\n",
    "print(f'Finished in {round(end-start,2)} second(s)')"
   ]
  },
  {
   "cell_type": "code",
   "execution_count": 150,
   "metadata": {},
   "outputs": [
    {
     "name": "stdout",
     "output_type": "stream",
     "text": [
      "Sleep for 1 second\n",
      "\n",
      "Done sleeping\n",
      "\n",
      "Sleep for 1 second\n",
      "\n",
      "Sleep for 1 second\n",
      "\n",
      "Sleep for 1 second\n",
      "\n",
      "Sleep for 1 second\n",
      "Sleep for 1 second\n",
      "\n",
      "Sleep for 1 second\n",
      "Sleep for 1 second\n",
      "\n",
      "\n",
      "\n",
      "Sleep for 1 second\n",
      "Sleep for 1 second\n",
      "\n",
      "\n",
      "Sleep for 1 second\n",
      "\n",
      "Done sleeping\n",
      "\n",
      "Done sleeping\n",
      "\n",
      "Done sleeping\n",
      "\n",
      "Done sleeping\n",
      "\n",
      "Done sleeping\n",
      "\n",
      "Done sleeping\n",
      "\n",
      "Done sleeping\n",
      "\n",
      "Done sleeping\n",
      "\n",
      "Done sleeping\n",
      "\n",
      "Done sleeping\n",
      "\n",
      "Finished in 2.02 second(s)\n"
     ]
    }
   ],
   "source": [
    "#new way to do it => best to use with a context manager\n",
    "\n",
    "import concurrent.futures\n",
    "\n",
    "start = time.perf_counter()\n",
    "\n",
    "def do_sth(seconds):\n",
    "    print(f\"Sleep for {seconds} second\\n\")\n",
    "    time.sleep(seconds)\n",
    "    return \"Done sleeping\\n\"\n",
    "\n",
    "with concurrent.futures.ThreadPoolExecutor() as executor:\n",
    "    f1 = executor.submit(do_sth, 1)\n",
    "    print(f1.result())\n",
    "    \n",
    "#run thread multiple times with list comprehension\n",
    "with concurrent.futures.ThreadPoolExecutor() as executor:\n",
    "    #secs = [5,4,3,2,1]\n",
    "    results = [executor.submit(do_sth, 1) for _ in range(10)]\n",
    "    #results = [executor.submit(do_sth, sec) for sec in secs]\n",
    "    \n",
    "    for f in concurrent.futures.as_completed(results):\n",
    "        print(f.result())\n",
    "        \n",
    "end = time.perf_counter()\n",
    "\n",
    "print(f'Finished in {round(end-start,2)} second(s)')"
   ]
  },
  {
   "cell_type": "markdown",
   "metadata": {},
   "source": [
    "### Multiprocessing\n",
    "\n",
    "Speed comes from running different tasks in parallel"
   ]
  },
  {
   "cell_type": "code",
   "execution_count": 151,
   "metadata": {},
   "outputs": [
    {
     "name": "stderr",
     "output_type": "stream",
     "text": [
      "Process Process-1:\n",
      "Process Process-2:\n",
      "Traceback (most recent call last):\n",
      "Traceback (most recent call last):\n",
      "  File \"/Users/dangngochuy/anaconda3/lib/python3.6/multiprocessing/process.py\", line 258, in _bootstrap\n",
      "    self.run()\n",
      "  File \"/Users/dangngochuy/anaconda3/lib/python3.6/multiprocessing/process.py\", line 258, in _bootstrap\n",
      "    self.run()\n",
      "  File \"/Users/dangngochuy/anaconda3/lib/python3.6/multiprocessing/process.py\", line 93, in run\n",
      "    self._target(*self._args, **self._kwargs)\n",
      "  File \"/Users/dangngochuy/anaconda3/lib/python3.6/multiprocessing/process.py\", line 93, in run\n",
      "    self._target(*self._args, **self._kwargs)\n",
      "TypeError: do_sth() missing 1 required positional argument: 'seconds'\n",
      "TypeError: do_sth() missing 1 required positional argument: 'seconds'\n"
     ]
    },
    {
     "name": "stdout",
     "output_type": "stream",
     "text": [
      "Finished in 0.13 second(s)\n"
     ]
    }
   ],
   "source": [
    "import multiprocessing\n",
    "\n",
    "start = time.perf_counter()\n",
    "\n",
    "p1 = multiprocessing.Process(target = do_sth)\n",
    "p2 = multiprocessing.Process(target = do_sth)\n",
    "\n",
    "p1.start()\n",
    "p2.start()\n",
    "\n",
    "p1.join()\n",
    "p2.join()\n",
    "                             \n",
    "end = time.perf_counter()\n",
    "\n",
    "print(f'Finished in {round(end-start,2)} second(s)')\n",
    "\n",
    "#looping same as threading"
   ]
  },
  {
   "cell_type": "code",
   "execution_count": 154,
   "metadata": {},
   "outputs": [
    {
     "name": "stdout",
     "output_type": "stream",
     "text": [
      "Sleep for 4 second\n",
      "Sleep for 2 second\n",
      "Sleep for 3 second\n",
      "Sleep for 5 second\n",
      "\n",
      "\n",
      "\n",
      "\n",
      "Sleep for 1 second\n",
      "\n",
      "Done sleeping\n",
      "\n",
      "Done sleeping\n",
      "\n",
      "Done sleeping\n",
      "\n",
      "Done sleeping\n",
      "\n",
      "Done sleeping\n",
      "\n",
      "Finished in 5.08 second(s)\n"
     ]
    }
   ],
   "source": [
    "#Multiprocessing Pool \n",
    "\n",
    "start = time.perf_counter()\n",
    "\n",
    "results = []\n",
    "with concurrent.futures.ProcessPoolExecutor() as executor: \n",
    "    secs = [5,4,3,2,1]\n",
    "    results = executor.map(do_sth, secs)\n",
    "    for result in results: \n",
    "        print(result)\n",
    "\n",
    "end = time.perf_counter()\n",
    "\n",
    "print(f'Finished in {round(end-start,2)} second(s)')"
   ]
  },
  {
   "cell_type": "markdown",
   "metadata": {},
   "source": [
    "### Decorators \n",
    "\n",
    "How to use: \n",
    "- allow us to easily add functionality to our existing functions by adding that functionality inside of our wrapper function without modifying our original function \n",
    "- use: create a logging decorator to log activities for debugging; create timer to time functions "
   ]
  },
  {
   "cell_type": "code",
   "execution_count": 159,
   "metadata": {},
   "outputs": [
    {
     "name": "stdout",
     "output_type": "stream",
     "text": [
      "wrapper executed this before display\n",
      "Original\n"
     ]
    }
   ],
   "source": [
    "\n",
    "def decorator_function(original_function):\n",
    "    def wrapper_function(*args, **kwargs):\n",
    "        print(f\"wrapper executed this before {original_function.__name__}\")\n",
    "        return original_function(*args, **kwargs)\n",
    "    return wrapper_function #ready to be executed but not executed immediately at runtime\n",
    "\n",
    "def display():\n",
    "    print(\"Original\")\n",
    "    \n",
    "decorated_display = decorator_function(display)\n",
    "decorated_display() # now it's executed"
   ]
  },
  {
   "cell_type": "code",
   "execution_count": 161,
   "metadata": {},
   "outputs": [
    {
     "name": "stdout",
     "output_type": "stream",
     "text": [
      "wrapper executed this before display\n",
      "Original\n",
      "wrapper executed this before display_info\n",
      "John 20\n"
     ]
    }
   ],
   "source": [
    "#anytime we use @decorator, then the function that follows will have the added-on functionality of the decorator function\n",
    "\n",
    "@decorator_function\n",
    "def display():\n",
    "    print(\"Original\")\n",
    "    \n",
    "@decorator_function\n",
    "def display_info(name, age): \n",
    "    print(f\"{name} {age}\")\n",
    "\n",
    "display()\n",
    "display_info(\"John\", 20)"
   ]
  },
  {
   "cell_type": "code",
   "execution_count": 167,
   "metadata": {},
   "outputs": [
    {
     "name": "stdout",
     "output_type": "stream",
     "text": [
      "John 20\n",
      "display_info runs in 0.01336812973022461 seconds\n"
     ]
    }
   ],
   "source": [
    "from functools import wraps\n",
    "\n",
    "def my_logger(original_function):\n",
    "    import logging\n",
    "    logging.basicConfig(filename = f'{original_function.__name__}.log',level = logging.INFO)\n",
    "    \n",
    "    @wraps(original_function)\n",
    "    def wrapper(*args, **kwargs):\n",
    "        logging.info(\n",
    "        f'Ran with args: {args} and kwargs: {kwargs}')\n",
    "        return original_function(*args, **kwargs)\n",
    "    return wrapper \n",
    "            \n",
    "def my_timer(original_function):\n",
    "    import time\n",
    "    \n",
    "    @wraps(original_function)\n",
    "    def wrapper(*args, **kwargs):\n",
    "        t1 = time.time()\n",
    "        result = original_function(*args, **kwargs)\n",
    "        t2 = time.time()\n",
    "        print(f'{original_function.__name__} runs in {t2-t1} seconds')\n",
    "        return result\n",
    "    return wrapper\n",
    "\n",
    "@my_logger #stacked decorators\n",
    "@my_timer\n",
    "def display_info(name, age): \n",
    "    print(f\"{name} {age}\")\n",
    "    \n",
    "display_info(\"John\", 20)"
   ]
  },
  {
   "cell_type": "markdown",
   "metadata": {},
   "source": [
    "### NamedTuples"
   ]
  },
  {
   "cell_type": "code",
   "execution_count": 170,
   "metadata": {},
   "outputs": [
    {
     "name": "stdout",
     "output_type": "stream",
     "text": [
      "55\n",
      "55\n"
     ]
    }
   ],
   "source": [
    "from collections import namedtuple\n",
    "\n",
    "Color = namedtuple('Color', ['red', 'green', 'blue'])\n",
    "color = Color(55, 200, 100)\n",
    "print(color.red)\n",
    "print(color[0])\n",
    "white = Color(255, 255, 255)"
   ]
  },
  {
   "cell_type": "markdown",
   "metadata": {},
   "source": [
    "### Request \n",
    "\n",
    "Request library - easy to make request for http information from websites: post info, download images, send authentication info, basic log-in and forms, follow, redirect.\n",
    "- Great to get info, but not for parsing info (beautifulsoup is good for this)"
   ]
  },
  {
   "cell_type": "code",
   "execution_count": 26,
   "metadata": {},
   "outputs": [
    {
     "name": "stdout",
     "output_type": "stream",
     "text": [
      "<Response [200]>\n",
      "['__attrs__', '__bool__', '__class__', '__delattr__', '__dict__', '__dir__', '__doc__', '__enter__', '__eq__', '__exit__', '__format__', '__ge__', '__getattribute__', '__getstate__', '__gt__', '__hash__', '__init__', '__init_subclass__', '__iter__', '__le__', '__lt__', '__module__', '__ne__', '__new__', '__nonzero__', '__reduce__', '__reduce_ex__', '__repr__', '__setattr__', '__setstate__', '__sizeof__', '__str__', '__subclasshook__', '__weakref__', '_content', '_content_consumed', '_next', 'apparent_encoding', 'close', 'connection', 'content', 'cookies', 'elapsed', 'encoding', 'headers', 'history', 'is_permanent_redirect', 'is_redirect', 'iter_content', 'iter_lines', 'json', 'links', 'next', 'ok', 'raise_for_status', 'raw', 'reason', 'request', 'status_code', 'text', 'url']\n"
     ]
    }
   ],
   "source": [
    "import requests\n",
    "\n",
    "r = requests.get('https://xkcd.com/353/')\n",
    "print(r) # response object\n",
    "print(dir(r)) #see the methods available => there's a content method"
   ]
  },
  {
   "cell_type": "code",
   "execution_count": 28,
   "metadata": {},
   "outputs": [
    {
     "name": "stdout",
     "output_type": "stream",
     "text": [
      "Help on bytes object:\n",
      "\n",
      "class bytes(object)\n",
      " |  bytes(iterable_of_ints) -> bytes\n",
      " |  bytes(string, encoding[, errors]) -> bytes\n",
      " |  bytes(bytes_or_buffer) -> immutable copy of bytes_or_buffer\n",
      " |  bytes(int) -> bytes object of size given by the parameter initialized with null bytes\n",
      " |  bytes() -> empty bytes object\n",
      " |  \n",
      " |  Construct an immutable array of bytes from:\n",
      " |    - an iterable yielding integers in range(256)\n",
      " |    - a text string encoded using the specified encoding\n",
      " |    - any object implementing the buffer API.\n",
      " |    - an integer\n",
      " |  \n",
      " |  Methods defined here:\n",
      " |  \n",
      " |  __add__(self, value, /)\n",
      " |      Return self+value.\n",
      " |  \n",
      " |  __contains__(self, key, /)\n",
      " |      Return key in self.\n",
      " |  \n",
      " |  __eq__(self, value, /)\n",
      " |      Return self==value.\n",
      " |  \n",
      " |  __ge__(self, value, /)\n",
      " |      Return self>=value.\n",
      " |  \n",
      " |  __getattribute__(self, name, /)\n",
      " |      Return getattr(self, name).\n",
      " |  \n",
      " |  __getitem__(self, key, /)\n",
      " |      Return self[key].\n",
      " |  \n",
      " |  __getnewargs__(...)\n",
      " |  \n",
      " |  __gt__(self, value, /)\n",
      " |      Return self>value.\n",
      " |  \n",
      " |  __hash__(self, /)\n",
      " |      Return hash(self).\n",
      " |  \n",
      " |  __iter__(self, /)\n",
      " |      Implement iter(self).\n",
      " |  \n",
      " |  __le__(self, value, /)\n",
      " |      Return self<=value.\n",
      " |  \n",
      " |  __len__(self, /)\n",
      " |      Return len(self).\n",
      " |  \n",
      " |  __lt__(self, value, /)\n",
      " |      Return self<value.\n",
      " |  \n",
      " |  __mod__(self, value, /)\n",
      " |      Return self%value.\n",
      " |  \n",
      " |  __mul__(self, value, /)\n",
      " |      Return self*value.n\n",
      " |  \n",
      " |  __ne__(self, value, /)\n",
      " |      Return self!=value.\n",
      " |  \n",
      " |  __new__(*args, **kwargs) from builtins.type\n",
      " |      Create and return a new object.  See help(type) for accurate signature.\n",
      " |  \n",
      " |  __repr__(self, /)\n",
      " |      Return repr(self).\n",
      " |  \n",
      " |  __rmod__(self, value, /)\n",
      " |      Return value%self.\n",
      " |  \n",
      " |  __rmul__(self, value, /)\n",
      " |      Return self*value.\n",
      " |  \n",
      " |  __str__(self, /)\n",
      " |      Return str(self).\n",
      " |  \n",
      " |  capitalize(...)\n",
      " |      B.capitalize() -> copy of B\n",
      " |      \n",
      " |      Return a copy of B with only its first character capitalized (ASCII)\n",
      " |      and the rest lower-cased.\n",
      " |  \n",
      " |  center(...)\n",
      " |      B.center(width[, fillchar]) -> copy of B\n",
      " |      \n",
      " |      Return B centered in a string of length width.  Padding is\n",
      " |      done using the specified fill character (default is a space).\n",
      " |  \n",
      " |  count(...)\n",
      " |      B.count(sub[, start[, end]]) -> int\n",
      " |      \n",
      " |      Return the number of non-overlapping occurrences of subsection sub in\n",
      " |      bytes B[start:end].  Optional arguments start and end are interpreted\n",
      " |      as in slice notation.\n",
      " |  \n",
      " |  decode(self, /, encoding='utf-8', errors='strict')\n",
      " |      Decode the bytes using the codec registered for encoding.\n",
      " |      \n",
      " |      encoding\n",
      " |        The encoding with which to decode the bytes.\n",
      " |      errors\n",
      " |        The error handling scheme to use for the handling of decoding errors.\n",
      " |        The default is 'strict' meaning that decoding errors raise a\n",
      " |        UnicodeDecodeError. Other possible values are 'ignore' and 'replace'\n",
      " |        as well as any other name registered with codecs.register_error that\n",
      " |        can handle UnicodeDecodeErrors.\n",
      " |  \n",
      " |  endswith(...)\n",
      " |      B.endswith(suffix[, start[, end]]) -> bool\n",
      " |      \n",
      " |      Return True if B ends with the specified suffix, False otherwise.\n",
      " |      With optional start, test B beginning at that position.\n",
      " |      With optional end, stop comparing B at that position.\n",
      " |      suffix can also be a tuple of bytes to try.\n",
      " |  \n",
      " |  expandtabs(...)\n",
      " |      B.expandtabs(tabsize=8) -> copy of B\n",
      " |      \n",
      " |      Return a copy of B where all tab characters are expanded using spaces.\n",
      " |      If tabsize is not given, a tab size of 8 characters is assumed.\n",
      " |  \n",
      " |  find(...)\n",
      " |      B.find(sub[, start[, end]]) -> int\n",
      " |      \n",
      " |      Return the lowest index in B where subsection sub is found,\n",
      " |      such that sub is contained within B[start,end].  Optional\n",
      " |      arguments start and end are interpreted as in slice notation.\n",
      " |      \n",
      " |      Return -1 on failure.\n",
      " |  \n",
      " |  fromhex(string, /) from builtins.type\n",
      " |      Create a bytes object from a string of hexadecimal numbers.\n",
      " |      \n",
      " |      Spaces between two numbers are accepted.\n",
      " |      Example: bytes.fromhex('B9 01EF') -> b'\\\\xb9\\\\x01\\\\xef'.\n",
      " |  \n",
      " |  hex(...)\n",
      " |      B.hex() -> string\n",
      " |      \n",
      " |      Create a string of hexadecimal numbers from a bytes object.\n",
      " |      Example: b'\\xb9\\x01\\xef'.hex() -> 'b901ef'.\n",
      " |  \n",
      " |  index(...)\n",
      " |      B.index(sub[, start[, end]]) -> int\n",
      " |      \n",
      " |      Return the lowest index in B where subsection sub is found,\n",
      " |      such that sub is contained within B[start,end].  Optional\n",
      " |      arguments start and end are interpreted as in slice notation.\n",
      " |      \n",
      " |      Raises ValueError when the subsection is not found.\n",
      " |  \n",
      " |  isalnum(...)\n",
      " |      B.isalnum() -> bool\n",
      " |      \n",
      " |      Return True if all characters in B are alphanumeric\n",
      " |      and there is at least one character in B, False otherwise.\n",
      " |  \n",
      " |  isalpha(...)\n",
      " |      B.isalpha() -> bool\n",
      " |      \n",
      " |      Return True if all characters in B are alphabetic\n",
      " |      and there is at least one character in B, False otherwise.\n",
      " |  \n",
      " |  isdigit(...)\n",
      " |      B.isdigit() -> bool\n",
      " |      \n",
      " |      Return True if all characters in B are digits\n",
      " |      and there is at least one character in B, False otherwise.\n",
      " |  \n",
      " |  islower(...)\n",
      " |      B.islower() -> bool\n",
      " |      \n",
      " |      Return True if all cased characters in B are lowercase and there is\n",
      " |      at least one cased character in B, False otherwise.\n",
      " |  \n",
      " |  isspace(...)\n",
      " |      B.isspace() -> bool\n",
      " |      \n",
      " |      Return True if all characters in B are whitespace\n",
      " |      and there is at least one character in B, False otherwise.\n",
      " |  \n",
      " |  istitle(...)\n",
      " |      B.istitle() -> bool\n",
      " |      \n",
      " |      Return True if B is a titlecased string and there is at least one\n",
      " |      character in B, i.e. uppercase characters may only follow uncased\n",
      " |      characters and lowercase characters only cased ones. Return False\n",
      " |      otherwise.\n",
      " |  \n",
      " |  isupper(...)\n",
      " |      B.isupper() -> bool\n",
      " |      \n",
      " |      Return True if all cased characters in B are uppercase and there is\n",
      " |      at least one cased character in B, False otherwise.\n",
      " |  \n",
      " |  join(self, iterable_of_bytes, /)\n",
      " |      Concatenate any number of bytes objects.\n",
      " |      \n",
      " |      The bytes whose method is called is inserted in between each pair.\n",
      " |      \n",
      " |      The result is returned as a new bytes object.\n",
      " |      \n",
      " |      Example: b'.'.join([b'ab', b'pq', b'rs']) -> b'ab.pq.rs'.\n",
      " |  \n",
      " |  ljust(...)\n",
      " |      B.ljust(width[, fillchar]) -> copy of B\n",
      " |      \n",
      " |      Return B left justified in a string of length width. Padding is\n",
      " |      done using the specified fill character (default is a space).\n",
      " |  \n",
      " |  lower(...)\n",
      " |      B.lower() -> copy of B\n",
      " |      \n",
      " |      Return a copy of B with all ASCII characters converted to lowercase.\n",
      " |  \n",
      " |  lstrip(self, bytes=None, /)\n",
      " |      Strip leading bytes contained in the argument.\n",
      " |      \n",
      " |      If the argument is omitted or None, strip leading  ASCII whitespace.\n",
      " |  \n",
      " |  partition(self, sep, /)\n",
      " |      Partition the bytes into three parts using the given separator.\n",
      " |      \n",
      " |      This will search for the separator sep in the bytes. If the separator is found,\n",
      " |      returns a 3-tuple containing the part before the separator, the separator\n",
      " |      itself, and the part after it.\n",
      " |      \n",
      " |      If the separator is not found, returns a 3-tuple containing the original bytes\n",
      " |      object and two empty bytes objects.\n",
      " |  \n",
      " |  replace(self, old, new, count=-1, /)\n",
      " |      Return a copy with all occurrences of substring old replaced by new.\n",
      " |      \n",
      " |        count\n",
      " |          Maximum number of occurrences to replace.\n",
      " |          -1 (the default value) means replace all occurrences.\n",
      " |      \n",
      " |      If the optional argument count is given, only the first count occurrences are\n",
      " |      replaced.\n",
      " |  \n",
      " |  rfind(...)\n",
      " |      B.rfind(sub[, start[, end]]) -> int\n",
      " |      \n",
      " |      Return the highest index in B where subsection sub is found,\n",
      " |      such that sub is contained within B[start,end].  Optional\n",
      " |      arguments start and end are interpreted as in slice notation.\n",
      " |      \n",
      " |      Return -1 on failure.\n",
      " |  \n",
      " |  rindex(...)\n",
      " |      B.rindex(sub[, start[, end]]) -> int\n",
      " |      \n",
      " |      Return the highest index in B where subsection sub is found,\n",
      " |      such that sub is contained within B[start,end].  Optional\n",
      " |      arguments start and end are interpreted as in slice notation.\n",
      " |      \n",
      " |      Raise ValueError when the subsection is not found.\n",
      " |  \n",
      " |  rjust(...)\n",
      " |      B.rjust(width[, fillchar]) -> copy of B\n",
      " |      \n",
      " |      Return B right justified in a string of length width. Padding is\n",
      " |      done using the specified fill character (default is a space)\n",
      " |  \n",
      " |  rpartition(self, sep, /)\n",
      " |      Partition the bytes into three parts using the given separator.\n",
      " |      \n",
      " |      This will search for the separator sep in the bytes, starting at the end. If\n",
      " |      the separator is found, returns a 3-tuple containing the part before the\n",
      " |      separator, the separator itself, and the part after it.\n",
      " |      \n",
      " |      If the separator is not found, returns a 3-tuple containing two empty bytes\n",
      " |      objects and the original bytes object.\n",
      " |  \n",
      " |  rsplit(self, /, sep=None, maxsplit=-1)\n",
      " |      Return a list of the sections in the bytes, using sep as the delimiter.\n",
      " |      \n",
      " |        sep\n",
      " |          The delimiter according which to split the bytes.\n",
      " |          None (the default value) means split on ASCII whitespace characters\n",
      " |          (space, tab, return, newline, formfeed, vertical tab).\n",
      " |        maxsplit\n",
      " |          Maximum number of splits to do.\n",
      " |          -1 (the default value) means no limit.\n",
      " |      \n",
      " |      Splitting is done starting at the end of the bytes and working to the front.\n",
      " |  \n",
      " |  rstrip(self, bytes=None, /)\n",
      " |      Strip trailing bytes contained in the argument.\n",
      " |      \n",
      " |      If the argument is omitted or None, strip trailing ASCII whitespace.\n",
      " |  \n",
      " |  split(self, /, sep=None, maxsplit=-1)\n",
      " |      Return a list of the sections in the bytes, using sep as the delimiter.\n",
      " |      \n",
      " |      sep\n",
      " |        The delimiter according which to split the bytes.\n",
      " |        None (the default value) means split on ASCII whitespace characters\n",
      " |        (space, tab, return, newline, formfeed, vertical tab).\n",
      " |      maxsplit\n",
      " |        Maximum number of splits to do.\n",
      " |        -1 (the default value) means no limit.\n",
      " |  \n",
      " |  splitlines(self, /, keepends=False)\n",
      " |      Return a list of the lines in the bytes, breaking at line boundaries.\n",
      " |      \n",
      " |      Line breaks are not included in the resulting list unless keepends is given and\n",
      " |      true.\n",
      " |  \n",
      " |  startswith(...)\n",
      " |      B.startswith(prefix[, start[, end]]) -> bool\n",
      " |      \n",
      " |      Return True if B starts with the specified prefix, False otherwise.\n",
      " |      With optional start, test B beginning at that position.\n",
      " |      With optional end, stop comparing B at that position.\n",
      " |      prefix can also be a tuple of bytes to try.\n",
      " |  \n",
      " |  strip(self, bytes=None, /)\n",
      " |      Strip leading and trailing bytes contained in the argument.\n",
      " |      \n",
      " |      If the argument is omitted or None, strip leading and trailing ASCII whitespace.\n",
      " |  \n",
      " |  swapcase(...)\n",
      " |      B.swapcase() -> copy of B\n",
      " |      \n",
      " |      Return a copy of B with uppercase ASCII characters converted\n",
      " |      to lowercase ASCII and vice versa.\n",
      " |  \n",
      " |  title(...)\n",
      " |      B.title() -> copy of B\n",
      " |      \n",
      " |      Return a titlecased version of B, i.e. ASCII words start with uppercase\n",
      " |      characters, all remaining cased characters have lowercase.\n",
      " |  \n",
      " |  translate(self, table, /, delete=b'')\n",
      " |      Return a copy with each character mapped by the given translation table.\n",
      " |      \n",
      " |        table\n",
      " |          Translation table, which must be a bytes object of length 256.\n",
      " |      \n",
      " |      All characters occurring in the optional argument delete are removed.\n",
      " |      The remaining characters are mapped through the given translation table.\n",
      " |  \n",
      " |  upper(...)\n",
      " |      B.upper() -> copy of B\n",
      " |      \n",
      " |      Return a copy of B with all ASCII characters converted to uppercase.\n",
      " |  \n",
      " |  zfill(...)\n",
      " |      B.zfill(width) -> copy of B\n",
      " |      \n",
      " |      Pad a numeric string B with zeros on the left, to fill a field\n",
      " |      of the specified width.  B is never truncated.\n",
      " |  \n",
      " |  ----------------------------------------------------------------------\n",
      " |  Static methods defined here:\n",
      " |  \n",
      " |  maketrans(frm, to, /)\n",
      " |      Return a translation table useable for the bytes or bytearray translate method.\n",
      " |      \n",
      " |      The returned table will be one where each byte in frm is mapped to the byte at\n",
      " |      the same position in to.\n",
      " |      \n",
      " |      The bytes objects frm and to must be of the same length.\n",
      "\n"
     ]
    }
   ],
   "source": [
    "help(r.content)"
   ]
  },
  {
   "cell_type": "code",
   "execution_count": 29,
   "metadata": {},
   "outputs": [
    {
     "name": "stdout",
     "output_type": "stream",
     "text": [
      "<!DOCTYPE html>\n",
      "<html>\n",
      "<head>\n",
      "<link rel=\"stylesheet\" type=\"text/css\" href=\"/s/b0dcca.css\" title=\"Default\"/>\n",
      "<title>xkcd: Python</title>\n",
      "<meta http-equiv=\"X-UA-Compatible\" content=\"IE=edge\"/>\n",
      "<link rel=\"shortcut icon\" href=\"/s/919f27.ico\" type=\"image/x-icon\"/>\n",
      "<link rel=\"icon\" href=\"/s/919f27.ico\" type=\"image/x-icon\"/>\n",
      "<link rel=\"alternate\" type=\"application/atom+xml\" title=\"Atom 1.0\" href=\"/atom.xml\"/>\n",
      "<link rel=\"alternate\" type=\"application/rss+xml\" title=\"RSS 2.0\" href=\"/rss.xml\"/>\n",
      "<script type=\"text/javascript\" src=\"/s/b66ed7.js\" async></script>\n",
      "<script type=\"text/javascript\" src=\"/s/1b9456.js\" async></script>\n",
      "\n",
      "<meta property=\"og:site_name\" content=\"xkcd\">\n",
      "\n",
      "<meta property=\"og:title\" content=\"Python\">\n",
      "<meta property=\"og:url\" content=\"https://xkcd.com/353/\">\n",
      "<meta property=\"og:image\" content=\"https://imgs.xkcd.com/comics/\">\n",
      "<meta name=\"twitter:card\" content=\"summary_large_image\">\n",
      "\n",
      "</head>\n",
      "<body>\n",
      "<div id=\"topContainer\">\n",
      "<div id=\"topLeft\">\n",
      "<ul>\n",
      "<li><a href=\"/archive\">Archive</a></li>\n",
      "<li><a href=\"http://what-if.xkcd.com\">What If?</a></li>\n",
      "<li><a href=\"http://blag.xkcd.com\">Blag</a></li>\n",
      "<li><a href=\"/how-to/\">How To</a></li>\n",
      "<li><a href=\"http://store.xkcd.com/\">Store</a></li>\n",
      "<li><a rel=\"author\" href=\"/about\">About</a></li>\n",
      "<li><a href=\"/atom.xml\">Feed</a> &bull; <a href=\"/newsletter/\">Email</a></li>\n",
      "</ul>\n",
      "</div>\n",
      "<div id=\"topRight\">\n",
      "<div id=\"masthead\">\n",
      "<span><a href=\"/\"><img src=\"/s/0b7742.png\" alt=\"xkcd.com logo\" height=\"83\" width=\"185\"/></a></span>\n",
      "<span id=\"slogan\">A webcomic of romance,<br/> sarcasm, math, and language.</span>\n",
      "</div>\n",
      "<div id=\"news\">\n",
      "<div id=\"htNews\">\n",
      "<a href=\"https://xkcd.com/how-to/\"><img border=0 src=\"//imgs.xkcd.com/static/howto_release_49b1.png\"></a><br />\n",
      "You can get it here:<br />\n",
      "<a href=\"https://www.amazon.com/How-Absurd-Scientific-Real-World-Problems/dp/0525537090/\">Amazon</a>,\n",
      "    <a href=\"http://links.penguinrandomhouse.com/type/affiliate/isbn/9780525537090/siteID/8001/retailerid/2/trackingcode/PRH5522E62429\">B&N</a>,\n",
      "    <a href=\"http://links.penguinrandomhouse.com/type/affiliate/isbn/9780525537090/siteID/8001/retailerid/6/trackingcode/penguinrandom\">IndieBound</a>,\n",
      "    <a href=\"https://itunes.apple.com/us/book/how-to/id1451461524?mt=11\">Apple</a>,\n",
      "    <a href=\"https://www.audible.com/search?advsearchKeywords=How+To+Randall+Munroe&source_code=COMA0213WS031709&SID=PRHA9A5E24CFB--9780525635680\">Audible</a>,\n",
      "    <a href=\"http://links.penguinrandomhouse.com/type/affiliate/isbn/9780525537090/siteID/8001/retailerid/23/trackingcode/PRH3D17167A3B\">Target</a>\n",
      "</div>\n",
      "<script>\n",
      "var client = new XMLHttpRequest();\n",
      "client.open(\"GET\", \"//c.xkcd.com/how-to/news\", true);\n",
      "client.send();\n",
      "client.onreadystatechange = function() {\n",
      "  if(client.readyState == 4 && client.status == 200) {\n",
      "    document.getElementById(\"htNews\").innerHTML = client.responseText;\n",
      "  }\n",
      "}\n",
      "</script>\n",
      "\n",
      "</div>\n",
      "</div>\n",
      "<div id=\"bgLeft\" class=\"bg box\"></div>\n",
      "<div id=\"bgRight\" class=\"bg box\"></div>\n",
      "</div>\n",
      "<div id=\"middleContainer\" class=\"box\">\n",
      "\n",
      "<div id=\"ctitle\">Python</div>\n",
      "<ul class=\"comicNav\">\n",
      "<li><a href=\"/1/\">|&lt;</a></li>\n",
      "<li><a rel=\"prev\" href=\"/352/\" accesskey=\"p\">&lt; Prev</a></li>\n",
      "<li><a href=\"//c.xkcd.com/random/comic/\">Random</a></li>\n",
      "<li><a rel=\"next\" href=\"/354/\" accesskey=\"n\">Next &gt;</a></li>\n",
      "<li><a href=\"/\">&gt;|</a></li>\n",
      "</ul>\n",
      "<div id=\"comic\">\n",
      "<img src=\"//imgs.xkcd.com/comics/python.png\" title=\"I wrote 20 short programs in Python yesterday.  It was wonderful.  Perl, I&#39;m leaving you.\" alt=\"Python\" />\n",
      "</div>\n",
      "<ul class=\"comicNav\">\n",
      "<li><a href=\"/1/\">|&lt;</a></li>\n",
      "<li><a rel=\"prev\" href=\"/352/\" accesskey=\"p\">&lt; Prev</a></li>\n",
      "<li><a href=\"//c.xkcd.com/random/comic/\">Random</a></li>\n",
      "<li><a rel=\"next\" href=\"/354/\" accesskey=\"n\">Next &gt;</a></li>\n",
      "<li><a href=\"/\">&gt;|</a></li>\n",
      "</ul>\n",
      "<br />\n",
      "Permanent link to this comic: https://xkcd.com/353/<br />\n",
      "Image URL (for hotlinking/embedding): https://imgs.xkcd.com/comics/python.png\n",
      "<div id=\"transcript\" style=\"display: none\">[[ Guy 1 is talking to Guy 2, who is floating in the sky ]]\n",
      "Guy 1: You&#39;re flying! How?\n",
      "Guy 2: Python!\n",
      "Guy 2: I learned it last night! Everything is so simple!\n",
      "Guy 2: Hello world is just &#39;print &quot;Hello, World!&quot; &#39;\n",
      "Guy 1: I dunno... Dynamic typing? Whitespace?\n",
      "Guy 2: Come join us! Programming is fun again! It&#39;s a whole new world up here!\n",
      "Guy 1: But how are you flying?\n",
      "Guy 2: I just typed &#39;import antigravity&#39;\n",
      "Guy 1: That&#39;s it?\n",
      "Guy 2: ...I also sampled everything in the medicine cabinet for comparison.\n",
      "Guy 2: But i think this is the python.\n",
      "{{ I wrote 20 short programs in Python yesterday.  It was wonderful.  Perl, I&#39;m leaving you. }}</div>\n",
      "</div>\n",
      "<div id=\"bottom\" class=\"box\">\n",
      "<img src=\"//imgs.xkcd.com/s/a899e84.jpg\" width=\"520\" height=\"100\" alt=\"Selected Comics\" usemap=\"#comicmap\"/>\n",
      "<map id=\"comicmap\" name=\"comicmap\">\n",
      "<area shape=\"rect\" coords=\"0,0,100,100\" href=\"/150/\" alt=\"Grownups\"/>\n",
      "<area shape=\"rect\" coords=\"104,0,204,100\" href=\"/730/\" alt=\"Circuit Diagram\"/>\n",
      "<area shape=\"rect\" coords=\"208,0,308,100\" href=\"/162/\" alt=\"Angular Momentum\"/>\n",
      "<area shape=\"rect\" coords=\"312,0,412,100\" href=\"/688/\" alt=\"Self-Description\"/>\n",
      "<area shape=\"rect\" coords=\"416,0,520,100\" href=\"/556/\" alt=\"Alternative Energy Revolution\"/>\n",
      "</map>\n",
      "<br />\n",
      "<a href=\"//xkcd.com/1732/\"><img border=0 src=\"//imgs.xkcd.com/s/temperature.png\" width=\"520\" height=\"100\" alt=\"Earth temperature timeline\"></a>\n",
      "<br />\n",
      "<div>\n",
      "<!--\n",
      "Search comic titles and transcripts:\n",
      "<script type=\"text/javascript\" src=\"//www.google.com/jsapi\"></script>\n",
      "<script type=\"text/javascript\">google.load('search', '1');google.setOnLoadCallback(function() {google.search.CustomSearchControl.attachAutoCompletion('012652707207066138651:zudjtuwe28q',document.getElementById('q'),'cse-search-box');});</script>\n",
      "<form action=\"//www.google.com/cse\" id=\"cse-search-box\">\n",
      "<div>\n",
      "<input type=\"hidden\" name=\"cx\" value=\"012652707207066138651:zudjtuwe28q\"/>\n",
      "<input type=\"hidden\" name=\"ie\" value=\"UTF-8\"/>\n",
      "<input type=\"text\" name=\"q\" id=\"q\" size=\"31\"/>\n",
      "<input type=\"submit\" name=\"sa\" value=\"Search\"/>\n",
      "</div>\n",
      "</form>\n",
      "<script type=\"text/javascript\" src=\"//www.google.com/cse/brand?form=cse-search-box&amp;lang=en\"></script>\n",
      "-->\n",
      "<a href=\"/rss.xml\">RSS Feed</a> - <a href=\"/atom.xml\">Atom Feed</a> - <a href=\"/newsletter/\">Email</a>\n",
      "</div>\n",
      "<br />\n",
      "<div id=\"comicLinks\">\n",
      "Comics I enjoy:<br/>\n",
      "        <a href=\"http://threewordphrase.com/\">Three Word Phrase</a>,\n",
      "        <a href=\"http://www.smbc-comics.com/\">SMBC</a>,\n",
      "        <a href=\"http://www.qwantz.com\">Dinosaur Comics</a>,\n",
      "        <a href=\"http://oglaf.com/\">Oglaf</a> (nsfw),\n",
      "        <a href=\"http://www.asofterworld.com\">A Softer World</a>,\n",
      "        <a href=\"http://buttersafe.com/\">Buttersafe</a>,\n",
      "        <a href=\"http://pbfcomics.com/\">Perry Bible Fellowship</a>,\n",
      "        <a href=\"http://questionablecontent.net/\">Questionable Content</a>,\n",
      "        <a href=\"http://www.buttercupfestival.com/\">Buttercup Festival</a>,\n",
      "        <a href=\"http://www.mspaintadventures.com/?s=6&p=001901\">Homestuck</a>,\n",
      "\t<a href=\"http://www.jspowerhour.com/\">Junior Scientist Power Hour</a>\n",
      "</div>\n",
      "<br />\n",
      "<div id=\"comicLinks\">\n",
      "Other things:<br/>\n",
      "        <a href=\"https://medium.com/civic-tech-thoughts-from-joshdata/so-you-want-to-reform-democracy-7f3b1ef10597\">Tips on technology and government</a>,<br /> \n",
      "        <a href=\"https://www.nytimes.com/interactive/2017/climate/what-is-climate-change.html\">Climate FAQ</a>,\n",
      "\t<a href=\"https://twitter.com/KHayhoe\">Katharine Hayhoe</a>\n",
      "</div>\n",
      "<br />\n",
      "<center>\n",
      "<div id=\"footnote\" style=\"width:70%\">xkcd.com is best viewed with Netscape Navigator 4.0 or below on a Pentium 3&plusmn;1 emulated in Javascript on an Apple IIGS<br />at a screen resolution of 1024x1. Please enable your ad blockers, disable high-heat drying, and remove your device<br />from Airplane Mode and set it to Boat Mode. For security reasons, please leave caps lock on while browsing.</div>\n",
      "</center>\n",
      "<div id=\"licenseText\">\n",
      "<p>\n",
      "This work is licensed under a\n",
      "<a href=\"http://creativecommons.org/licenses/by-nc/2.5/\">Creative Commons Attribution-NonCommercial 2.5 License</a>.\n",
      "</p><p>\n",
      "This means you're free to copy and share these comics (but not to sell them). <a rel=\"license\" href=\"/license.html\">More details</a>.</p>\n",
      "</div>\n",
      "</div>\n",
      "</body>\n",
      "<!-- Layout by Ian Clasbey, davean, and chromakode -->\n",
      "</html>\n",
      "\n",
      "\n"
     ]
    }
   ],
   "source": [
    "print(r.text)"
   ]
  },
  {
   "cell_type": "code",
   "execution_count": 34,
   "metadata": {},
   "outputs": [],
   "source": [
    "new_r = requests.get('https://imgs.xkcd.com/comics/python.png')\n",
    "\n",
    "with open('comic.png', 'wb') as f: #create context manager to write the byte content of the requested file\n",
    "    f.write(new_r.content) #content is downloaded into the directory"
   ]
  },
  {
   "cell_type": "code",
   "execution_count": 38,
   "metadata": {},
   "outputs": [
    {
     "name": "stdout",
     "output_type": "stream",
     "text": [
      "200\n"
     ]
    }
   ],
   "source": [
    "print(new_r.status_code) #200 is success, 300 is redirect, 400 is client error, 500: server error"
   ]
  },
  {
   "cell_type": "code",
   "execution_count": null,
   "metadata": {},
   "outputs": [],
   "source": [
    "print(new_r.ok) #returns True if status code is < 400"
   ]
  },
  {
   "cell_type": "code",
   "execution_count": 40,
   "metadata": {},
   "outputs": [
    {
     "name": "stdout",
     "output_type": "stream",
     "text": [
      "{\n",
      "  \"args\": {\n",
      "    \"count\": \"25\", \n",
      "    \"page\": \"2\"\n",
      "  }, \n",
      "  \"headers\": {\n",
      "    \"Accept\": \"*/*\", \n",
      "    \"Accept-Encoding\": \"gzip, deflate\", \n",
      "    \"Host\": \"httpbin.org\", \n",
      "    \"User-Agent\": \"python-requests/2.21.0\", \n",
      "    \"X-Amzn-Trace-Id\": \"Root=1-5e424baa-fa4eba9983ac5a8243673804\"\n",
      "  }, \n",
      "  \"origin\": \"149.233.47.215\", \n",
      "  \"url\": \"https://httpbin.org/get?page=2&count=25\"\n",
      "}\n",
      "\n"
     ]
    }
   ],
   "source": [
    "#Test different HTTP method: https://httpbin.org/\n",
    "\n",
    "payload = {'page': 2, 'count': 25} # dict of params to put into requested link \n",
    "\n",
    "r = requests.get('https://httpbin.org/get', params = payload) #equivalent: https://httpbin.org/get/?page=2&count=25\n",
    "print(r.text)"
   ]
  },
  {
   "cell_type": "code",
   "execution_count": 41,
   "metadata": {},
   "outputs": [
    {
     "name": "stdout",
     "output_type": "stream",
     "text": [
      "https://httpbin.org/get?page=2&count=25\n"
     ]
    }
   ],
   "source": [
    "print(r.url) #correct url parameters creation"
   ]
  },
  {
   "cell_type": "code",
   "execution_count": 44,
   "metadata": {},
   "outputs": [
    {
     "name": "stdout",
     "output_type": "stream",
     "text": [
      "{'pass': 'testing', 'user': 'corey'}\n"
     ]
    }
   ],
   "source": [
    "#Post to route\n",
    "\n",
    "payload = {'user': 'corey', 'pass': 'testing'} # dict of params to put into requested link \n",
    "\n",
    "r = requests.post('https://httpbin.org/post', data = payload) #equivalent: https://httpbin.org/get/?page=2&count=25\n",
    "r_dict = r.json() #create a dict from that json response and can be used as any dict in Python\n",
    "print(r_dict['form']) #same as importing json modules then using json.load on text"
   ]
  },
  {
   "cell_type": "code",
   "execution_count": 45,
   "metadata": {},
   "outputs": [
    {
     "name": "stdout",
     "output_type": "stream",
     "text": [
      "{\n",
      "  \"authenticated\": true, \n",
      "  \"user\": \"corey\"\n",
      "}\n",
      "\n",
      "<Response [200]>\n"
     ]
    }
   ],
   "source": [
    "#Test authentication - specify creditials in the url, pass different creditials to the route and see if it works \n",
    "\n",
    "r = requests.get('https://httpbin.org/basic-auth/corey/testing', auth = ('corey', 'testing')) \n",
    "print(r.text)\n",
    "print(r)"
   ]
  },
  {
   "cell_type": "code",
   "execution_count": 47,
   "metadata": {},
   "outputs": [
    {
     "name": "stdout",
     "output_type": "stream",
     "text": [
      "\n",
      "<Response [401]>\n"
     ]
    }
   ],
   "source": [
    "r = requests.get('https://httpbin.org/basic-auth/corey/testing', auth = ('coreyms', 'testing')) #wrong user\n",
    "print(r.text)\n",
    "print(r)"
   ]
  },
  {
   "cell_type": "code",
   "execution_count": 48,
   "metadata": {},
   "outputs": [
    {
     "ename": "ReadTimeout",
     "evalue": "HTTPSConnectionPool(host='httpbin.org', port=443): Read timed out. (read timeout=3)",
     "output_type": "error",
     "traceback": [
      "\u001b[0;31m---------------------------------------------------------------------------\u001b[0m",
      "\u001b[0;31mtimeout\u001b[0m                                   Traceback (most recent call last)",
      "\u001b[0;32m~/anaconda3/lib/python3.6/site-packages/urllib3/connectionpool.py\u001b[0m in \u001b[0;36m_make_request\u001b[0;34m(self, conn, method, url, timeout, chunked, **httplib_request_kw)\u001b[0m\n\u001b[1;32m    383\u001b[0m                     \u001b[0;31m# otherwise it looks like a programming error was the cause.\u001b[0m\u001b[0;34m\u001b[0m\u001b[0;34m\u001b[0m\u001b[0m\n\u001b[0;32m--> 384\u001b[0;31m                     \u001b[0msix\u001b[0m\u001b[0;34m.\u001b[0m\u001b[0mraise_from\u001b[0m\u001b[0;34m(\u001b[0m\u001b[0me\u001b[0m\u001b[0;34m,\u001b[0m \u001b[0;32mNone\u001b[0m\u001b[0;34m)\u001b[0m\u001b[0;34m\u001b[0m\u001b[0m\n\u001b[0m\u001b[1;32m    385\u001b[0m         \u001b[0;32mexcept\u001b[0m \u001b[0;34m(\u001b[0m\u001b[0mSocketTimeout\u001b[0m\u001b[0;34m,\u001b[0m \u001b[0mBaseSSLError\u001b[0m\u001b[0;34m,\u001b[0m \u001b[0mSocketError\u001b[0m\u001b[0;34m)\u001b[0m \u001b[0;32mas\u001b[0m \u001b[0me\u001b[0m\u001b[0;34m:\u001b[0m\u001b[0;34m\u001b[0m\u001b[0m\n",
      "\u001b[0;32m~/anaconda3/lib/python3.6/site-packages/urllib3/packages/six.py\u001b[0m in \u001b[0;36mraise_from\u001b[0;34m(value, from_value)\u001b[0m\n",
      "\u001b[0;32m~/anaconda3/lib/python3.6/site-packages/urllib3/connectionpool.py\u001b[0m in \u001b[0;36m_make_request\u001b[0;34m(self, conn, method, url, timeout, chunked, **httplib_request_kw)\u001b[0m\n\u001b[1;32m    379\u001b[0m                 \u001b[0;32mtry\u001b[0m\u001b[0;34m:\u001b[0m\u001b[0;34m\u001b[0m\u001b[0m\n\u001b[0;32m--> 380\u001b[0;31m                     \u001b[0mhttplib_response\u001b[0m \u001b[0;34m=\u001b[0m \u001b[0mconn\u001b[0m\u001b[0;34m.\u001b[0m\u001b[0mgetresponse\u001b[0m\u001b[0;34m(\u001b[0m\u001b[0;34m)\u001b[0m\u001b[0;34m\u001b[0m\u001b[0m\n\u001b[0m\u001b[1;32m    381\u001b[0m                 \u001b[0;32mexcept\u001b[0m \u001b[0mException\u001b[0m \u001b[0;32mas\u001b[0m \u001b[0me\u001b[0m\u001b[0;34m:\u001b[0m\u001b[0;34m\u001b[0m\u001b[0m\n",
      "\u001b[0;32m~/anaconda3/lib/python3.6/http/client.py\u001b[0m in \u001b[0;36mgetresponse\u001b[0;34m(self)\u001b[0m\n\u001b[1;32m   1330\u001b[0m             \u001b[0;32mtry\u001b[0m\u001b[0;34m:\u001b[0m\u001b[0;34m\u001b[0m\u001b[0m\n\u001b[0;32m-> 1331\u001b[0;31m                 \u001b[0mresponse\u001b[0m\u001b[0;34m.\u001b[0m\u001b[0mbegin\u001b[0m\u001b[0;34m(\u001b[0m\u001b[0;34m)\u001b[0m\u001b[0;34m\u001b[0m\u001b[0m\n\u001b[0m\u001b[1;32m   1332\u001b[0m             \u001b[0;32mexcept\u001b[0m \u001b[0mConnectionError\u001b[0m\u001b[0;34m:\u001b[0m\u001b[0;34m\u001b[0m\u001b[0m\n",
      "\u001b[0;32m~/anaconda3/lib/python3.6/http/client.py\u001b[0m in \u001b[0;36mbegin\u001b[0;34m(self)\u001b[0m\n\u001b[1;32m    296\u001b[0m         \u001b[0;32mwhile\u001b[0m \u001b[0;32mTrue\u001b[0m\u001b[0;34m:\u001b[0m\u001b[0;34m\u001b[0m\u001b[0m\n\u001b[0;32m--> 297\u001b[0;31m             \u001b[0mversion\u001b[0m\u001b[0;34m,\u001b[0m \u001b[0mstatus\u001b[0m\u001b[0;34m,\u001b[0m \u001b[0mreason\u001b[0m \u001b[0;34m=\u001b[0m \u001b[0mself\u001b[0m\u001b[0;34m.\u001b[0m\u001b[0m_read_status\u001b[0m\u001b[0;34m(\u001b[0m\u001b[0;34m)\u001b[0m\u001b[0;34m\u001b[0m\u001b[0m\n\u001b[0m\u001b[1;32m    298\u001b[0m             \u001b[0;32mif\u001b[0m \u001b[0mstatus\u001b[0m \u001b[0;34m!=\u001b[0m \u001b[0mCONTINUE\u001b[0m\u001b[0;34m:\u001b[0m\u001b[0;34m\u001b[0m\u001b[0m\n",
      "\u001b[0;32m~/anaconda3/lib/python3.6/http/client.py\u001b[0m in \u001b[0;36m_read_status\u001b[0;34m(self)\u001b[0m\n\u001b[1;32m    257\u001b[0m     \u001b[0;32mdef\u001b[0m \u001b[0m_read_status\u001b[0m\u001b[0;34m(\u001b[0m\u001b[0mself\u001b[0m\u001b[0;34m)\u001b[0m\u001b[0;34m:\u001b[0m\u001b[0;34m\u001b[0m\u001b[0m\n\u001b[0;32m--> 258\u001b[0;31m         \u001b[0mline\u001b[0m \u001b[0;34m=\u001b[0m \u001b[0mstr\u001b[0m\u001b[0;34m(\u001b[0m\u001b[0mself\u001b[0m\u001b[0;34m.\u001b[0m\u001b[0mfp\u001b[0m\u001b[0;34m.\u001b[0m\u001b[0mreadline\u001b[0m\u001b[0;34m(\u001b[0m\u001b[0m_MAXLINE\u001b[0m \u001b[0;34m+\u001b[0m \u001b[0;36m1\u001b[0m\u001b[0;34m)\u001b[0m\u001b[0;34m,\u001b[0m \u001b[0;34m\"iso-8859-1\"\u001b[0m\u001b[0;34m)\u001b[0m\u001b[0;34m\u001b[0m\u001b[0m\n\u001b[0m\u001b[1;32m    259\u001b[0m         \u001b[0;32mif\u001b[0m \u001b[0mlen\u001b[0m\u001b[0;34m(\u001b[0m\u001b[0mline\u001b[0m\u001b[0;34m)\u001b[0m \u001b[0;34m>\u001b[0m \u001b[0m_MAXLINE\u001b[0m\u001b[0;34m:\u001b[0m\u001b[0;34m\u001b[0m\u001b[0m\n",
      "\u001b[0;32m~/anaconda3/lib/python3.6/socket.py\u001b[0m in \u001b[0;36mreadinto\u001b[0;34m(self, b)\u001b[0m\n\u001b[1;32m    585\u001b[0m             \u001b[0;32mtry\u001b[0m\u001b[0;34m:\u001b[0m\u001b[0;34m\u001b[0m\u001b[0m\n\u001b[0;32m--> 586\u001b[0;31m                 \u001b[0;32mreturn\u001b[0m \u001b[0mself\u001b[0m\u001b[0;34m.\u001b[0m\u001b[0m_sock\u001b[0m\u001b[0;34m.\u001b[0m\u001b[0mrecv_into\u001b[0m\u001b[0;34m(\u001b[0m\u001b[0mb\u001b[0m\u001b[0;34m)\u001b[0m\u001b[0;34m\u001b[0m\u001b[0m\n\u001b[0m\u001b[1;32m    587\u001b[0m             \u001b[0;32mexcept\u001b[0m \u001b[0mtimeout\u001b[0m\u001b[0;34m:\u001b[0m\u001b[0;34m\u001b[0m\u001b[0m\n",
      "\u001b[0;32m~/anaconda3/lib/python3.6/site-packages/urllib3/contrib/pyopenssl.py\u001b[0m in \u001b[0;36mrecv_into\u001b[0;34m(self, *args, **kwargs)\u001b[0m\n\u001b[1;32m    306\u001b[0m             \u001b[0;32mif\u001b[0m \u001b[0;32mnot\u001b[0m \u001b[0mutil\u001b[0m\u001b[0;34m.\u001b[0m\u001b[0mwait_for_read\u001b[0m\u001b[0;34m(\u001b[0m\u001b[0mself\u001b[0m\u001b[0;34m.\u001b[0m\u001b[0msocket\u001b[0m\u001b[0;34m,\u001b[0m \u001b[0mself\u001b[0m\u001b[0;34m.\u001b[0m\u001b[0msocket\u001b[0m\u001b[0;34m.\u001b[0m\u001b[0mgettimeout\u001b[0m\u001b[0;34m(\u001b[0m\u001b[0;34m)\u001b[0m\u001b[0;34m)\u001b[0m\u001b[0;34m:\u001b[0m\u001b[0;34m\u001b[0m\u001b[0m\n\u001b[0;32m--> 307\u001b[0;31m                 \u001b[0;32mraise\u001b[0m \u001b[0mtimeout\u001b[0m\u001b[0;34m(\u001b[0m\u001b[0;34m'The read operation timed out'\u001b[0m\u001b[0;34m)\u001b[0m\u001b[0;34m\u001b[0m\u001b[0m\n\u001b[0m\u001b[1;32m    308\u001b[0m             \u001b[0;32melse\u001b[0m\u001b[0;34m:\u001b[0m\u001b[0;34m\u001b[0m\u001b[0m\n",
      "\u001b[0;31mtimeout\u001b[0m: The read operation timed out",
      "\nDuring handling of the above exception, another exception occurred:\n",
      "\u001b[0;31mReadTimeoutError\u001b[0m                          Traceback (most recent call last)",
      "\u001b[0;32m~/anaconda3/lib/python3.6/site-packages/requests/adapters.py\u001b[0m in \u001b[0;36msend\u001b[0;34m(self, request, stream, timeout, verify, cert, proxies)\u001b[0m\n\u001b[1;32m    448\u001b[0m                     \u001b[0mretries\u001b[0m\u001b[0;34m=\u001b[0m\u001b[0mself\u001b[0m\u001b[0;34m.\u001b[0m\u001b[0mmax_retries\u001b[0m\u001b[0;34m,\u001b[0m\u001b[0;34m\u001b[0m\u001b[0m\n\u001b[0;32m--> 449\u001b[0;31m                     \u001b[0mtimeout\u001b[0m\u001b[0;34m=\u001b[0m\u001b[0mtimeout\u001b[0m\u001b[0;34m\u001b[0m\u001b[0m\n\u001b[0m\u001b[1;32m    450\u001b[0m                 )\n",
      "\u001b[0;32m~/anaconda3/lib/python3.6/site-packages/urllib3/connectionpool.py\u001b[0m in \u001b[0;36murlopen\u001b[0;34m(self, method, url, body, headers, retries, redirect, assert_same_host, timeout, pool_timeout, release_conn, chunked, body_pos, **response_kw)\u001b[0m\n\u001b[1;32m    637\u001b[0m             retries = retries.increment(method, url, error=e, _pool=self,\n\u001b[0;32m--> 638\u001b[0;31m                                         _stacktrace=sys.exc_info()[2])\n\u001b[0m\u001b[1;32m    639\u001b[0m             \u001b[0mretries\u001b[0m\u001b[0;34m.\u001b[0m\u001b[0msleep\u001b[0m\u001b[0;34m(\u001b[0m\u001b[0;34m)\u001b[0m\u001b[0;34m\u001b[0m\u001b[0m\n",
      "\u001b[0;32m~/anaconda3/lib/python3.6/site-packages/urllib3/util/retry.py\u001b[0m in \u001b[0;36mincrement\u001b[0;34m(self, method, url, response, error, _pool, _stacktrace)\u001b[0m\n\u001b[1;32m    366\u001b[0m             \u001b[0;32mif\u001b[0m \u001b[0mread\u001b[0m \u001b[0;32mis\u001b[0m \u001b[0;32mFalse\u001b[0m \u001b[0;32mor\u001b[0m \u001b[0;32mnot\u001b[0m \u001b[0mself\u001b[0m\u001b[0;34m.\u001b[0m\u001b[0m_is_method_retryable\u001b[0m\u001b[0;34m(\u001b[0m\u001b[0mmethod\u001b[0m\u001b[0;34m)\u001b[0m\u001b[0;34m:\u001b[0m\u001b[0;34m\u001b[0m\u001b[0m\n\u001b[0;32m--> 367\u001b[0;31m                 \u001b[0;32mraise\u001b[0m \u001b[0msix\u001b[0m\u001b[0;34m.\u001b[0m\u001b[0mreraise\u001b[0m\u001b[0;34m(\u001b[0m\u001b[0mtype\u001b[0m\u001b[0;34m(\u001b[0m\u001b[0merror\u001b[0m\u001b[0;34m)\u001b[0m\u001b[0;34m,\u001b[0m \u001b[0merror\u001b[0m\u001b[0;34m,\u001b[0m \u001b[0m_stacktrace\u001b[0m\u001b[0;34m)\u001b[0m\u001b[0;34m\u001b[0m\u001b[0m\n\u001b[0m\u001b[1;32m    368\u001b[0m             \u001b[0;32melif\u001b[0m \u001b[0mread\u001b[0m \u001b[0;32mis\u001b[0m \u001b[0;32mnot\u001b[0m \u001b[0;32mNone\u001b[0m\u001b[0;34m:\u001b[0m\u001b[0;34m\u001b[0m\u001b[0m\n",
      "\u001b[0;32m~/anaconda3/lib/python3.6/site-packages/urllib3/packages/six.py\u001b[0m in \u001b[0;36mreraise\u001b[0;34m(tp, value, tb)\u001b[0m\n\u001b[1;32m    685\u001b[0m             \u001b[0;32mraise\u001b[0m \u001b[0mvalue\u001b[0m\u001b[0;34m.\u001b[0m\u001b[0mwith_traceback\u001b[0m\u001b[0;34m(\u001b[0m\u001b[0mtb\u001b[0m\u001b[0;34m)\u001b[0m\u001b[0;34m\u001b[0m\u001b[0m\n\u001b[0;32m--> 686\u001b[0;31m         \u001b[0;32mraise\u001b[0m \u001b[0mvalue\u001b[0m\u001b[0;34m\u001b[0m\u001b[0m\n\u001b[0m\u001b[1;32m    687\u001b[0m \u001b[0;34m\u001b[0m\u001b[0m\n",
      "\u001b[0;32m~/anaconda3/lib/python3.6/site-packages/urllib3/connectionpool.py\u001b[0m in \u001b[0;36murlopen\u001b[0;34m(self, method, url, body, headers, retries, redirect, assert_same_host, timeout, pool_timeout, release_conn, chunked, body_pos, **response_kw)\u001b[0m\n\u001b[1;32m    599\u001b[0m                                                   \u001b[0mbody\u001b[0m\u001b[0;34m=\u001b[0m\u001b[0mbody\u001b[0m\u001b[0;34m,\u001b[0m \u001b[0mheaders\u001b[0m\u001b[0;34m=\u001b[0m\u001b[0mheaders\u001b[0m\u001b[0;34m,\u001b[0m\u001b[0;34m\u001b[0m\u001b[0m\n\u001b[0;32m--> 600\u001b[0;31m                                                   chunked=chunked)\n\u001b[0m\u001b[1;32m    601\u001b[0m \u001b[0;34m\u001b[0m\u001b[0m\n",
      "\u001b[0;32m~/anaconda3/lib/python3.6/site-packages/urllib3/connectionpool.py\u001b[0m in \u001b[0;36m_make_request\u001b[0;34m(self, conn, method, url, timeout, chunked, **httplib_request_kw)\u001b[0m\n\u001b[1;32m    385\u001b[0m         \u001b[0;32mexcept\u001b[0m \u001b[0;34m(\u001b[0m\u001b[0mSocketTimeout\u001b[0m\u001b[0;34m,\u001b[0m \u001b[0mBaseSSLError\u001b[0m\u001b[0;34m,\u001b[0m \u001b[0mSocketError\u001b[0m\u001b[0;34m)\u001b[0m \u001b[0;32mas\u001b[0m \u001b[0me\u001b[0m\u001b[0;34m:\u001b[0m\u001b[0;34m\u001b[0m\u001b[0m\n\u001b[0;32m--> 386\u001b[0;31m             \u001b[0mself\u001b[0m\u001b[0;34m.\u001b[0m\u001b[0m_raise_timeout\u001b[0m\u001b[0;34m(\u001b[0m\u001b[0merr\u001b[0m\u001b[0;34m=\u001b[0m\u001b[0me\u001b[0m\u001b[0;34m,\u001b[0m \u001b[0murl\u001b[0m\u001b[0;34m=\u001b[0m\u001b[0murl\u001b[0m\u001b[0;34m,\u001b[0m \u001b[0mtimeout_value\u001b[0m\u001b[0;34m=\u001b[0m\u001b[0mread_timeout\u001b[0m\u001b[0;34m)\u001b[0m\u001b[0;34m\u001b[0m\u001b[0m\n\u001b[0m\u001b[1;32m    387\u001b[0m             \u001b[0;32mraise\u001b[0m\u001b[0;34m\u001b[0m\u001b[0m\n",
      "\u001b[0;32m~/anaconda3/lib/python3.6/site-packages/urllib3/connectionpool.py\u001b[0m in \u001b[0;36m_raise_timeout\u001b[0;34m(self, err, url, timeout_value)\u001b[0m\n\u001b[1;32m    305\u001b[0m         \u001b[0;32mif\u001b[0m \u001b[0misinstance\u001b[0m\u001b[0;34m(\u001b[0m\u001b[0merr\u001b[0m\u001b[0;34m,\u001b[0m \u001b[0mSocketTimeout\u001b[0m\u001b[0;34m)\u001b[0m\u001b[0;34m:\u001b[0m\u001b[0;34m\u001b[0m\u001b[0m\n\u001b[0;32m--> 306\u001b[0;31m             \u001b[0;32mraise\u001b[0m \u001b[0mReadTimeoutError\u001b[0m\u001b[0;34m(\u001b[0m\u001b[0mself\u001b[0m\u001b[0;34m,\u001b[0m \u001b[0murl\u001b[0m\u001b[0;34m,\u001b[0m \u001b[0;34m\"Read timed out. (read timeout=%s)\"\u001b[0m \u001b[0;34m%\u001b[0m \u001b[0mtimeout_value\u001b[0m\u001b[0;34m)\u001b[0m\u001b[0;34m\u001b[0m\u001b[0m\n\u001b[0m\u001b[1;32m    307\u001b[0m \u001b[0;34m\u001b[0m\u001b[0m\n",
      "\u001b[0;31mReadTimeoutError\u001b[0m: HTTPSConnectionPool(host='httpbin.org', port=443): Read timed out. (read timeout=3)",
      "\nDuring handling of the above exception, another exception occurred:\n",
      "\u001b[0;31mReadTimeout\u001b[0m                               Traceback (most recent call last)",
      "\u001b[0;32m<ipython-input-48-ebbba5692275>\u001b[0m in \u001b[0;36m<module>\u001b[0;34m\u001b[0m\n\u001b[1;32m      1\u001b[0m \u001b[0;31m#timeout for cases when request takes too long\u001b[0m\u001b[0;34m\u001b[0m\u001b[0;34m\u001b[0m\u001b[0m\n\u001b[1;32m      2\u001b[0m \u001b[0;34m\u001b[0m\u001b[0m\n\u001b[0;32m----> 3\u001b[0;31m \u001b[0mr\u001b[0m \u001b[0;34m=\u001b[0m \u001b[0mrequests\u001b[0m\u001b[0;34m.\u001b[0m\u001b[0mget\u001b[0m\u001b[0;34m(\u001b[0m\u001b[0;34m'https://httpbin.org/delay/6'\u001b[0m\u001b[0;34m,\u001b[0m \u001b[0mtimeout\u001b[0m\u001b[0;34m=\u001b[0m\u001b[0;36m3\u001b[0m\u001b[0;34m)\u001b[0m \u001b[0;31m#wrong user\u001b[0m\u001b[0;34m\u001b[0m\u001b[0m\n\u001b[0m\u001b[1;32m      4\u001b[0m \u001b[0mprint\u001b[0m\u001b[0;34m(\u001b[0m\u001b[0mr\u001b[0m\u001b[0;34m)\u001b[0m\u001b[0;34m\u001b[0m\u001b[0m\n",
      "\u001b[0;32m~/anaconda3/lib/python3.6/site-packages/requests/api.py\u001b[0m in \u001b[0;36mget\u001b[0;34m(url, params, **kwargs)\u001b[0m\n\u001b[1;32m     73\u001b[0m \u001b[0;34m\u001b[0m\u001b[0m\n\u001b[1;32m     74\u001b[0m     \u001b[0mkwargs\u001b[0m\u001b[0;34m.\u001b[0m\u001b[0msetdefault\u001b[0m\u001b[0;34m(\u001b[0m\u001b[0;34m'allow_redirects'\u001b[0m\u001b[0;34m,\u001b[0m \u001b[0;32mTrue\u001b[0m\u001b[0;34m)\u001b[0m\u001b[0;34m\u001b[0m\u001b[0m\n\u001b[0;32m---> 75\u001b[0;31m     \u001b[0;32mreturn\u001b[0m \u001b[0mrequest\u001b[0m\u001b[0;34m(\u001b[0m\u001b[0;34m'get'\u001b[0m\u001b[0;34m,\u001b[0m \u001b[0murl\u001b[0m\u001b[0;34m,\u001b[0m \u001b[0mparams\u001b[0m\u001b[0;34m=\u001b[0m\u001b[0mparams\u001b[0m\u001b[0;34m,\u001b[0m \u001b[0;34m**\u001b[0m\u001b[0mkwargs\u001b[0m\u001b[0;34m)\u001b[0m\u001b[0;34m\u001b[0m\u001b[0m\n\u001b[0m\u001b[1;32m     76\u001b[0m \u001b[0;34m\u001b[0m\u001b[0m\n\u001b[1;32m     77\u001b[0m \u001b[0;34m\u001b[0m\u001b[0m\n",
      "\u001b[0;32m~/anaconda3/lib/python3.6/site-packages/requests/api.py\u001b[0m in \u001b[0;36mrequest\u001b[0;34m(method, url, **kwargs)\u001b[0m\n\u001b[1;32m     58\u001b[0m     \u001b[0;31m# cases, and look like a memory leak in others.\u001b[0m\u001b[0;34m\u001b[0m\u001b[0;34m\u001b[0m\u001b[0m\n\u001b[1;32m     59\u001b[0m     \u001b[0;32mwith\u001b[0m \u001b[0msessions\u001b[0m\u001b[0;34m.\u001b[0m\u001b[0mSession\u001b[0m\u001b[0;34m(\u001b[0m\u001b[0;34m)\u001b[0m \u001b[0;32mas\u001b[0m \u001b[0msession\u001b[0m\u001b[0;34m:\u001b[0m\u001b[0;34m\u001b[0m\u001b[0m\n\u001b[0;32m---> 60\u001b[0;31m         \u001b[0;32mreturn\u001b[0m \u001b[0msession\u001b[0m\u001b[0;34m.\u001b[0m\u001b[0mrequest\u001b[0m\u001b[0;34m(\u001b[0m\u001b[0mmethod\u001b[0m\u001b[0;34m=\u001b[0m\u001b[0mmethod\u001b[0m\u001b[0;34m,\u001b[0m \u001b[0murl\u001b[0m\u001b[0;34m=\u001b[0m\u001b[0murl\u001b[0m\u001b[0;34m,\u001b[0m \u001b[0;34m**\u001b[0m\u001b[0mkwargs\u001b[0m\u001b[0;34m)\u001b[0m\u001b[0;34m\u001b[0m\u001b[0m\n\u001b[0m\u001b[1;32m     61\u001b[0m \u001b[0;34m\u001b[0m\u001b[0m\n\u001b[1;32m     62\u001b[0m \u001b[0;34m\u001b[0m\u001b[0m\n",
      "\u001b[0;32m~/anaconda3/lib/python3.6/site-packages/requests/sessions.py\u001b[0m in \u001b[0;36mrequest\u001b[0;34m(self, method, url, params, data, headers, cookies, files, auth, timeout, allow_redirects, proxies, hooks, stream, verify, cert, json)\u001b[0m\n\u001b[1;32m    531\u001b[0m         }\n\u001b[1;32m    532\u001b[0m         \u001b[0msend_kwargs\u001b[0m\u001b[0;34m.\u001b[0m\u001b[0mupdate\u001b[0m\u001b[0;34m(\u001b[0m\u001b[0msettings\u001b[0m\u001b[0;34m)\u001b[0m\u001b[0;34m\u001b[0m\u001b[0m\n\u001b[0;32m--> 533\u001b[0;31m         \u001b[0mresp\u001b[0m \u001b[0;34m=\u001b[0m \u001b[0mself\u001b[0m\u001b[0;34m.\u001b[0m\u001b[0msend\u001b[0m\u001b[0;34m(\u001b[0m\u001b[0mprep\u001b[0m\u001b[0;34m,\u001b[0m \u001b[0;34m**\u001b[0m\u001b[0msend_kwargs\u001b[0m\u001b[0;34m)\u001b[0m\u001b[0;34m\u001b[0m\u001b[0m\n\u001b[0m\u001b[1;32m    534\u001b[0m \u001b[0;34m\u001b[0m\u001b[0m\n\u001b[1;32m    535\u001b[0m         \u001b[0;32mreturn\u001b[0m \u001b[0mresp\u001b[0m\u001b[0;34m\u001b[0m\u001b[0m\n",
      "\u001b[0;32m~/anaconda3/lib/python3.6/site-packages/requests/sessions.py\u001b[0m in \u001b[0;36msend\u001b[0;34m(self, request, **kwargs)\u001b[0m\n\u001b[1;32m    644\u001b[0m \u001b[0;34m\u001b[0m\u001b[0m\n\u001b[1;32m    645\u001b[0m         \u001b[0;31m# Send the request\u001b[0m\u001b[0;34m\u001b[0m\u001b[0;34m\u001b[0m\u001b[0m\n\u001b[0;32m--> 646\u001b[0;31m         \u001b[0mr\u001b[0m \u001b[0;34m=\u001b[0m \u001b[0madapter\u001b[0m\u001b[0;34m.\u001b[0m\u001b[0msend\u001b[0m\u001b[0;34m(\u001b[0m\u001b[0mrequest\u001b[0m\u001b[0;34m,\u001b[0m \u001b[0;34m**\u001b[0m\u001b[0mkwargs\u001b[0m\u001b[0;34m)\u001b[0m\u001b[0;34m\u001b[0m\u001b[0m\n\u001b[0m\u001b[1;32m    647\u001b[0m \u001b[0;34m\u001b[0m\u001b[0m\n\u001b[1;32m    648\u001b[0m         \u001b[0;31m# Total elapsed time of the request (approximately)\u001b[0m\u001b[0;34m\u001b[0m\u001b[0;34m\u001b[0m\u001b[0m\n",
      "\u001b[0;32m~/anaconda3/lib/python3.6/site-packages/requests/adapters.py\u001b[0m in \u001b[0;36msend\u001b[0;34m(self, request, stream, timeout, verify, cert, proxies)\u001b[0m\n\u001b[1;32m    527\u001b[0m                 \u001b[0;32mraise\u001b[0m \u001b[0mSSLError\u001b[0m\u001b[0;34m(\u001b[0m\u001b[0me\u001b[0m\u001b[0;34m,\u001b[0m \u001b[0mrequest\u001b[0m\u001b[0;34m=\u001b[0m\u001b[0mrequest\u001b[0m\u001b[0;34m)\u001b[0m\u001b[0;34m\u001b[0m\u001b[0m\n\u001b[1;32m    528\u001b[0m             \u001b[0;32melif\u001b[0m \u001b[0misinstance\u001b[0m\u001b[0;34m(\u001b[0m\u001b[0me\u001b[0m\u001b[0;34m,\u001b[0m \u001b[0mReadTimeoutError\u001b[0m\u001b[0;34m)\u001b[0m\u001b[0;34m:\u001b[0m\u001b[0;34m\u001b[0m\u001b[0m\n\u001b[0;32m--> 529\u001b[0;31m                 \u001b[0;32mraise\u001b[0m \u001b[0mReadTimeout\u001b[0m\u001b[0;34m(\u001b[0m\u001b[0me\u001b[0m\u001b[0;34m,\u001b[0m \u001b[0mrequest\u001b[0m\u001b[0;34m=\u001b[0m\u001b[0mrequest\u001b[0m\u001b[0;34m)\u001b[0m\u001b[0;34m\u001b[0m\u001b[0m\n\u001b[0m\u001b[1;32m    530\u001b[0m             \u001b[0;32melse\u001b[0m\u001b[0;34m:\u001b[0m\u001b[0;34m\u001b[0m\u001b[0m\n\u001b[1;32m    531\u001b[0m                 \u001b[0;32mraise\u001b[0m\u001b[0;34m\u001b[0m\u001b[0m\n",
      "\u001b[0;31mReadTimeout\u001b[0m: HTTPSConnectionPool(host='httpbin.org', port=443): Read timed out. (read timeout=3)"
     ]
    }
   ],
   "source": [
    "#timeout for cases when request takes too long\n",
    "\n",
    "r = requests.get('https://httpbin.org/delay/6', timeout=3) #wrong user\n",
    "print(r)"
   ]
  },
  {
   "cell_type": "markdown",
   "metadata": {},
   "source": [
    "### JSON - Javascript Object Notation\n",
    "\n",
    "- Common data format for storing info, especially when you fetch info from API, also used for configuration files and different data that can be saved on local machines. \n",
    "- Inpisred by Javascript but now independent of any language => any language has a parser for json\n"
   ]
  },
  {
   "cell_type": "code",
   "execution_count": 56,
   "metadata": {},
   "outputs": [
    {
     "name": "stdout",
     "output_type": "stream",
     "text": [
      "{'people': [{'name': 'John Smith', 'phone': '01332323', 'email': ['johnsmith@gmail.com', 'john@gmail.com'], 'has_license': False}, {'name': 'Jane Smith', 'phone': '01332323', 'email': None, 'has_license': True}]}\n",
      "<class 'dict'>\n"
     ]
    }
   ],
   "source": [
    "import json\n",
    "\n",
    "people_string = '''\n",
    "{\n",
    "    \"people\": [\n",
    "    {\n",
    "        \"name\": \"John Smith\",\n",
    "        \"phone\": \"01332323\", \n",
    "        \"email\": [\"johnsmith@gmail.com\", \"john@gmail.com\"],\n",
    "        \"has_license\": false\n",
    "    }, \n",
    "    {\n",
    "        \"name\": \"Jane Smith\",\n",
    "        \"phone\": \"01332323\", \n",
    "        \"email\": null,\n",
    "        \"has_license\": true\n",
    "    }\n",
    "\n",
    "    ]\n",
    "}\n",
    "'''\n",
    "\n",
    "data = json.loads(people_string) #convert json object into equivalent python object\n",
    "print(data)\n",
    "print(type(data))"
   ]
  },
  {
   "cell_type": "code",
   "execution_count": 57,
   "metadata": {},
   "outputs": [
    {
     "name": "stdout",
     "output_type": "stream",
     "text": [
      "{'name': 'John Smith', 'phone': '01332323', 'email': ['johnsmith@gmail.com', 'john@gmail.com'], 'has_license': False}\n",
      "John Smith\n",
      "{'name': 'Jane Smith', 'phone': '01332323', 'email': None, 'has_license': True}\n",
      "Jane Smith\n"
     ]
    }
   ],
   "source": [
    "for person in data['people']: #each person is a dict which we can access info from\n",
    "    print(person)\n",
    "    print(person['name'])"
   ]
  },
  {
   "cell_type": "code",
   "execution_count": 58,
   "metadata": {},
   "outputs": [
    {
     "name": "stdout",
     "output_type": "stream",
     "text": [
      "{\n",
      "  \"people\": [\n",
      "    {\n",
      "      \"name\": \"John Smith\",\n",
      "      \"email\": [\n",
      "        \"johnsmith@gmail.com\",\n",
      "        \"john@gmail.com\"\n",
      "      ],\n",
      "      \"has_license\": false\n",
      "    },\n",
      "    {\n",
      "      \"name\": \"Jane Smith\",\n",
      "      \"email\": null,\n",
      "      \"has_license\": true\n",
      "    }\n",
      "  ]\n",
      "}\n"
     ]
    }
   ],
   "source": [
    "# dump python object into json object\n",
    "\n",
    "for person in data['people']:\n",
    "    del person['phone']\n",
    "    \n",
    "new_string = json.dumps(data, indent = 2, sort_keys = True) #indent helps to format and makes json easier to read\n",
    "\n",
    "print(new_string)"
   ]
  },
  {
   "cell_type": "code",
   "execution_count": null,
   "metadata": {},
   "outputs": [],
   "source": [
    "#open files \n",
    "\n",
    "import json\n",
    "\n",
    "with open('states.json') as f:\n",
    "  data = json.load(f)\n",
    "\n",
    "for state in data['states']:\n",
    "  del state['area_codes']\n",
    "\n",
    "with open('new_states.json', 'w') as f:\n",
    "  json.dump(data, f, indent=2)\n"
   ]
  },
  {
   "cell_type": "code",
   "execution_count": null,
   "metadata": {},
   "outputs": [],
   "source": [
    "#grabbing json from a public api \n",
    "#yahoo api that converts usd into other currencies\n",
    "\n",
    "import json\n",
    "from urllib.request import urlopen\n",
    "\n",
    "with urlopen(\"https://finance.yahoo.com/webservice/v1/symbols/allcurrencies/quote?format=json\") as response:\n",
    "    source = response.read()\n",
    "\n",
    "data = json.loads(source)\n",
    "\n",
    "print(json.dumps(data, indent=2))\n",
    "\n",
    "usd_rates = dict()\n",
    "\n",
    "for item in data['list']['resources']:\n",
    "    name = item['resource']['fields']['name']\n",
    "    price = item['resource']['fields']['price']\n",
    "    usd_rates[name] = price\n",
    "\n",
    "print(50 * float(usd_rates['USD/INR'])) #convert 50usd to euros\n"
   ]
  },
  {
   "cell_type": "markdown",
   "metadata": {},
   "source": [
    "### SQLite\n",
    "\n",
    "SQLite allows us to quickly get up and running with databases, without spinning up larger databases like MySQL or Postgres. \n",
    "- Can use for small and medium size application where your database is gonna live on disc \n",
    "- Prototyping and testing application before needing to move to a larger database\n",
    "- SQLite can use memory that lives in RAM\n",
    "\n"
   ]
  },
  {
   "cell_type": "code",
   "execution_count": 61,
   "metadata": {},
   "outputs": [],
   "source": [
    "\n",
    "class Employee:\n",
    "    \"\"\"A sample Employee class\"\"\"\n",
    "\n",
    "    def __init__(self, first, last, pay):\n",
    "        self.first = first\n",
    "        self.last = last\n",
    "        self.pay = pay\n",
    "\n",
    "    @property\n",
    "    def email(self):\n",
    "        return '{}.{}@email.com'.format(self.first, self.last)\n",
    "\n",
    "    @property\n",
    "    def fullname(self):\n",
    "        return '{} {}'.format(self.first, self.last)\n",
    "\n",
    "    def __repr__(self):\n",
    "        return \"Employee('{}', '{}', {})\".format(self.first, self.last, self.pay)\n"
   ]
  },
  {
   "cell_type": "code",
   "execution_count": 69,
   "metadata": {},
   "outputs": [
    {
     "name": "stdout",
     "output_type": "stream",
     "text": [
      "('Corey', 'Shafer', 50000)\n"
     ]
    }
   ],
   "source": [
    "#create an database to delete and add employees and grab info of employees from that database\n",
    "\n",
    "import sqlite3\n",
    "from employee import Employee\n",
    "\n",
    "conn = sqlite3.connect(':memory:')\n",
    "\n",
    "c = conn.cursor()\n",
    "\n",
    "c.execute(\"\"\"CREATE TABLE employees (\n",
    "            first text,\n",
    "            last text,\n",
    "            pay integer\n",
    "            )\"\"\")\n",
    "\n",
    "\n",
    "def insert_emp(emp):\n",
    "    with conn:\n",
    "        c.execute(\"INSERT INTO employees VALUES (:first, :last, :pay)\", {'first': emp.first, 'last': emp.last, 'pay': emp.pay})\n",
    "\n",
    "\n",
    "def get_emps_by_name(lastname):\n",
    "    c.execute(\"SELECT * FROM employees WHERE last=:last\", {'last': lastname})\n",
    "    return c.fetchall()\n",
    "\n",
    "\n",
    "def update_pay(emp, pay):\n",
    "    with conn:\n",
    "        c.execute(\"\"\"UPDATE employees SET pay = :pay\n",
    "                    WHERE first = :first AND last = :last\"\"\",\n",
    "                  {'first': emp.first, 'last': emp.last, 'pay': pay})\n",
    "\n",
    "\n",
    "def remove_emp(emp):\n",
    "    with conn:\n",
    "        c.execute(\"DELETE from employees WHERE first = :first AND last = :last\",\n",
    "                  {'first': emp.first, 'last': emp.last})\n",
    "\n",
    "emp_1 = Employee('John', 'Doe', 80000)\n",
    "emp_2 = Employee('Jane', 'Doe', 90000)\n",
    "\n",
    "insert_emp(emp_1)\n",
    "insert_emp(emp_2)\n",
    "\n",
    "emps = get_emps_by_name('Doe')\n",
    "print(emps)\n",
    "\n",
    "update_pay(emp_2, 95000)\n",
    "remove_emp(emp_1)\n",
    "\n",
    "emps = get_emps_by_name('Doe')\n",
    "print(emps)\n",
    "\n",
    "conn.close()"
   ]
  },
  {
   "cell_type": "markdown",
   "metadata": {},
   "source": [
    "### Webscraping with BeautifulSoup\n",
    "\n"
   ]
  },
  {
   "cell_type": "code",
   "execution_count": 72,
   "metadata": {},
   "outputs": [
    {
     "name": "stdout",
     "output_type": "stream",
     "text": [
      "<div class=\"footer\">\n",
      "<p>Footer Information</p>\n",
      "</div>\n"
     ]
    }
   ],
   "source": [
    "from bs4 import BeautifulSoup\n",
    "import requests\n",
    "\n",
    "with open('simple.html') as html_file:\n",
    "    soup = BeautifulSoup(html_file, 'lxml')\n",
    "    \n",
    "match = soup.find('div', class_ = 'footer')\n",
    "print(match)"
   ]
  },
  {
   "cell_type": "code",
   "execution_count": 77,
   "metadata": {},
   "outputs": [
    {
     "name": "stdout",
     "output_type": "stream",
     "text": [
      "Article 1 Headline\n",
      "This is a summary of article 1\n",
      "\n",
      "Article 2 Headline\n",
      "This is a summary of article 2\n",
      "\n"
     ]
    }
   ],
   "source": [
    "for article in soup.find_all('div', class_ = 'article'):\n",
    "\n",
    "    headline = article.h2.a.text\n",
    "    print(headline)\n",
    "\n",
    "    summary = article.p.text\n",
    "    print(summary)\n",
    "    \n",
    "    print()"
   ]
  },
  {
   "cell_type": "code",
   "execution_count": 81,
   "metadata": {},
   "outputs": [],
   "source": [
    "#scrape website\n",
    "source = requests.get('https://coreyms.com/').text\n",
    "soup = BeautifulSoup(source, 'lxml')\n",
    "#print(soup.prettify())"
   ]
  },
  {
   "cell_type": "code",
   "execution_count": 88,
   "metadata": {},
   "outputs": [
    {
     "name": "stdout",
     "output_type": "stream",
     "text": [
      "Python Tutorial: Zip Files – Creating and Extracting Zip Archives\n",
      "\n",
      "In this video, we will be learning how to create and extract zip archives. We will start by using the zipfile module, and then we will see how to do this using the shutil module. We will learn how to do this with single files and directories, as well as learning how to use gzip as well. Let’s get started…\n",
      "\n",
      "z0gguhEmWiY\n"
     ]
    }
   ],
   "source": [
    "#grab first article: \n",
    "\n",
    "article = soup.find('article')\n",
    "#print(article.prettify())\n",
    "headline = article.h2.a.text\n",
    "print(headline)\n",
    " \n",
    "print()\n",
    "\n",
    "summary = article.find('div', class_ = 'entry-content').p.text\n",
    "print(summary)\n",
    "\n",
    "print()\n",
    "\n",
    "vid_src = article.find('iframe', class_ = 'youtube-player')['src'] #get yt link\n",
    "vid_id = vid_src.split('/')[4]\n",
    "vid_id = vid_id.split('?')[0]\n",
    "print(vid_id)\n",
    "\n",
    "yt_link = f'https://youtube.com/watch?v={vid_id}'"
   ]
  },
  {
   "cell_type": "code",
   "execution_count": 93,
   "metadata": {},
   "outputs": [
    {
     "name": "stdout",
     "output_type": "stream",
     "text": [
      "Python Tutorial: Zip Files – Creating and Extracting Zip Archives\n",
      "In this video, we will be learning how to create and extract zip archives. We will start by using the zipfile module, and then we will see how to do this using the shutil module. We will learn how to do this with single files and directories, as well as learning how to use gzip as well. Let’s get started…\n",
      "https://youtube.com/watch?v=z0gguhEmWiY\n",
      "\n",
      "Python Data Science Tutorial: Analyzing the 2019 Stack Overflow Developer Survey\n",
      "In this Python Programming video, we will be learning how to download and analyze real-world data from the 2019 Stack Overflow Developer Survey. This is terrific practice for anyone getting into the data science field. We will learn different ways to analyze this data and also some best practices. Let’s get started…\n",
      "https://youtube.com/watch?v=_P7X8tMplsw\n",
      "\n",
      "Python Multiprocessing Tutorial: Run Code in Parallel Using the Multiprocessing Module\n",
      "In this Python Programming video, we will be learning how to run code in parallel using the multiprocessing module. We will also look at how to process multiple high-resolution images at the same time using a ProcessPoolExecutor from the concurrent.futures module. Let’s get started…\n",
      "https://youtube.com/watch?v=fKl2JW_qrso\n",
      "\n",
      "Python Threading Tutorial: Run Code Concurrently Using the Threading Module\n",
      "In this Python Programming video, we will be learning how to run threads concurrently using the threading module. We will also look at how to download multiple high-resolution images online using a ThreadPoolExecutor from the concurrent.futures module. Let’s get started…\n",
      "https://youtube.com/watch?v=IEEhzQoKtQU\n",
      "\n",
      "Update (2019-09-03)\n",
      "Hey everyone. I wanted to give you an update on my videos. I will be releasing videos on threading and multiprocessing within the next week. Thanks so much for your patience. I currently have a temporary recording studio setup at my Airbnb that will allow me to record and edit the threading/multiprocessing videos. I am going to be moving into my new house in 10 days and once I have my recording studio setup then you can expect much faster video releases. I really appreciate how patient everyone has been while I go through this move, especially those of you who are contributing monthly through YouTube \n",
      "None\n",
      "\n",
      "Python Quick Tip: The Difference Between “==” and “is” (Equality vs Identity)\n",
      "In this Python Programming Tutorial, we will be learning the difference between using “==” and the “is” keyword when doing comparisons. The difference between these is that “==” checks to see if values are equal, and the “is” keyword checks their identity, which means it’s going to check if the values are identical in terms of being the same object in memory. We’ll learn more in the video. Let’s get started…\n",
      "https://youtube.com/watch?v=mO_dS3rXDIs\n",
      "\n",
      "Python Tutorial: Calling External Commands Using the Subprocess Module\n",
      "In this Python Programming Tutorial, we will be learning how to run external commands using the subprocess module from the standard library. We will learn how to run commands, capture the output, handle errors, and also how to pipe output into other commands. Let’s get started…\n",
      "https://youtube.com/watch?v=2Fp1N6dof0Y\n",
      "\n",
      "Visual Studio Code (Windows) – Setting up a Python Development Environment and Complete Overview\n",
      "In this Python Programming Tutorial, we will be learning how to set up a Python development environment in VSCode on Windows. VSCode is a very nice free editor for writing Python applications and many developers are now switching over to this editor. In this video, we will learn how to install VSCode, get the Python extension installed, how to change Python interpreters, create virtual environments, format/lint our code, how to use Git within VSCode, how to debug our programs, how unit testing works, and more. We have a lot to cover, so let’s go ahead and get started…\n",
      "https://youtube.com/watch?v=-nh9rCzPJ20\n",
      "\n",
      "Visual Studio Code (Mac) – Setting up a Python Development Environment and Complete Overview\n",
      "In this Python Programming Tutorial, we will be learning how to set up a Python development environment in VSCode on MacOS. VSCode is a very nice free editor for writing Python applications and many developers are now switching over to this editor. In this video, we will learn how to install VSCode, get the Python extension installed, how to change Python interpreters, create virtual environments, format/lint our code, how to use Git within VSCode, how to debug our programs, how unit testing works, and more. We have a lot to cover, so let’s go ahead and get started…\n",
      "https://youtube.com/watch?v=06I63_p-2A4\n",
      "\n",
      "Clarifying the Issues with Mutable Default Arguments\n",
      "In this Python Programming Tutorial, we will be clarifying the issues with mutable default arguments. We discussed this in my last video titled “5 Common Python Mistakes and How to Fix Them”, but I received many comments from people who were still confused. So we will be doing a deeper dive to explain exactly what is going on here. Let’s get started…\n",
      "https://youtube.com/watch?v=_JGmemuINww\n",
      "\n"
     ]
    }
   ],
   "source": [
    "#grab all \n",
    "import csv\n",
    "\n",
    "csv_file = open('csm_scrape.csv', 'w')\n",
    "\n",
    "csv_writer = csv.writer(csv_file)\n",
    "csv_writer.writerow(['headline', 'summary', 'video'])\n",
    "\n",
    "for article in soup.find_all('article'):\n",
    "    headline = article.h2.a.text\n",
    "    print(headline)\n",
    "\n",
    "    summary = article.find('div', class_ = 'entry-content').p.text\n",
    "    print(summary)\n",
    "    try: \n",
    "        vid_src = article.find('iframe', class_ = 'youtube-player')['src'] #get yt link\n",
    "        vid_id = vid_src.split('/')[4]\n",
    "        vid_id = vid_id.split('?')[0]\n",
    "        yt_link = f'https://youtube.com/watch?v={vid_id}'\n",
    "    except:\n",
    "        yt_link = None\n",
    "        \n",
    "    print(yt_link)\n",
    "    \n",
    "    print()\n",
    "    \n",
    "    csv_writer.writerow([headline, summary, yt_link])\n",
    "    \n",
    "csv_file.close()"
   ]
  },
  {
   "cell_type": "code",
   "execution_count": 96,
   "metadata": {},
   "outputs": [
    {
     "name": "stdout",
     "output_type": "stream",
     "text": [
      "Enter word 1: love\n",
      "Enter word 2: dog\n"
     ]
    },
    {
     "ename": "NameError",
     "evalue": "name 'wn' is not defined",
     "output_type": "error",
     "traceback": [
      "\u001b[0;31m---------------------------------------------------------------------------\u001b[0m",
      "\u001b[0;31mNameError\u001b[0m                                 Traceback (most recent call last)",
      "\u001b[0;32m<ipython-input-96-8155c00d73c8>\u001b[0m in \u001b[0;36m<module>\u001b[0;34m\u001b[0m\n\u001b[1;32m      6\u001b[0m   \u001b[0mm_second\u001b[0m \u001b[0;34m=\u001b[0m \u001b[0mwn\u001b[0m\u001b[0;34m.\u001b[0m\u001b[0msynset\u001b[0m\u001b[0;34m(\u001b[0m\u001b[0msecond\u001b[0m\u001b[0;34m)\u001b[0m\u001b[0;34m[\u001b[0m\u001b[0;36m0\u001b[0m\u001b[0;34m]\u001b[0m\u001b[0;34m\u001b[0m\u001b[0m\n\u001b[1;32m      7\u001b[0m   \u001b[0mprint\u001b[0m\u001b[0;34m(\u001b[0m\u001b[0mm_second\u001b[0m\u001b[0;34m.\u001b[0m\u001b[0mhypernyms\u001b[0m\u001b[0;34m(\u001b[0m\u001b[0;34m)\u001b[0m\u001b[0;34m)\u001b[0m\u001b[0;34m\u001b[0m\u001b[0m\n\u001b[0;32m----> 8\u001b[0;31m \u001b[0mlower_common_hypernym\u001b[0m\u001b[0;34m(\u001b[0m\u001b[0;34m)\u001b[0m\u001b[0;34m\u001b[0m\u001b[0m\n\u001b[0m",
      "\u001b[0;32m<ipython-input-96-8155c00d73c8>\u001b[0m in \u001b[0;36mlower_common_hypernym\u001b[0;34m()\u001b[0m\n\u001b[1;32m      2\u001b[0m   \u001b[0mfirst\u001b[0m \u001b[0;34m=\u001b[0m \u001b[0minput\u001b[0m\u001b[0;34m(\u001b[0m\u001b[0;34m\"Enter word 1: \"\u001b[0m\u001b[0;34m)\u001b[0m\u001b[0;34m\u001b[0m\u001b[0m\n\u001b[1;32m      3\u001b[0m   \u001b[0msecond\u001b[0m \u001b[0;34m=\u001b[0m \u001b[0minput\u001b[0m\u001b[0;34m(\u001b[0m\u001b[0;34m\"Enter word 2: \"\u001b[0m\u001b[0;34m)\u001b[0m\u001b[0;34m\u001b[0m\u001b[0m\n\u001b[0;32m----> 4\u001b[0;31m   \u001b[0mm_first\u001b[0m \u001b[0;34m=\u001b[0m \u001b[0mwn\u001b[0m\u001b[0;34m.\u001b[0m\u001b[0msynset\u001b[0m\u001b[0;34m(\u001b[0m\u001b[0mfirst\u001b[0m\u001b[0;34m)\u001b[0m\u001b[0;34m[\u001b[0m\u001b[0;36m0\u001b[0m\u001b[0;34m]\u001b[0m\u001b[0;34m\u001b[0m\u001b[0m\n\u001b[0m\u001b[1;32m      5\u001b[0m   \u001b[0mprint\u001b[0m\u001b[0;34m(\u001b[0m\u001b[0mm_first\u001b[0m\u001b[0;34m.\u001b[0m\u001b[0mhypernyms\u001b[0m\u001b[0;34m(\u001b[0m\u001b[0;34m)\u001b[0m\u001b[0;34m)\u001b[0m\u001b[0;34m\u001b[0m\u001b[0m\n\u001b[1;32m      6\u001b[0m   \u001b[0mm_second\u001b[0m \u001b[0;34m=\u001b[0m \u001b[0mwn\u001b[0m\u001b[0;34m.\u001b[0m\u001b[0msynset\u001b[0m\u001b[0;34m(\u001b[0m\u001b[0msecond\u001b[0m\u001b[0;34m)\u001b[0m\u001b[0;34m[\u001b[0m\u001b[0;36m0\u001b[0m\u001b[0;34m]\u001b[0m\u001b[0;34m\u001b[0m\u001b[0m\n",
      "\u001b[0;31mNameError\u001b[0m: name 'wn' is not defined"
     ]
    }
   ],
   "source": [
    "def lower_common_hypernym():\n",
    "  first = input(\"Enter word 1: \")\n",
    "  second = input(\"Enter word 2: \")\n",
    "  m_first = wn.synset(first)[0]\n",
    "  print(m_first.hypernyms())\n",
    "  m_second = wn.synset(second)[0]\n",
    "  print(m_second.hypernyms())\n",
    "lower_common_hypernym()"
   ]
  },
  {
   "cell_type": "code",
   "execution_count": null,
   "metadata": {},
   "outputs": [],
   "source": []
  },
  {
   "cell_type": "markdown",
   "metadata": {},
   "source": [
    "### Practice Challenges"
   ]
  },
  {
   "cell_type": "code",
   "execution_count": null,
   "metadata": {},
   "outputs": [],
   "source": []
  },
  {
   "cell_type": "code",
   "execution_count": 72,
   "metadata": {},
   "outputs": [
    {
     "name": "stdout",
     "output_type": "stream",
     "text": [
      "[315, 420, 385, 735, 665]\n"
     ]
    }
   ],
   "source": [
    "# Please write a program to randomly generate a list with 5 numbers, which are divisible by 5 and 7 , between 1 and 1000 inclusive.\n",
    "\n",
    "import random\n",
    "\n",
    "print(random.sample([x for x in range(1,1001) if (x%5 == 0) and (x%7 ==0)], 5))"
   ]
  },
  {
   "cell_type": "code",
   "execution_count": 76,
   "metadata": {},
   "outputs": [
    {
     "name": "stdout",
     "output_type": "stream",
     "text": [
      "[6, 7, 3, 8]\n"
     ]
    }
   ],
   "source": [
    "# Please write a program to shuffle and print the list [3,6,7,8].\n",
    "li = [3,6,7,8]\n",
    "random.shuffle(li)\n",
    "print(li)"
   ]
  },
  {
   "cell_type": "code",
   "execution_count": 87,
   "metadata": {},
   "outputs": [
    {
     "data": {
      "text/plain": [
       "(2, 4, 6, 8, 10)"
      ]
     },
     "execution_count": 87,
     "metadata": {},
     "output_type": "execute_result"
    }
   ],
   "source": [
    "#Write a program to generate and print another tuple whose values are even numbers in the given tuple (1,2,3,4,5,6,7,8,9,10). \n",
    "\n",
    "gen = [x for x in (1,2,3,4,5,6,7,8,9,10) if x % 2 == 0]\n",
    "new_tup = tuple(gen)\n",
    "new_tup"
   ]
  },
  {
   "cell_type": "code",
   "execution_count": 94,
   "metadata": {},
   "outputs": [
    {
     "name": "stderr",
     "output_type": "stream",
     "text": [
      "UsageError: Line magic function `%%timeit` not found.\n"
     ]
    }
   ],
   "source": [
    "#Write a program to solve a classic ancient Chinese puzzle: \n",
    "#We count 35 heads and 94 legs among the chickens and rabbits in a farm. \n",
    "#How many rabbits and how many chickens do we have?\n",
    "\n",
    "def count_animals(heads, legs): \n",
    "    rabbit = int(legs/2-heads)\n",
    "    chicken = int(heads - rabbit)\n",
    "    return f'Rabbits: {rabbit}, Chickens: {chicken}'\n",
    "    \n",
    "count_animals(35, 94)"
   ]
  },
  {
   "cell_type": "code",
   "execution_count": null,
   "metadata": {},
   "outputs": [],
   "source": [
    "def solve(numheads,numlegs):\n",
    "    ns='No solutions!'\n",
    "    for i in range(numheads+1):\n",
    "        j=numheads-i\n",
    "        if 2*i+4*j==numlegs:\n",
    "            return i,j\n",
    "    return ns,ns"
   ]
  },
  {
   "cell_type": "code",
   "execution_count": 106,
   "metadata": {},
   "outputs": [
    {
     "name": "stdout",
     "output_type": "stream",
     "text": [
      "[(1, 2, 3), (1, 3, 2), (2, 1, 3), (2, 3, 1), (3, 1, 2), (3, 2, 1)]\n"
     ]
    }
   ],
   "source": [
    "#Please write a program which prints all permutations of [1,2,3]\n",
    "\n",
    "import itertools\n",
    "print(list(itertools.permutations([1,2,3])))"
   ]
  },
  {
   "cell_type": "code",
   "execution_count": 118,
   "metadata": {},
   "outputs": [
    {
     "data": {
      "text/plain": [
       "{1: 1, 2: 4, 3: 9, 4: 16, 5: 25, 6: 36, 7: 49, 8: 64}"
      ]
     },
     "execution_count": 118,
     "metadata": {},
     "output_type": "execute_result"
    }
   ],
   "source": [
    "n = 8\n",
    "{i: i*i for i in range(1, n+1)}"
   ]
  },
  {
   "cell_type": "code",
   "execution_count": 2,
   "metadata": {},
   "outputs": [
    {
     "name": "stdout",
     "output_type": "stream",
     "text": [
      "halloween\n"
     ]
    },
    {
     "data": {
      "text/plain": [
       "'neewollah'"
      ]
     },
     "execution_count": 2,
     "metadata": {},
     "output_type": "execute_result"
    }
   ],
   "source": [
    "#Please write a program which accepts a string from console and print it in reverse order.\n",
    "\n",
    "def reversed_order():\n",
    "    new_str = input()\n",
    "    new_str = new_str[::-1]\n",
    "    return new_str\n",
    "\n",
    "reversed_order()"
   ]
  },
  {
   "cell_type": "code",
   "execution_count": 6,
   "metadata": {},
   "outputs": [
    {
     "name": "stdout",
     "output_type": "stream",
     "text": [
      "noway\n"
     ]
    },
    {
     "data": {
      "text/plain": [
       "'nwy'"
      ]
     },
     "execution_count": 6,
     "metadata": {},
     "output_type": "execute_result"
    }
   ],
   "source": [
    "#Please write a program which accepts a string from console and print the characters that have even indexes.\n",
    "\n",
    "def even_index():\n",
    "    new_str = input()\n",
    "    new_str = new_str[::2]\n",
    "    return new_str\n",
    "even_index()"
   ]
  },
  {
   "cell_type": "code",
   "execution_count": 8,
   "metadata": {},
   "outputs": [
    {
     "name": "stdout",
     "output_type": "stream",
     "text": [
      "mywayisyourway\n",
      "{'m': 1, 'y': 4, 'w': 2, 'a': 2, 'i': 1, 's': 1, 'o': 1, 'u': 1, 'r': 1}\n"
     ]
    }
   ],
   "source": [
    "#Please write a program which count and print the numbers of each character in a string input by console.\n",
    "\n",
    "def count_char():\n",
    "    new_str = input()\n",
    "    new_dict = {}\n",
    "    count = 0\n",
    "    for char in new_str:\n",
    "        if char in new_dict:\n",
    "            new_dict[char] += 1\n",
    "        else: \n",
    "            new_dict[char] = 1\n",
    "    print(new_dict)\n",
    "    \n",
    "count_char()"
   ]
  },
  {
   "cell_type": "code",
   "execution_count": 9,
   "metadata": {},
   "outputs": [],
   "source": [
    "#Define a class Person and its two child classes: Male and Female. All classes have a method \"getGender\" which can print \"Male\" for Male class and \"Female\" for Female class.\n",
    "\n",
    "class Person: \n",
    "    \n",
    "    def getGender(self):\n",
    "        return unknown\n",
    "    \n",
    "class Male(Person):\n",
    "    \n",
    "    def getGender(self):\n",
    "        return \"Male\"\n",
    "        \n",
    "class Female(Person):\n",
    "\n",
    "    def getGender(self):\n",
    "        return \"Female\"\n",
    "\n",
    "    "
   ]
  },
  {
   "cell_type": "code",
   "execution_count": 16,
   "metadata": {},
   "outputs": [
    {
     "data": {
      "text/plain": [
       "[12, 24, 35, 88, 120, 155]"
      ]
     },
     "execution_count": 16,
     "metadata": {},
     "output_type": "execute_result"
    }
   ],
   "source": [
    "#With a given list [12,24,35,24,88,120,155,88,120,155], write a program to print this list after removing all duplicate values with original order reserved.\n",
    " \n",
    "def rm_dup(ls):\n",
    "    new_ls = []\n",
    "    new_set = set()\n",
    "    for item in ls: \n",
    "        if item not in new_set:\n",
    "            new_set.add(item)\n",
    "            new_ls.append(item)\n",
    "    return new_ls\n",
    "    \n",
    "ls = [12,24,35,24,88,120,155,88,120,155]\n",
    "rm_dup(ls)"
   ]
  },
  {
   "cell_type": "code",
   "execution_count": 17,
   "metadata": {},
   "outputs": [
    {
     "data": {
      "text/plain": [
       "[35]"
      ]
     },
     "execution_count": 17,
     "metadata": {},
     "output_type": "execute_result"
    }
   ],
   "source": [
    "# With two given lists [1,3,6,78,35,55] and [12,24,35,24,88,120,155], write a program to make a list whose elements are intersection of the above given lists.\n",
    "\n",
    "def intersect(l1, l2):\n",
    "    \"\"\"Take 2 lists\"\"\"\n",
    "    s1 = set(l1)\n",
    "    s2 = set(l2)\n",
    "    inter = s1.intersection(s2)\n",
    "    return list(inter)\n",
    "\n",
    "l1 = [1,3,6,78,35,55]\n",
    "l2 = [12,24,35,24,88,120,155]\n",
    "\n",
    "intersect(l1, l2)"
   ]
  },
  {
   "cell_type": "code",
   "execution_count": 18,
   "metadata": {},
   "outputs": [
    {
     "name": "stdout",
     "output_type": "stream",
     "text": [
      "[12, 35, 88, 120, 155]\n"
     ]
    }
   ],
   "source": [
    "#By using list comprehension, please write a program to print the list after removing the value 24 in [12,24,35,24,88,120,155].\n",
    "\n",
    "print([x for x in [12,24,35,24,88,120,155] if x != 24])"
   ]
  },
  {
   "cell_type": "code",
   "execution_count": 19,
   "metadata": {},
   "outputs": [
    {
     "name": "stdout",
     "output_type": "stream",
     "text": [
      "[24, 35, 70, 155]\n"
     ]
    }
   ],
   "source": [
    "#By using list comprehension, please write a program to print the list after removing the 0th,4th,5th numbers in [12,24,35,70,88,120,155].\n",
    "li = [12,24,35,70,88,120,155]\n",
    "print([x for (i,x) in enumerate(li) if i not in [0,4,5]])"
   ]
  },
  {
   "cell_type": "code",
   "execution_count": 20,
   "metadata": {},
   "outputs": [
    {
     "name": "stdout",
     "output_type": "stream",
     "text": [
      "[[[0, 0, 0, 0, 0, 0, 0, 0], [0, 0, 0, 0, 0, 0, 0, 0], [0, 0, 0, 0, 0, 0, 0, 0], [0, 0, 0, 0, 0, 0, 0, 0], [0, 0, 0, 0, 0, 0, 0, 0]], [[0, 0, 0, 0, 0, 0, 0, 0], [0, 0, 0, 0, 0, 0, 0, 0], [0, 0, 0, 0, 0, 0, 0, 0], [0, 0, 0, 0, 0, 0, 0, 0], [0, 0, 0, 0, 0, 0, 0, 0]], [[0, 0, 0, 0, 0, 0, 0, 0], [0, 0, 0, 0, 0, 0, 0, 0], [0, 0, 0, 0, 0, 0, 0, 0], [0, 0, 0, 0, 0, 0, 0, 0], [0, 0, 0, 0, 0, 0, 0, 0]]]\n"
     ]
    }
   ],
   "source": [
    "#By using list comprehension, please write a program generate a 3*5*8 3D array whose each element is 0.\n",
    "\n",
    "print([[[0 for col in range(8)] for col in range(5)] for row in range(3)])"
   ]
  },
  {
   "cell_type": "code",
   "execution_count": 22,
   "metadata": {},
   "outputs": [
    {
     "name": "stdout",
     "output_type": "stream",
     "text": [
      "I Play Hockey\n",
      "I Play Football\n",
      "I Love Hockey\n",
      "I Love Football\n",
      "You Play Hockey\n",
      "You Play Football\n",
      "You Love Hockey\n",
      "You Love Football\n"
     ]
    }
   ],
   "source": [
    "#Please write a program to generate all sentences where subject is in [\"I\", \"You\"] and verb is in [\"Play\", \"Love\"] and the object is in [\"Hockey\",\"Football\"].\n",
    "\n",
    "subjects = [\"I\", \"You\"]\n",
    "vers = [\"Play\", \"Love\"]\n",
    "objects = [\"Hockey\",\"Football\"]\n",
    "for i in range(len(subjects)):\n",
    "    for j in range(len(vers)):\n",
    "        for k in range(len(objects)): \n",
    "            print(f'{subjects[i]} {vers[j]} {objects[k]}')\n",
    "\n"
   ]
  },
  {
   "cell_type": "code",
   "execution_count": null,
   "metadata": {},
   "outputs": [],
   "source": [
    "# Please write a program to compress and decompress the string \"hello world!hello world!hello world!hello world!\".\n",
    "\n"
   ]
  },
  {
   "cell_type": "code",
   "execution_count": 100,
   "metadata": {},
   "outputs": [
    {
     "data": {
      "text/plain": [
       "'Choose a random item from range(start, stop[, step]).\\n\\nThis fixes the problem with randint() which includes the\\nendpoint; in Python this is usually not what you want.'"
      ]
     },
     "execution_count": 100,
     "metadata": {},
     "output_type": "execute_result"
    }
   ],
   "source": [
    "import inspect\n",
    "import random\n",
    "\n",
    "inspect.getdoc(random.randrange)"
   ]
  },
  {
   "cell_type": "code",
   "execution_count": null,
   "metadata": {},
   "outputs": [],
   "source": []
  }
 ],
 "metadata": {
  "kernelspec": {
   "display_name": "Python 3",
   "language": "python",
   "name": "python3"
  },
  "language_info": {
   "codemirror_mode": {
    "name": "ipython",
    "version": 3
   },
   "file_extension": ".py",
   "mimetype": "text/x-python",
   "name": "python",
   "nbconvert_exporter": "python",
   "pygments_lexer": "ipython3",
   "version": "3.6.5"
  }
 },
 "nbformat": 4,
 "nbformat_minor": 2
}
