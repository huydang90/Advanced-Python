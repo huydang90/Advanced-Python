{
 "cells": [
  {
   "cell_type": "markdown",
   "metadata": {},
   "source": [
    "## Recursion"
   ]
  },
  {
   "cell_type": "code",
   "execution_count": null,
   "metadata": {},
   "outputs": [],
   "source": []
  },
  {
   "cell_type": "code",
   "execution_count": 3,
   "metadata": {},
   "outputs": [],
   "source": [
    "# Fibonaci\n",
    "\n",
    "def fib(n: int) -> int: \n",
    "    if n < 2: \n",
    "        return n\n",
    "    return fib(n-1) + fib(n-2)"
   ]
  },
  {
   "cell_type": "code",
   "execution_count": 6,
   "metadata": {},
   "outputs": [
    {
     "name": "stdout",
     "output_type": "stream",
     "text": [
      "102334155\n"
     ]
    }
   ],
   "source": [
    "print(fib(40))"
   ]
  },
  {
   "cell_type": "code",
   "execution_count": 12,
   "metadata": {},
   "outputs": [
    {
     "name": "stdout",
     "output_type": "stream",
     "text": [
      "19.3 µs ± 2.62 µs per loop (mean ± std. dev. of 7 runs, 100000 loops each)\n"
     ]
    }
   ],
   "source": [
    "%%timeit\n",
    "from typing import Dict\n",
    "memo: Dict[int, int] = {0: 0, 1:1}\n",
    "    \n",
    "def fib3(n: int) -> int: \n",
    "    if n not in memo: \n",
    "        memo[n] = fib3(n-2) + fib3(n-1)\n",
    "    return memo[n]\n",
    "\n",
    "fib3(40)"
   ]
  },
  {
   "cell_type": "code",
   "execution_count": 10,
   "metadata": {},
   "outputs": [
    {
     "name": "stdout",
     "output_type": "stream",
     "text": [
      "21.1 µs ± 3.08 µs per loop (mean ± std. dev. of 7 runs, 100000 loops each)\n"
     ]
    }
   ],
   "source": [
    "%%timeit\n",
    "from functools import lru_cache\n",
    "\n",
    "@lru_cache(maxsize = None)\n",
    "def fib4(n: int) -> int:\n",
    "    if n < 2: \n",
    "        return n\n",
    "    return fib4(n-1) + fib4(n-2)\n",
    "\n",
    "fib4(40)"
   ]
  },
  {
   "cell_type": "code",
   "execution_count": 11,
   "metadata": {},
   "outputs": [
    {
     "name": "stdout",
     "output_type": "stream",
     "text": [
      "2.95 µs ± 288 ns per loop (mean ± std. dev. of 7 runs, 100000 loops each)\n"
     ]
    }
   ],
   "source": [
    "%%timeit\n",
    "def fib5(n: int) -> int:\n",
    "    if n == 0: return n # special case\n",
    "    last: int = 0 # initially set to fib(0)\n",
    "    next: int = 1 # initially set to fib(1)\n",
    "    for _ in range(1, n):\n",
    "        last, next = next, last + next\n",
    "    return next\n",
    "\n",
    "fib5(40)"
   ]
  },
  {
   "cell_type": "code",
   "execution_count": 17,
   "metadata": {},
   "outputs": [],
   "source": [
    "from typing import Generator\n",
    "\n",
    "def fib6(n:int) -> Generator[int, None, None]:\n",
    "    yield 0\n",
    "    if n > 0: yield 1\n",
    "    last: int = 0\n",
    "    next: int = 1\n",
    "    for _ in range(1, n):\n",
    "        last, next = next, last + next\n",
    "        yield next"
   ]
  },
  {
   "cell_type": "code",
   "execution_count": 1,
   "metadata": {},
   "outputs": [],
   "source": [
    "\n",
    "def subset(n, list): \n",
    "    total = 0\n",
    "    for i in range(list):\n",
    "        if (list[i] + list[i+1]) < n: \n",
    "            total = list[i] + list[i+1]\n",
    "        "
   ]
  },
  {
   "cell_type": "code",
   "execution_count": 10,
   "metadata": {},
   "outputs": [
    {
     "data": {
      "text/plain": [
       "3.1315929035585537"
      ]
     },
     "execution_count": 10,
     "metadata": {},
     "output_type": "execute_result"
    }
   ],
   "source": [
    "def calculate_pi(n_terms: int) -> float:\n",
    "    \"\"\"\n",
    "    Function to calculate pi based on Leibniz formula\n",
    "    \"\"\"\n",
    "    denominator: float = 4.0\n",
    "    nominator: float = 1.0\n",
    "    operator: float = 1.0\n",
    "    pi: float = 0.0\n",
    "    for _ in range(n_terms):\n",
    "        pi += operator * (denominator / nominator)\n",
    "        nominator += 2.0\n",
    "        operator *= -1.0\n",
    "    return pi\n",
    "\n",
    "calculate_pi(100)"
   ]
  },
  {
   "cell_type": "markdown",
   "metadata": {},
   "source": [
    "## Tower of Hanoi"
   ]
  },
  {
   "cell_type": "code",
   "execution_count": 11,
   "metadata": {},
   "outputs": [],
   "source": [
    "from typing import TypeVar, Generic, List\n",
    "T = TypeVar(\"T\")\n",
    "\n",
    "class Stack(Generic[T]):\n",
    "    def __init__(self) -> None:\n",
    "        self._container: List[T] = []\n",
    "    def push(self, item: T) -> None:\n",
    "        self._container.append(item)\n",
    "    def pop(self) -> T: \n",
    "        return self._container.pop()\n",
    "    def __repr__(self) -> str:\n",
    "        return repr(self._container)"
   ]
  },
  {
   "cell_type": "code",
   "execution_count": 20,
   "metadata": {},
   "outputs": [],
   "source": [
    "num_disc: int = 5\n",
    "tower_a: Stack[int] = Stack()\n",
    "tower_b: Stack[int] = Stack()\n",
    "tower_c: Stack[int] = Stack()\n",
    "for i in range(1, num_disc + 1):\n",
    "    tower_a.push(i)"
   ]
  },
  {
   "cell_type": "code",
   "execution_count": 21,
   "metadata": {},
   "outputs": [
    {
     "name": "stdout",
     "output_type": "stream",
     "text": [
      "[1, 2, 3, 4, 5]\n"
     ]
    }
   ],
   "source": [
    "print(tower_a)"
   ]
  },
  {
   "cell_type": "code",
   "execution_count": 22,
   "metadata": {},
   "outputs": [],
   "source": [
    "def hanoi(begin: Stack[int], end: Stack[int], temp: Stack[int], n: int) -> None: \n",
    "    if n == 1: \n",
    "        end.push(begin.pop())\n",
    "    else: \n",
    "        hanoi(begin, temp, end, n-1)\n",
    "        hanoi(begin, end, temp, 1)\n",
    "        hanoi(temp, end, begin, n-1)"
   ]
  },
  {
   "cell_type": "code",
   "execution_count": 23,
   "metadata": {},
   "outputs": [],
   "source": [
    "hanoi(tower_a, tower_c, tower_b, num_disc)"
   ]
  },
  {
   "cell_type": "code",
   "execution_count": 24,
   "metadata": {},
   "outputs": [
    {
     "name": "stdout",
     "output_type": "stream",
     "text": [
      "[]\n",
      "[]\n",
      "[1, 2, 3, 4, 5]\n"
     ]
    }
   ],
   "source": [
    "print(tower_a)\n",
    "print(tower_b)\n",
    "print(tower_c)"
   ]
  },
  {
   "cell_type": "markdown",
   "metadata": {},
   "source": [
    "## Search problems"
   ]
  },
  {
   "cell_type": "code",
   "execution_count": 26,
   "metadata": {},
   "outputs": [
    {
     "name": "stdout",
     "output_type": "stream",
     "text": [
      "[2, 4, 5, 10, 23, 39, 65, 121, 2324, 23332, 34345]\n"
     ]
    }
   ],
   "source": [
    "#quicksort\n",
    "\n",
    "def quicksort(array):\n",
    "    if len(array) < 2:\n",
    "        return array\n",
    "    else:\n",
    "        pivot = array[0]\n",
    "        less = [i for i in array[1:] if i <= pivot] \n",
    "        greater = [i for i in array[1:] if i > pivot]\n",
    "        return quicksort(less) + [pivot] + quicksort(greater)\n",
    "    \n",
    "print(quicksort([10, 5, 2, 4, 23, 65, 39, 23332, 121, 2324, 34345]))"
   ]
  },
  {
   "cell_type": "markdown",
   "metadata": {},
   "source": [
    "## Selection Sort\n",
    "\n",
    "Computer's memory is a giant set of drawers. To store multiple elements, use an array or a list.\n",
    "\n",
    "Array: tasks are stored contiguously (right next to each other) in memory => fast reads (all elements should be same type)\n",
    "\n",
    "Linked list: items can be anywhere in memory. Each item stores the address of the next item in the list. A bunch of random memory addresses are linked together. => fast inserts and deletes"
   ]
  },
  {
   "cell_type": "code",
   "execution_count": 36,
   "metadata": {},
   "outputs": [],
   "source": [
    "def findSmallest(arr):\n",
    "    smallest = arr[0]\n",
    "    smallest_index = 0\n",
    "    for i in range(1, len(arr)):\n",
    "        if arr[i] < smallest:\n",
    "            smallest = arr[i]\n",
    "            smallest_index = i\n",
    "    return smallest_index"
   ]
  },
  {
   "cell_type": "code",
   "execution_count": 37,
   "metadata": {},
   "outputs": [],
   "source": [
    "def selectionSort(arr):\n",
    "    newArr = []\n",
    "    for i in range(len(arr)):\n",
    "        smallest = findSmallest(arr)\n",
    "        newArr.append(arr.pop(smallest))\n",
    "    return newArr"
   ]
  },
  {
   "cell_type": "code",
   "execution_count": 38,
   "metadata": {},
   "outputs": [
    {
     "name": "stdout",
     "output_type": "stream",
     "text": [
      "[2, 3, 5, 6, 10]\n"
     ]
    }
   ],
   "source": [
    "print(selectionSort([5,3,6,2,10]))"
   ]
  },
  {
   "cell_type": "code",
   "execution_count": 39,
   "metadata": {},
   "outputs": [],
   "source": [
    "def findBiggest(arr):\n",
    "    biggest = arr[0]\n",
    "    biggest_index = 0\n",
    "    for i in range(1, len(arr)):\n",
    "        if arr[i] > biggest:\n",
    "            biggest = arr[i]\n",
    "            biggest_index = i\n",
    "    return biggest_index"
   ]
  },
  {
   "cell_type": "code",
   "execution_count": 40,
   "metadata": {},
   "outputs": [
    {
     "name": "stdout",
     "output_type": "stream",
     "text": [
      "[10, 6, 5, 3, 2]\n"
     ]
    }
   ],
   "source": [
    "def selectionSort(arr):\n",
    "    newArr = []\n",
    "    for i in range(len(arr)):\n",
    "        biggest = findBiggest(arr)\n",
    "        newArr.append(arr.pop(biggest))\n",
    "    return newArr\n",
    "\n",
    "print(selectionSort([5,3,6,2,10]))"
   ]
  },
  {
   "cell_type": "markdown",
   "metadata": {},
   "source": [
    "## Recursion\n",
    "\n",
    "Call stack: a data structure like a sticky note pad, when you insert an item, it gets added to the top of the list. When you read an item, you only read the topmost item, and it's taken off the list. So your todo list has only two actions: push (insert) and pop (remove and read). \n",
    "\n",
    "Using stack is convenient since you don't have to keep track of all information. But there's a cost, saving all that info can take up a lot of memory. Each of function calls take up some meory and when stack is too tall, that means computer is saving info for many function calls.\n",
    "\n",
    "- Recursion is when a function calls itself. \n",
    "- Every recursive function has two cases: the base case and the recursive case\n",
    "- A stack has two operations: push and pop\n",
    "- All function calls go onto the call stack\n",
    "- The call stack can get very large which takes up lots of memory"
   ]
  },
  {
   "cell_type": "code",
   "execution_count": 43,
   "metadata": {},
   "outputs": [
    {
     "data": {
      "text/plain": [
       "120"
      ]
     },
     "execution_count": 43,
     "metadata": {},
     "output_type": "execute_result"
    }
   ],
   "source": [
    "def factorial(n):\n",
    "    if n == 1:\n",
    "        return 1\n",
    "    else:\n",
    "        return n*factorial(n-1)\n",
    "    \n",
    "factorial(5)"
   ]
  },
  {
   "cell_type": "markdown",
   "metadata": {},
   "source": [
    "## Quicksort\n",
    "\n",
    "Divide and conquer: a well-known recursive technique for solving problems by breaking it down into smaller and smaller pieces. If you're using D&C on a list, the base case is probably an empty arry or an array with one element. \n",
    "1. Figure out a simple case as the base case.\n",
    "2. Figure out how to reduce problem and get to the base case.\n"
   ]
  },
  {
   "cell_type": "code",
   "execution_count": 47,
   "metadata": {},
   "outputs": [
    {
     "data": {
      "text/plain": [
       "12"
      ]
     },
     "execution_count": 47,
     "metadata": {},
     "output_type": "execute_result"
    }
   ],
   "source": [
    "#summation with recursion\n",
    "\n",
    "def sum_rec(arr):\n",
    "    if len(arr) == 0: #base case\n",
    "        return 0\n",
    "    else: \n",
    "        return arr[0] + sum_rec(arr[1:]) \n",
    "    \n",
    "sum_rec([2,4,6])"
   ]
  },
  {
   "cell_type": "code",
   "execution_count": 51,
   "metadata": {},
   "outputs": [
    {
     "name": "stdout",
     "output_type": "stream",
     "text": [
      "[2, 4, 5, 10, 23, 39, 65, 121, 2324, 23332, 34345]\n"
     ]
    }
   ],
   "source": [
    "#quicksort\n",
    "\n",
    "#choose a random element as the pivot. The avg runtime of quicksort is O(nlogn)\n",
    "#the constant in Big O notation can matter sometimes. That's why quicksort is faster than merge sort. \n",
    "#the constant never matters for simple search vs. binary search because O(logn) is so much faster than O(n) when list gets big\n",
    "\n",
    "def quicksort(array):\n",
    "    if len(array) < 2:\n",
    "        return array\n",
    "    else:\n",
    "        pivot = array[0]\n",
    "        less = [i for i in array[1:] if i <= pivot] \n",
    "        greater = [i for i in array[1:] if i > pivot]\n",
    "        return quicksort(less) + [pivot] + quicksort(greater)\n",
    "    \n",
    "print(quicksort([10, 5, 2, 4, 23, 65, 39, 23332, 121, 2324, 34345]))"
   ]
  },
  {
   "cell_type": "markdown",
   "metadata": {},
   "source": [
    "## Hash Table\n",
    "\n",
    "Hash function: a function where you put in a string and get back a number => maps string to numbers\n",
    "- Consistently maps a name to the same index\n",
    "- Maps different strings to different indexes\n",
    "- Knows how big the array is and only returns valid indexes\n",
    "\n",
    "Has table = hash function + array. Hash table use a hash function to intelligently figure out where to store elements. Has tables use an array to store data. \n",
    "- Fast search, insert and delete\n",
    "\n",
    "Use case: \n",
    "- Create mapping of one thing to another/model relationships one one item to another item\n",
    "- Look something up \n",
    "- Filtering out duplicates\n",
    "- Work as a cache (get web page a lot faster)/memorizing data instead of making your server do work \n",
    "\n",
    "Collision: when two keys assigned same slot. Solution: if multiple keys map to the same slot, start a linked list at that slot\n",
    "\n",
    "Load factor: number of items in has table/total number of slots. To avoid collision, need low load factor and a good hash function. (once load factor > 0.7, time to resize hash table)"
   ]
  },
  {
   "cell_type": "markdown",
   "metadata": {},
   "source": [
    "## Breadth-first search - Graphs\n",
    "\n",
    "What is the shortest path from A to B? \n",
    "\n",
    "Model relationship with graphs & breadth-first search to find shortest distance between two things.\n",
    "\n",
    "A graph models a set of connection, made up of nodes and edges. A node can be directly connected to many other nodes (its neighbors)\n",
    "=> a way to model how different things are connected to one another. \n",
    "\n",
    "Breadth-first search: search radiates out from the starting point => check first degree connection before second-degree => find connection closest that satisfy the criteria => find path from A to B and that path is the shortest\n",
    "\n",
    "Queue: like a queue\n",
    "- Similar to stacks = LIFO data structure = Last In, First Out. Queue = FIFO = First in, First Out\n",
    "- Can't access random elements in the queue\n",
    "- Two only operations: enqueue and dequeue"
   ]
  },
  {
   "cell_type": "code",
   "execution_count": 71,
   "metadata": {},
   "outputs": [],
   "source": [
    "# How to map a node to neighbors in Python data structure: hash table\n",
    "\n",
    "graph = {}\n",
    "graph[\"you\"] = [\"alice\", \"bob\", \"claire\"]\n",
    "graph[\"bob\"] = [\"anuj\", \"peggy\"]\n",
    "graph[\"alice\"] = [\"peggy\"]\n",
    "graph[\"claire\"] = [\"thom\", \"johnny\"]\n",
    "graph[\"anuj\"] = []\n",
    "graph[\"peggy\"] = []\n",
    "graph[\"thom\"] = []\n",
    "graph[\"johnny\"] = []\n"
   ]
  },
  {
   "cell_type": "code",
   "execution_count": 67,
   "metadata": {},
   "outputs": [],
   "source": [
    "#create queue\n",
    "\n",
    "from collections import deque\n",
    "search_queue = deque()\n",
    "search_queue += graph[\"you\"]"
   ]
  },
  {
   "cell_type": "code",
   "execution_count": 72,
   "metadata": {},
   "outputs": [],
   "source": [
    "def person_is_seller(name):\n",
    "    return name[-1] == 'm'"
   ]
  },
  {
   "cell_type": "code",
   "execution_count": 69,
   "metadata": {},
   "outputs": [
    {
     "name": "stdout",
     "output_type": "stream",
     "text": [
      "thom is a mango seller\n"
     ]
    }
   ],
   "source": [
    "while search_queue:  # while queue isn't empty\n",
    "    person = search_queue.popleft() # grab first person off the queue\n",
    "    if person_is_seller(person):\n",
    "        print(person + ' is a mango seller')\n",
    "    else: \n",
    "        search_queue += graph[person] # add this person's friends to the search queue"
   ]
  },
  {
   "cell_type": "code",
   "execution_count": 75,
   "metadata": {},
   "outputs": [
    {
     "ename": "TypeError",
     "evalue": "'builtin_function_or_method' object is not subscriptable",
     "output_type": "error",
     "traceback": [
      "\u001b[0;31m---------------------------------------------------------------------------\u001b[0m",
      "\u001b[0;31mTypeError\u001b[0m                                 Traceback (most recent call last)",
      "\u001b[0;32m<ipython-input-75-e122b138fb4e>\u001b[0m in \u001b[0;36m<module>\u001b[0;34m\u001b[0m\n\u001b[1;32m     16\u001b[0m                 \u001b[0msearched\u001b[0m\u001b[0;34m.\u001b[0m\u001b[0mappend\u001b[0m\u001b[0;34m(\u001b[0m\u001b[0mperson\u001b[0m\u001b[0;34m)\u001b[0m\u001b[0;34m\u001b[0m\u001b[0m\n\u001b[1;32m     17\u001b[0m     \u001b[0;32mreturn\u001b[0m \u001b[0;32mFalse\u001b[0m\u001b[0;34m\u001b[0m\u001b[0m\n\u001b[0;32m---> 18\u001b[0;31m \u001b[0msearch\u001b[0m\u001b[0;34m(\u001b[0m\u001b[0;34m\"you\"\u001b[0m\u001b[0;34m)\u001b[0m\u001b[0;34m\u001b[0m\u001b[0m\n\u001b[0m",
      "\u001b[0;32m<ipython-input-75-e122b138fb4e>\u001b[0m in \u001b[0;36msearch\u001b[0;34m(name)\u001b[0m\n\u001b[1;32m      9\u001b[0m         \u001b[0mperson\u001b[0m \u001b[0;34m=\u001b[0m \u001b[0msearch_queue\u001b[0m\u001b[0;34m.\u001b[0m\u001b[0mpop\u001b[0m\u001b[0;34m\u001b[0m\u001b[0m\n\u001b[1;32m     10\u001b[0m         \u001b[0;32mif\u001b[0m \u001b[0;32mnot\u001b[0m \u001b[0mperson\u001b[0m \u001b[0;32min\u001b[0m \u001b[0msearched\u001b[0m\u001b[0;34m:\u001b[0m\u001b[0;34m\u001b[0m\u001b[0m\n\u001b[0;32m---> 11\u001b[0;31m             \u001b[0;32mif\u001b[0m \u001b[0mperson_is_seller\u001b[0m\u001b[0;34m(\u001b[0m\u001b[0mperson\u001b[0m\u001b[0;34m)\u001b[0m\u001b[0;34m:\u001b[0m\u001b[0;34m\u001b[0m\u001b[0m\n\u001b[0m\u001b[1;32m     12\u001b[0m                 \u001b[0mprint\u001b[0m\u001b[0;34m(\u001b[0m\u001b[0mperson\u001b[0m \u001b[0;34m+\u001b[0m \u001b[0;34m' is a mango seller'\u001b[0m\u001b[0;34m)\u001b[0m\u001b[0;34m\u001b[0m\u001b[0m\n\u001b[1;32m     13\u001b[0m                 \u001b[0;32mreturn\u001b[0m \u001b[0;32mTrue\u001b[0m\u001b[0;34m\u001b[0m\u001b[0m\n",
      "\u001b[0;32m<ipython-input-75-e122b138fb4e>\u001b[0m in \u001b[0;36mperson_is_seller\u001b[0;34m(name)\u001b[0m\n\u001b[1;32m      1\u001b[0m \u001b[0;32mdef\u001b[0m \u001b[0mperson_is_seller\u001b[0m\u001b[0;34m(\u001b[0m\u001b[0mname\u001b[0m\u001b[0;34m)\u001b[0m\u001b[0;34m:\u001b[0m\u001b[0;34m\u001b[0m\u001b[0m\n\u001b[0;32m----> 2\u001b[0;31m     \u001b[0;32mreturn\u001b[0m \u001b[0mname\u001b[0m\u001b[0;34m[\u001b[0m\u001b[0;34m-\u001b[0m\u001b[0;36m1\u001b[0m\u001b[0;34m]\u001b[0m \u001b[0;34m==\u001b[0m \u001b[0;34m'm'\u001b[0m\u001b[0;34m\u001b[0m\u001b[0m\n\u001b[0m\u001b[1;32m      3\u001b[0m \u001b[0;34m\u001b[0m\u001b[0m\n\u001b[1;32m      4\u001b[0m \u001b[0;32mdef\u001b[0m \u001b[0msearch\u001b[0m\u001b[0;34m(\u001b[0m\u001b[0mname\u001b[0m\u001b[0;34m)\u001b[0m\u001b[0;34m:\u001b[0m\u001b[0;34m\u001b[0m\u001b[0m\n\u001b[1;32m      5\u001b[0m     \u001b[0msearch_queue\u001b[0m \u001b[0;34m=\u001b[0m \u001b[0mdeque\u001b[0m\u001b[0;34m(\u001b[0m\u001b[0;34m)\u001b[0m\u001b[0;34m\u001b[0m\u001b[0m\n",
      "\u001b[0;31mTypeError\u001b[0m: 'builtin_function_or_method' object is not subscriptable"
     ]
    }
   ],
   "source": [
    "def search(name):\n",
    "    search_queue = deque()\n",
    "    search_queue += graph[name]\n",
    "    searched = []\n",
    "    while search_queue:  \n",
    "        person = search_queue.pop\n",
    "        if not person in searched:    \n",
    "            if person_is_seller(person):\n",
    "                print(person + ' is a mango seller')\n",
    "                return True\n",
    "            else: \n",
    "                search_queue += graph[person]\n",
    "                searched.append(person)\n",
    "    return False\n",
    "search(\"you\")"
   ]
  },
  {
   "cell_type": "markdown",
   "metadata": {},
   "source": [
    "## Dijkstra's Algorithm\n",
    "\n",
    "What's the shortest path to X for weighted graphs? \n",
    "\n",
    "4 steps to Dijkstra's algorithm: \n",
    "1. Find the 'cheapest' node. This is the node you can get to in the least amount of time\n",
    "2. Update the costs of the neighbors of this node\n",
    "3. Repeat until every node in the graph is done\n",
    "4. Calculate the final path \n",
    "\n",
    "Note: \n",
    "- To calculate shortest path in unweighted graph, use breadth-first search\n",
    "- To calculate shortest path in weighted graph, use Dijkstra's algorithm \n",
    "- Dijkstra's algorithm only works with DAGs (directed but no cycle)\n",
    "- Dijkstra's algorithm does not work with negative weighted edges => Use Bellman-Ford algorithm\n",
    "\n",
    "\n",
    "Example: trading for a piano, finding path with shortest travel time"
   ]
  },
  {
   "cell_type": "code",
   "execution_count": 88,
   "metadata": {},
   "outputs": [],
   "source": [
    "graph['start'] = {}\n",
    "graph['start']['a'] = 6\n",
    "graph['start']['b'] = 2\n",
    "graph['a'] = {}\n",
    "graph['a']['fin'] = 1\n",
    "graph['b'] = {}\n",
    "graph['b']['a'] = 3\n",
    "graph['b']['fin'] = 5\n",
    "graph['fin'] = {} # finish node doesn't have any neighbors"
   ]
  },
  {
   "cell_type": "code",
   "execution_count": 89,
   "metadata": {},
   "outputs": [],
   "source": [
    "#make cost hash table\n",
    "infinity = float('inf')\n",
    "costs = {}\n",
    "costs['a'] = 6\n",
    "costs['b'] = 2\n",
    "costs['fin'] = infinity"
   ]
  },
  {
   "cell_type": "code",
   "execution_count": 90,
   "metadata": {},
   "outputs": [],
   "source": [
    "#make hash table for parents\n",
    "\n",
    "parents = {}\n",
    "parents['a'] = 'start'\n",
    "parents['b'] = 'start'\n",
    "parents['fin'] = None\n",
    "\n",
    "#an array to keep track of all the nodes already processed\n",
    "processed = []"
   ]
  },
  {
   "cell_type": "code",
   "execution_count": 94,
   "metadata": {},
   "outputs": [
    {
     "name": "stdout",
     "output_type": "stream",
     "text": [
      "None\n"
     ]
    }
   ],
   "source": [
    "def find_lowest_cost_node(costs):\n",
    "    lowest_cost = float('inf')\n",
    "    lowest_cost_node = None\n",
    "    for node in costs:\n",
    "        cost = costs[node]\n",
    "        if cost < lowest_cost and node not in processed:\n",
    "            lowest_cost = cost\n",
    "            lowest_cost_node = node\n",
    "    return lowest_cost_node\n",
    "\n",
    "node = find_lowest_cost_node(costs) #find lowest cost node that you haven't processed yet\n",
    "\n",
    "while node is not None:\n",
    "    cost = costs[node]\n",
    "    neighbors = graph[node]\n",
    "    for n in neighbors.keys():\n",
    "        new_cost = cost + neighbors[n]\n",
    "        if costs[n] > new_cost:\n",
    "            costs[n] = new_cost\n",
    "            parents[n] = node\n",
    "    processed.append(node)\n",
    "    node = find_lowest_cost_node(costs)\n",
    "    \n",
    "print(node)"
   ]
  },
  {
   "cell_type": "markdown",
   "metadata": {},
   "source": [
    "## Greedy Algorithm\n",
    "\n",
    "Tackle the impossible: no fast algorithmic solution to NP-complete problems => can approximate solution\n",
    "=> Greedy algorithm: at each step, pick the locally optimal solution => in the end, left with the globally optimal solution \n",
    "\n",
    "- Knapsack problem: how to choose items to steal for a limited bag (constraint)\n",
    "\n",
    "- Set covering problem: how to reach listeners in 50 states by combining different stations (which covers multiple states, and there's overlaps)\n",
    "\n",
    "Solution:\n",
    "\n",
    "1. List every possible subset of stations => power set => 2^n possible subsets\n",
    "2. From these, pick the set with the smallest number of stations that covers all 50 states \n",
    "=> O(2^n) time\n",
    "\n",
    "Approximation algorithms (greedy):\n",
    "1. Pick station that covers the most states that haven't been covered yet. It's OK if there's overlap\n",
    "2. Repeat until all states are covered\n",
    "=> O(n^2) time (n: number of radio stations)\n",
    "\n",
    "- Travelling salesman problem: find the shortest route through all cities => have to calculate every possible routes => combination is factorial\n",
    "\n",
    "Solution: approximating algorithm - arbitraily pick a start city. Each time the salesperson has to pick the next city to visit, they pick the cloest unvisited city. \n",
    "\n",
    "How to tell if a problem is NP-complete:\n",
    "- Algorithm runs quickly with handful of items but slows down with more items;\n",
    "- 'All combination of X' => usually an NP-complete problem\n",
    "- \"Every possible version of X\" => Might be NP-complete\n",
    "- Involve a sequence (of cities like traveling salesman) => hard to solve => NP-complete\n",
    "- Involve a set (set of radio stations) and hard to solve => might be NP-complete\n",
    "- Problem can be restated as the set covering problem or traveling salesman problem => NP-complete\n",
    "\n",
    "=> Thin line between solvable problem and NP-complete"
   ]
  },
  {
   "cell_type": "code",
   "execution_count": 96,
   "metadata": {},
   "outputs": [
    {
     "name": "stdout",
     "output_type": "stream",
     "text": [
      "{'kone', 'ktwo', 'kthree', 'kfive'}\n"
     ]
    }
   ],
   "source": [
    "states_needed = set(['mt', 'wa', 'or', 'id', 'nv', 'ut', 'ca', 'az']) # creating the set => sets cannot have duplicates\n",
    "\n",
    "stations = {}\n",
    "stations['kone'] = set(['id', 'nv', 'ut'])\n",
    "stations['ktwo'] = set(['wa', 'id', 'mt'])\n",
    "stations['kthree'] = set(['or', 'nv', 'ca'])\n",
    "stations['kfour'] = set(['nv', 'ut'])\n",
    "stations['kfive'] = set(['ca', 'az'])\n",
    "\n",
    "final_stations = set() \n",
    "\n",
    "while states_needed:\n",
    "    best_station = None  #covers the most uncovered states\n",
    "    states_covered = set()\n",
    "    for station, states in stations.items():\n",
    "        covered = states_needed & states\n",
    "        if len(covered) > len(states_covered):\n",
    "            best_station = station\n",
    "            states_covered = covered\n",
    "    states_needed -= states_covered\n",
    "    final_stations.add(best_station)\n",
    "\n",
    "print(final_stations)"
   ]
  },
  {
   "cell_type": "markdown",
   "metadata": {},
   "source": [
    "## Dynamic Programming\n",
    "\n",
    "- Useful when trying to optimize something given a constraint\n",
    "- When problem can be broken down into discrete subproblems\n",
    "- Every dynamic programming solution involves a grid\n",
    "- Values in the cells are usually what you're trying to optimize\n",
    "- Each cell is a subproblem, so think about how to divide the problem into subproblems\n",
    "- No single formula for calculating a dynamic-programming solution"
   ]
  },
  {
   "cell_type": "code",
   "execution_count": null,
   "metadata": {},
   "outputs": [],
   "source": []
  }
 ],
 "metadata": {
  "kernelspec": {
   "display_name": "Python 3",
   "language": "python",
   "name": "python3"
  },
  "language_info": {
   "codemirror_mode": {
    "name": "ipython",
    "version": 3
   },
   "file_extension": ".py",
   "mimetype": "text/x-python",
   "name": "python",
   "nbconvert_exporter": "python",
   "pygments_lexer": "ipython3",
   "version": "3.6.5"
  }
 },
 "nbformat": 4,
 "nbformat_minor": 2
}
